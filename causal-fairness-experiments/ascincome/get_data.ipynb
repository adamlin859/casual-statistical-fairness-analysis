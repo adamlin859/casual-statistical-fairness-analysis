{
 "cells": [
  {
   "cell_type": "code",
   "execution_count": 1,
   "metadata": {},
   "outputs": [
    {
     "name": "stdout",
     "output_type": "stream",
     "text": [
      "Collecting folktables\n",
      "  Using cached folktables-0.0.11.tar.gz (10 kB)\n",
      "  Preparing metadata (setup.py) ... \u001b[?25ldone\n",
      "\u001b[?25hRequirement already satisfied: numpy in /Users/adam/opt/anaconda3/envs/ptb/lib/python3.10/site-packages (from folktables) (1.22.3)\n",
      "Requirement already satisfied: pandas in /Users/adam/opt/anaconda3/envs/ptb/lib/python3.10/site-packages (from folktables) (1.4.2)\n",
      "Requirement already satisfied: requests in /Users/adam/opt/anaconda3/envs/ptb/lib/python3.10/site-packages (from folktables) (2.28.1)\n",
      "Collecting sklearn\n",
      "  Using cached sklearn-0.0.post1.tar.gz (3.6 kB)\n",
      "  Preparing metadata (setup.py) ... \u001b[?25ldone\n",
      "\u001b[?25hRequirement already satisfied: python-dateutil>=2.8.1 in /Users/adam/opt/anaconda3/envs/ptb/lib/python3.10/site-packages (from pandas->folktables) (2.8.2)\n",
      "Requirement already satisfied: pytz>=2020.1 in /Users/adam/opt/anaconda3/envs/ptb/lib/python3.10/site-packages (from pandas->folktables) (2022.1)\n",
      "Requirement already satisfied: idna<4,>=2.5 in /Users/adam/opt/anaconda3/envs/ptb/lib/python3.10/site-packages (from requests->folktables) (3.3)\n",
      "Requirement already satisfied: urllib3<1.27,>=1.21.1 in /Users/adam/opt/anaconda3/envs/ptb/lib/python3.10/site-packages (from requests->folktables) (1.26.10)\n",
      "Requirement already satisfied: charset-normalizer<3,>=2 in /Users/adam/opt/anaconda3/envs/ptb/lib/python3.10/site-packages (from requests->folktables) (2.1.0)\n",
      "Requirement already satisfied: certifi>=2017.4.17 in /Users/adam/opt/anaconda3/envs/ptb/lib/python3.10/site-packages (from requests->folktables) (2022.6.15)\n",
      "Requirement already satisfied: six>=1.5 in /Users/adam/opt/anaconda3/envs/ptb/lib/python3.10/site-packages (from python-dateutil>=2.8.1->pandas->folktables) (1.16.0)\n",
      "Building wheels for collected packages: folktables, sklearn\n",
      "  Building wheel for folktables (setup.py) ... \u001b[?25ldone\n",
      "\u001b[?25h  Created wheel for folktables: filename=folktables-0.0.11-py3-none-any.whl size=6772 sha256=6e457fc5816c2fbecd0797e6868e29e4f14b984b4c0fe4996ddc05ab00dae77f\n",
      "  Stored in directory: /Users/adam/Library/Caches/pip/wheels/b0/55/08/c44fa7858e770975969422daf5b81afee02b38d343e6dd651d\n",
      "  Building wheel for sklearn (setup.py) ... \u001b[?25ldone\n",
      "\u001b[?25h  Created wheel for sklearn: filename=sklearn-0.0.post1-py3-none-any.whl size=2959 sha256=8fd8d85966d2d65ebd8342ba1f415039c9b49f0d0b1c31c71366551098491956\n",
      "  Stored in directory: /Users/adam/Library/Caches/pip/wheels/c5/88/35/cc8a1e198b27a1d3d9d3f9b30090b9d5531778847835472ec4\n",
      "Successfully built folktables sklearn\n",
      "Installing collected packages: sklearn, folktables\n",
      "Successfully installed folktables-0.0.11 sklearn-0.0.post1\n"
     ]
    }
   ],
   "source": [
    "!pip install folktables\n"
   ]
  },
  {
   "cell_type": "code",
   "execution_count": 3,
   "metadata": {},
   "outputs": [
    {
     "name": "stdout",
     "output_type": "stream",
     "text": [
      "Collecting us\n",
      "  Downloading us-2.0.2.tar.gz (14 kB)\n",
      "  Preparing metadata (setup.py) ... \u001b[?25ldone\n",
      "\u001b[?25hCollecting jellyfish==0.6.1\n",
      "  Downloading jellyfish-0.6.1.tar.gz (132 kB)\n",
      "\u001b[2K     \u001b[90m━━━━━━━━━━━━━━━━━━━━━━━━━━━━━━━━━━━━━━━\u001b[0m \u001b[32m132.6/132.6 KB\u001b[0m \u001b[31m3.1 MB/s\u001b[0m eta \u001b[36m0:00:00\u001b[0ma \u001b[36m0:00:01\u001b[0m\n",
      "\u001b[?25h  Preparing metadata (setup.py) ... \u001b[?25ldone\n",
      "\u001b[?25hBuilding wheels for collected packages: us, jellyfish\n",
      "  Building wheel for us (setup.py) ... \u001b[?25ldone\n",
      "\u001b[?25h  Created wheel for us: filename=us-2.0.2-py3-none-any.whl size=11942 sha256=cf1f77ef98865c7ab8ec3384a3dfef6cf6a95f2b4abed5cdae4855e0111c1b78\n",
      "  Stored in directory: /Users/adam/Library/Caches/pip/wheels/b0/2a/8b/46c38c4bc2d65459d10a393292c197faf7d1071bc6177f84a4\n",
      "  Building wheel for jellyfish (setup.py) ... \u001b[?25ldone\n",
      "\u001b[?25h  Created wheel for jellyfish: filename=jellyfish-0.6.1-cp310-cp310-macosx_10_9_x86_64.whl size=22562 sha256=348bed07d4cc6f1a321b448d04003902642cfdae43433ac4390d5dc18a9c5704\n",
      "  Stored in directory: /Users/adam/Library/Caches/pip/wheels/b4/50/f2/2a1bd2c756df70adc1f703e09453b6f68255385789b32107ae\n",
      "Successfully built us jellyfish\n",
      "Installing collected packages: jellyfish, us\n",
      "Successfully installed jellyfish-0.6.1 us-2.0.2\n"
     ]
    }
   ],
   "source": [
    "!pip install us"
   ]
  },
  {
   "cell_type": "code",
   "execution_count": 4,
   "metadata": {},
   "outputs": [],
   "source": [
    "from folktables import ACSDataSource, ACSIncome\n",
    "from sklearn.preprocessing import LabelEncoder\n",
    "import us\n",
    "import numpy as np\n",
    "import pandas as pd"
   ]
  },
  {
   "cell_type": "code",
   "execution_count": 5,
   "metadata": {},
   "outputs": [],
   "source": [
    "import us"
   ]
  },
  {
   "cell_type": "code",
   "execution_count": 6,
   "metadata": {},
   "outputs": [
    {
     "name": "stdout",
     "output_type": "stream",
     "text": [
      "Downloading data for 2018 1-Year person survey for AL...\n",
      "Downloading data for 2018 1-Year person survey for AK...\n",
      "Downloading data for 2018 1-Year person survey for AZ...\n",
      "Downloading data for 2018 1-Year person survey for AR...\n",
      "Downloading data for 2018 1-Year person survey for CA...\n",
      "Downloading data for 2018 1-Year person survey for CO...\n",
      "Downloading data for 2018 1-Year person survey for CT...\n",
      "Downloading data for 2018 1-Year person survey for DE...\n",
      "Downloading data for 2018 1-Year person survey for FL...\n",
      "Downloading data for 2018 1-Year person survey for GA...\n",
      "Downloading data for 2018 1-Year person survey for HI...\n",
      "Downloading data for 2018 1-Year person survey for ID...\n",
      "Downloading data for 2018 1-Year person survey for IL...\n",
      "Downloading data for 2018 1-Year person survey for IN...\n",
      "Downloading data for 2018 1-Year person survey for IA...\n",
      "Downloading data for 2018 1-Year person survey for KS...\n",
      "Downloading data for 2018 1-Year person survey for KY...\n",
      "Downloading data for 2018 1-Year person survey for LA...\n",
      "Downloading data for 2018 1-Year person survey for ME...\n",
      "Downloading data for 2018 1-Year person survey for MD...\n",
      "Downloading data for 2018 1-Year person survey for MA...\n",
      "Downloading data for 2018 1-Year person survey for MI...\n",
      "Downloading data for 2018 1-Year person survey for MN...\n",
      "Downloading data for 2018 1-Year person survey for MS...\n",
      "Downloading data for 2018 1-Year person survey for MO...\n",
      "Downloading data for 2018 1-Year person survey for MT...\n",
      "Downloading data for 2018 1-Year person survey for NE...\n",
      "Downloading data for 2018 1-Year person survey for NV...\n",
      "Downloading data for 2018 1-Year person survey for NH...\n",
      "Downloading data for 2018 1-Year person survey for NJ...\n",
      "Downloading data for 2018 1-Year person survey for NM...\n",
      "Downloading data for 2018 1-Year person survey for NY...\n",
      "Downloading data for 2018 1-Year person survey for NC...\n",
      "Downloading data for 2018 1-Year person survey for ND...\n",
      "Downloading data for 2018 1-Year person survey for OH...\n",
      "Downloading data for 2018 1-Year person survey for OK...\n",
      "Downloading data for 2018 1-Year person survey for OR...\n",
      "Downloading data for 2018 1-Year person survey for PA...\n",
      "Downloading data for 2018 1-Year person survey for RI...\n",
      "Downloading data for 2018 1-Year person survey for SC...\n",
      "Downloading data for 2018 1-Year person survey for SD...\n",
      "Downloading data for 2018 1-Year person survey for TN...\n",
      "Downloading data for 2018 1-Year person survey for TX...\n",
      "Downloading data for 2018 1-Year person survey for UT...\n",
      "Downloading data for 2018 1-Year person survey for VT...\n",
      "Downloading data for 2018 1-Year person survey for VA...\n",
      "Downloading data for 2018 1-Year person survey for WA...\n",
      "Downloading data for 2018 1-Year person survey for WV...\n",
      "Downloading data for 2018 1-Year person survey for WI...\n",
      "Downloading data for 2018 1-Year person survey for WY...\n"
     ]
    }
   ],
   "source": [
    "states = [state.abbr for state in us.states.STATES]\n",
    "data_source = ACSDataSource(survey_year='2018', horizon='1-Year', survey='person')\n",
    "data = data_source.get_data(states=states, download=True)\n",
    "features, labels, _ = ACSIncome.df_to_numpy(data)\n"
   ]
  },
  {
   "cell_type": "code",
   "execution_count": 8,
   "metadata": {},
   "outputs": [],
   "source": [
    "features, labels, _ = ACSIncome.df_to_numpy(data)"
   ]
  },
  {
   "cell_type": "code",
   "execution_count": 9,
   "metadata": {},
   "outputs": [],
   "source": [
    "# save as pandas dataframe\n",
    "data_cat = np.c_[features, labels]\n",
    "feats = ['AGEP', 'COW', 'SCHL', 'MAR', 'OCCP', 'POBP', 'RELP', 'WKHP', 'SEX', 'RAC1P', 'INCOME']\n",
    "df = pd.DataFrame(data_cat, columns=feats)"
   ]
  },
  {
   "cell_type": "code",
   "execution_count": 10,
   "metadata": {},
   "outputs": [],
   "source": [
    "# keep only certain features for analysis\n",
    "keep_feats = [\"AGEP\", \"COW\", \"SCHL\", \"MAR\", \"WKHP\", \"SEX\", \"INCOME\"]\n",
    "df = df[keep_feats]"
   ]
  },
  {
   "cell_type": "code",
   "execution_count": 15,
   "metadata": {},
   "outputs": [],
   "source": [
    "col = [\"age\", \"workclass\", \"education-num\", \"marital-status\", \"hours-per-week\", \"sex\", \"INCOME\"]"
   ]
  },
  {
   "cell_type": "code",
   "execution_count": 16,
   "metadata": {},
   "outputs": [],
   "source": [
    "df.columns = col"
   ]
  },
  {
   "cell_type": "code",
   "execution_count": 21,
   "metadata": {},
   "outputs": [],
   "source": [
    "df.workclass = df.workclass.astype(int).astype(str)"
   ]
  },
  {
   "cell_type": "code",
   "execution_count": 28,
   "metadata": {},
   "outputs": [
    {
     "data": {
      "text/html": [
       "<div>\n",
       "<style scoped>\n",
       "    .dataframe tbody tr th:only-of-type {\n",
       "        vertical-align: middle;\n",
       "    }\n",
       "\n",
       "    .dataframe tbody tr th {\n",
       "        vertical-align: top;\n",
       "    }\n",
       "\n",
       "    .dataframe thead th {\n",
       "        text-align: right;\n",
       "    }\n",
       "</style>\n",
       "<table border=\"1\" class=\"dataframe\">\n",
       "  <thead>\n",
       "    <tr style=\"text-align: right;\">\n",
       "      <th></th>\n",
       "      <th>age</th>\n",
       "      <th>workclass</th>\n",
       "      <th>education-num</th>\n",
       "      <th>marital-status</th>\n",
       "      <th>sex</th>\n",
       "      <th>hours-per-week</th>\n",
       "      <th>INCOME</th>\n",
       "    </tr>\n",
       "  </thead>\n",
       "  <tbody>\n",
       "    <tr>\n",
       "      <th>0</th>\n",
       "      <td>18.0</td>\n",
       "      <td>1</td>\n",
       "      <td>18.0</td>\n",
       "      <td>5</td>\n",
       "      <td>2.0</td>\n",
       "      <td>21.0</td>\n",
       "      <td>0.0</td>\n",
       "    </tr>\n",
       "    <tr>\n",
       "      <th>1</th>\n",
       "      <td>53.0</td>\n",
       "      <td>5</td>\n",
       "      <td>17.0</td>\n",
       "      <td>5</td>\n",
       "      <td>1.0</td>\n",
       "      <td>40.0</td>\n",
       "      <td>0.0</td>\n",
       "    </tr>\n",
       "    <tr>\n",
       "      <th>2</th>\n",
       "      <td>41.0</td>\n",
       "      <td>1</td>\n",
       "      <td>16.0</td>\n",
       "      <td>5</td>\n",
       "      <td>1.0</td>\n",
       "      <td>40.0</td>\n",
       "      <td>0.0</td>\n",
       "    </tr>\n",
       "    <tr>\n",
       "      <th>3</th>\n",
       "      <td>18.0</td>\n",
       "      <td>6</td>\n",
       "      <td>18.0</td>\n",
       "      <td>5</td>\n",
       "      <td>2.0</td>\n",
       "      <td>2.0</td>\n",
       "      <td>0.0</td>\n",
       "    </tr>\n",
       "    <tr>\n",
       "      <th>4</th>\n",
       "      <td>21.0</td>\n",
       "      <td>5</td>\n",
       "      <td>19.0</td>\n",
       "      <td>5</td>\n",
       "      <td>1.0</td>\n",
       "      <td>50.0</td>\n",
       "      <td>0.0</td>\n",
       "    </tr>\n",
       "    <tr>\n",
       "      <th>...</th>\n",
       "      <td>...</td>\n",
       "      <td>...</td>\n",
       "      <td>...</td>\n",
       "      <td>...</td>\n",
       "      <td>...</td>\n",
       "      <td>...</td>\n",
       "      <td>...</td>\n",
       "    </tr>\n",
       "    <tr>\n",
       "      <th>1655424</th>\n",
       "      <td>55.0</td>\n",
       "      <td>2</td>\n",
       "      <td>20.0</td>\n",
       "      <td>1</td>\n",
       "      <td>2.0</td>\n",
       "      <td>30.0</td>\n",
       "      <td>0.0</td>\n",
       "    </tr>\n",
       "    <tr>\n",
       "      <th>1655425</th>\n",
       "      <td>41.0</td>\n",
       "      <td>1</td>\n",
       "      <td>18.0</td>\n",
       "      <td>3</td>\n",
       "      <td>1.0</td>\n",
       "      <td>40.0</td>\n",
       "      <td>0.0</td>\n",
       "    </tr>\n",
       "    <tr>\n",
       "      <th>1655426</th>\n",
       "      <td>34.0</td>\n",
       "      <td>4</td>\n",
       "      <td>21.0</td>\n",
       "      <td>5</td>\n",
       "      <td>2.0</td>\n",
       "      <td>50.0</td>\n",
       "      <td>0.0</td>\n",
       "    </tr>\n",
       "    <tr>\n",
       "      <th>1655427</th>\n",
       "      <td>49.0</td>\n",
       "      <td>1</td>\n",
       "      <td>19.0</td>\n",
       "      <td>3</td>\n",
       "      <td>2.0</td>\n",
       "      <td>40.0</td>\n",
       "      <td>0.0</td>\n",
       "    </tr>\n",
       "    <tr>\n",
       "      <th>1655428</th>\n",
       "      <td>19.0</td>\n",
       "      <td>3</td>\n",
       "      <td>16.0</td>\n",
       "      <td>5</td>\n",
       "      <td>2.0</td>\n",
       "      <td>40.0</td>\n",
       "      <td>0.0</td>\n",
       "    </tr>\n",
       "  </tbody>\n",
       "</table>\n",
       "<p>1655429 rows × 7 columns</p>\n",
       "</div>"
      ],
      "text/plain": [
       "          age workclass  education-num marital-status  sex  hours-per-week  \\\n",
       "0        18.0         1           18.0              5  2.0            21.0   \n",
       "1        53.0         5           17.0              5  1.0            40.0   \n",
       "2        41.0         1           16.0              5  1.0            40.0   \n",
       "3        18.0         6           18.0              5  2.0             2.0   \n",
       "4        21.0         5           19.0              5  1.0            50.0   \n",
       "...       ...       ...            ...            ...  ...             ...   \n",
       "1655424  55.0         2           20.0              1  2.0            30.0   \n",
       "1655425  41.0         1           18.0              3  1.0            40.0   \n",
       "1655426  34.0         4           21.0              5  2.0            50.0   \n",
       "1655427  49.0         1           19.0              3  2.0            40.0   \n",
       "1655428  19.0         3           16.0              5  2.0            40.0   \n",
       "\n",
       "         INCOME  \n",
       "0           0.0  \n",
       "1           0.0  \n",
       "2           0.0  \n",
       "3           0.0  \n",
       "4           0.0  \n",
       "...         ...  \n",
       "1655424     0.0  \n",
       "1655425     0.0  \n",
       "1655426     0.0  \n",
       "1655427     0.0  \n",
       "1655428     0.0  \n",
       "\n",
       "[1655429 rows x 7 columns]"
      ]
     },
     "execution_count": 28,
     "metadata": {},
     "output_type": "execute_result"
    }
   ],
   "source": [
    "df.loc[:, [\"age\", \"workclass\", \"education-num\", \"marital-status\",\"sex\", \"hours-per-week\", \"INCOME\"]]"
   ]
  },
  {
   "cell_type": "code",
   "execution_count": 25,
   "metadata": {},
   "outputs": [],
   "source": [
    "df[\"marital-status\"] = df[\"marital-status\"].astype(int).astype(str) "
   ]
  },
  {
   "cell_type": "code",
   "execution_count": 26,
   "metadata": {},
   "outputs": [
    {
     "data": {
      "text/plain": [
       "array(['5', '4', '3', '1', '2'], dtype=object)"
      ]
     },
     "execution_count": 26,
     "metadata": {},
     "output_type": "execute_result"
    }
   ],
   "source": [
    "df[\"marital-status\"].unique()"
   ]
  },
  {
   "cell_type": "code",
   "execution_count": 30,
   "metadata": {},
   "outputs": [],
   "source": [
    "df = df.loc[:, [\"age\", \"workclass\", \"education-num\", \"marital-status\",\"sex\", \"hours-per-week\", \"INCOME\"]]"
   ]
  },
  {
   "cell_type": "code",
   "execution_count": 32,
   "metadata": {},
   "outputs": [],
   "source": [
    "df[\"sex\"] = df.sex.map({2:\"Female\", 1: \"Male\"})"
   ]
  },
  {
   "cell_type": "code",
   "execution_count": 36,
   "metadata": {},
   "outputs": [],
   "source": [
    "df[\"INCOME\"] = df.INCOME.map({1:\">50K\", 0: \"<=50K\"})"
   ]
  },
  {
   "cell_type": "code",
   "execution_count": 69,
   "metadata": {},
   "outputs": [],
   "source": [
    "from sklearn.model_selection import train_test_split\n",
    "X_train, X_test, y_train, y_test = train_test_split(df, df[\"INCOME\"], test_size=0.33, random_state=42)\n"
   ]
  },
  {
   "cell_type": "code",
   "execution_count": 70,
   "metadata": {},
   "outputs": [],
   "source": [
    "X_train.to_csv(\"adult.data\", header=None)"
   ]
  },
  {
   "cell_type": "code",
   "execution_count": 71,
   "metadata": {},
   "outputs": [],
   "source": [
    "X_test.to_csv(\"adult.test\", header=None)"
   ]
  },
  {
   "cell_type": "code",
   "execution_count": 72,
   "metadata": {},
   "outputs": [
    {
     "data": {
      "text/plain": [
       "(1109137, 7)"
      ]
     },
     "execution_count": 72,
     "metadata": {},
     "output_type": "execute_result"
    }
   ],
   "source": [
    "X_train.shape"
   ]
  },
  {
   "cell_type": "code",
   "execution_count": 50,
   "metadata": {},
   "outputs": [],
   "source": [
    "acs = pd.read_csv(\"../data/processed/ACSIncome_NY_2018_sampled.csv\", index_col=0)"
   ]
  },
  {
   "cell_type": "code",
   "execution_count": 51,
   "metadata": {},
   "outputs": [
    {
     "data": {
      "text/html": [
       "<div>\n",
       "<style scoped>\n",
       "    .dataframe tbody tr th:only-of-type {\n",
       "        vertical-align: middle;\n",
       "    }\n",
       "\n",
       "    .dataframe tbody tr th {\n",
       "        vertical-align: top;\n",
       "    }\n",
       "\n",
       "    .dataframe thead th {\n",
       "        text-align: right;\n",
       "    }\n",
       "</style>\n",
       "<table border=\"1\" class=\"dataframe\">\n",
       "  <thead>\n",
       "    <tr style=\"text-align: right;\">\n",
       "      <th></th>\n",
       "      <th>AGEP</th>\n",
       "      <th>COW</th>\n",
       "      <th>SCHL</th>\n",
       "      <th>MAR</th>\n",
       "      <th>WKHP</th>\n",
       "      <th>SEX</th>\n",
       "      <th>INCOME</th>\n",
       "    </tr>\n",
       "  </thead>\n",
       "  <tbody>\n",
       "    <tr>\n",
       "      <th>35956</th>\n",
       "      <td>29.0</td>\n",
       "      <td>1.0</td>\n",
       "      <td>23.0</td>\n",
       "      <td>5.0</td>\n",
       "      <td>30.0</td>\n",
       "      <td>Female</td>\n",
       "      <td>0.0</td>\n",
       "    </tr>\n",
       "    <tr>\n",
       "      <th>26391</th>\n",
       "      <td>27.0</td>\n",
       "      <td>1.0</td>\n",
       "      <td>19.0</td>\n",
       "      <td>5.0</td>\n",
       "      <td>17.0</td>\n",
       "      <td>Female</td>\n",
       "      <td>0.0</td>\n",
       "    </tr>\n",
       "    <tr>\n",
       "      <th>82171</th>\n",
       "      <td>22.0</td>\n",
       "      <td>1.0</td>\n",
       "      <td>16.0</td>\n",
       "      <td>5.0</td>\n",
       "      <td>40.0</td>\n",
       "      <td>Female</td>\n",
       "      <td>0.0</td>\n",
       "    </tr>\n",
       "    <tr>\n",
       "      <th>67041</th>\n",
       "      <td>21.0</td>\n",
       "      <td>2.0</td>\n",
       "      <td>19.0</td>\n",
       "      <td>5.0</td>\n",
       "      <td>40.0</td>\n",
       "      <td>Female</td>\n",
       "      <td>0.0</td>\n",
       "    </tr>\n",
       "    <tr>\n",
       "      <th>80323</th>\n",
       "      <td>49.0</td>\n",
       "      <td>1.0</td>\n",
       "      <td>21.0</td>\n",
       "      <td>5.0</td>\n",
       "      <td>40.0</td>\n",
       "      <td>Female</td>\n",
       "      <td>0.0</td>\n",
       "    </tr>\n",
       "    <tr>\n",
       "      <th>...</th>\n",
       "      <td>...</td>\n",
       "      <td>...</td>\n",
       "      <td>...</td>\n",
       "      <td>...</td>\n",
       "      <td>...</td>\n",
       "      <td>...</td>\n",
       "      <td>...</td>\n",
       "    </tr>\n",
       "    <tr>\n",
       "      <th>40890</th>\n",
       "      <td>28.0</td>\n",
       "      <td>1.0</td>\n",
       "      <td>21.0</td>\n",
       "      <td>5.0</td>\n",
       "      <td>40.0</td>\n",
       "      <td>Male</td>\n",
       "      <td>1.0</td>\n",
       "    </tr>\n",
       "    <tr>\n",
       "      <th>75335</th>\n",
       "      <td>53.0</td>\n",
       "      <td>7.0</td>\n",
       "      <td>23.0</td>\n",
       "      <td>5.0</td>\n",
       "      <td>50.0</td>\n",
       "      <td>Male</td>\n",
       "      <td>1.0</td>\n",
       "    </tr>\n",
       "    <tr>\n",
       "      <th>88529</th>\n",
       "      <td>34.0</td>\n",
       "      <td>3.0</td>\n",
       "      <td>19.0</td>\n",
       "      <td>1.0</td>\n",
       "      <td>40.0</td>\n",
       "      <td>Male</td>\n",
       "      <td>1.0</td>\n",
       "    </tr>\n",
       "    <tr>\n",
       "      <th>57890</th>\n",
       "      <td>36.0</td>\n",
       "      <td>1.0</td>\n",
       "      <td>22.0</td>\n",
       "      <td>1.0</td>\n",
       "      <td>60.0</td>\n",
       "      <td>Male</td>\n",
       "      <td>1.0</td>\n",
       "    </tr>\n",
       "    <tr>\n",
       "      <th>38869</th>\n",
       "      <td>57.0</td>\n",
       "      <td>7.0</td>\n",
       "      <td>21.0</td>\n",
       "      <td>5.0</td>\n",
       "      <td>40.0</td>\n",
       "      <td>Male</td>\n",
       "      <td>1.0</td>\n",
       "    </tr>\n",
       "  </tbody>\n",
       "</table>\n",
       "<p>103021 rows × 7 columns</p>\n",
       "</div>"
      ],
      "text/plain": [
       "       AGEP  COW  SCHL  MAR  WKHP     SEX  INCOME\n",
       "35956  29.0  1.0  23.0  5.0  30.0  Female     0.0\n",
       "26391  27.0  1.0  19.0  5.0  17.0  Female     0.0\n",
       "82171  22.0  1.0  16.0  5.0  40.0  Female     0.0\n",
       "67041  21.0  2.0  19.0  5.0  40.0  Female     0.0\n",
       "80323  49.0  1.0  21.0  5.0  40.0  Female     0.0\n",
       "...     ...  ...   ...  ...   ...     ...     ...\n",
       "40890  28.0  1.0  21.0  5.0  40.0    Male     1.0\n",
       "75335  53.0  7.0  23.0  5.0  50.0    Male     1.0\n",
       "88529  34.0  3.0  19.0  1.0  40.0    Male     1.0\n",
       "57890  36.0  1.0  22.0  1.0  60.0    Male     1.0\n",
       "38869  57.0  7.0  21.0  5.0  40.0    Male     1.0\n",
       "\n",
       "[103021 rows x 7 columns]"
      ]
     },
     "execution_count": 51,
     "metadata": {},
     "output_type": "execute_result"
    }
   ],
   "source": [
    "acs"
   ]
  },
  {
   "cell_type": "code",
   "execution_count": 52,
   "metadata": {},
   "outputs": [],
   "source": [
    "col = [\"age\", \"workclass\", \"education-num\", \"marital-status\", \"hours-per-week\", \"sex\", \"INCOME\"]"
   ]
  },
  {
   "cell_type": "code",
   "execution_count": 57,
   "metadata": {},
   "outputs": [],
   "source": [
    "acs.columns = col"
   ]
  },
  {
   "cell_type": "code",
   "execution_count": 58,
   "metadata": {},
   "outputs": [],
   "source": [
    "acs = acs.loc[:, [\"age\", \"workclass\", \"education-num\", \"marital-status\",\"sex\", \"hours-per-week\", \"INCOME\"]]"
   ]
  },
  {
   "cell_type": "code",
   "execution_count": 64,
   "metadata": {},
   "outputs": [],
   "source": [
    "acs[\"INCOME\"] = acs.INCOME.map({1:\">50K\", 0: \"<=50K\"})"
   ]
  },
  {
   "cell_type": "code",
   "execution_count": 65,
   "metadata": {},
   "outputs": [],
   "source": [
    "from sklearn.model_selection import train_test_split\n",
    "X_train, X_test, y_train, y_test = train_test_split(acs, acs[\"INCOME\"], test_size=0.33, random_state=42)"
   ]
  },
  {
   "cell_type": "code",
   "execution_count": 66,
   "metadata": {},
   "outputs": [
    {
     "data": {
      "text/plain": [
       "(69024, 7)"
      ]
     },
     "execution_count": 66,
     "metadata": {},
     "output_type": "execute_result"
    }
   ],
   "source": [
    "X_train.shape"
   ]
  },
  {
   "cell_type": "code",
   "execution_count": 67,
   "metadata": {},
   "outputs": [],
   "source": [
    "X_train.to_csv(\"adult.data\", header=None)"
   ]
  },
  {
   "cell_type": "code",
   "execution_count": 68,
   "metadata": {},
   "outputs": [],
   "source": [
    "X_test.to_csv(\"adult.test\", header=None)"
   ]
  },
  {
   "cell_type": "code",
   "execution_count": null,
   "metadata": {},
   "outputs": [],
   "source": []
  }
 ],
 "metadata": {
  "kernelspec": {
   "display_name": "Python 3",
   "language": "python",
   "name": "python3"
  },
  "language_info": {
   "codemirror_mode": {
    "name": "ipython",
    "version": 3
   },
   "file_extension": ".py",
   "mimetype": "text/x-python",
   "name": "python",
   "nbconvert_exporter": "python",
   "pygments_lexer": "ipython3",
   "version": "3.10.4"
  },
  "orig_nbformat": 4,
  "vscode": {
   "interpreter": {
    "hash": "d394f457454fce149f43da253c3a2e4c981de3fa38564892d5b6ba57be115c06"
   }
  }
 },
 "nbformat": 4,
 "nbformat_minor": 2
}
