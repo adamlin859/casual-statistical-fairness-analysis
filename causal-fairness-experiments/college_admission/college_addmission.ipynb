{
 "cells": [
  {
   "cell_type": "code",
   "execution_count": 1,
   "metadata": {},
   "outputs": [],
   "source": [
    "import pandas as pd"
   ]
  },
  {
   "cell_type": "code",
   "execution_count": 45,
   "metadata": {},
   "outputs": [],
   "source": [
    "data = pd.read_csv(\"data/raw/berkeley.csv\")\n",
    "\n",
    "major_map = {x:i for i, x in enumerate(data.Major.value_counts(normalize=True).index)}\n",
    "data.loc[:, \"Major\"] = data.Major.map(major_map)\n",
    "data.loc[:, \"Gender\"] = data.Gender.map({\"F\":0, \"M\":1})\n",
    "data.loc[:, \"Admission\"] = data.Admission.map({\"Rejected\":0, \"Accepted\":1})\n",
    "data.loc[:,[ \"Major\", \"Gender\",\"Admission\"]].to_csv(\"./data/processed/admissions.csv\", index=False)"
   ]
  },
  {
   "cell_type": "code",
   "execution_count": 31,
   "metadata": {},
   "outputs": [],
   "source": [
    "n_a_1 = data[data.Gender == 1].Admission.sum()\n",
    "n_a = data[data.Gender == 1].shape[0]"
   ]
  },
  {
   "cell_type": "code",
   "execution_count": 36,
   "metadata": {},
   "outputs": [],
   "source": [
    "q_a =n_a_1/n_a"
   ]
  },
  {
   "cell_type": "code",
   "execution_count": 34,
   "metadata": {},
   "outputs": [],
   "source": [
    "n_d_1 = data[data.Gender == 0].Admission.sum()\n",
    "n_d = data[data.Gender == 0].shape[0]"
   ]
  },
  {
   "cell_type": "code",
   "execution_count": 37,
   "metadata": {},
   "outputs": [],
   "source": [
    "q_d = n_d_1/n_d"
   ]
  },
  {
   "cell_type": "code",
   "execution_count": 39,
   "metadata": {},
   "outputs": [
    {
     "data": {
      "text/plain": [
       "0.7808585715437282"
      ]
     },
     "execution_count": 39,
     "metadata": {},
     "output_type": "execute_result"
    }
   ],
   "source": [
    "q_d / q_a "
   ]
  },
  {
   "cell_type": "code",
   "execution_count": 43,
   "metadata": {},
   "outputs": [
    {
     "name": "stdout",
     "output_type": "stream",
     "text": [
      "               mean       min        max       std\n",
      "AveBedrms -0.006393 -1.264421  11.482253  0.132226\n",
      "AveRooms  -0.068143 -1.728602   0.748265  0.054556\n"
     ]
    }
   ],
   "source": [
    "from sklearn.datasets import fetch_california_housing\n",
    "\n",
    "from ylearn import Why\n",
    "\n",
    "housing = fetch_california_housing(as_frame=True)\n",
    "data = housing.frame\n",
    "outcome = housing.target_names[0]\n",
    "data[outcome] = housing.target\n",
    "\n",
    "why = Why()\n",
    "why.fit(data, outcome, treatment=['AveBedrms', 'AveRooms'])\n",
    "\n",
    "print(why.causal_effect())"
   ]
  },
  {
   "cell_type": "code",
   "execution_count": 42,
   "metadata": {},
   "outputs": [
    {
     "name": "stdout",
     "output_type": "stream",
     "text": [
      "Collecting ylearn\n",
      "  Downloading ylearn-0.1.3.tar.gz (2.3 MB)\n",
      "\u001b[2K     \u001b[90m━━━━━━━━━━━━━━━━━━━━━━━━━━━━━━━━━━━━━━━━\u001b[0m \u001b[32m2.3/2.3 MB\u001b[0m \u001b[31m9.9 MB/s\u001b[0m eta \u001b[36m0:00:00\u001b[0mta \u001b[36m0:00:01\u001b[0m\n",
      "\u001b[?25h  Installing build dependencies ... \u001b[?25ldone\n",
      "\u001b[?25h  Getting requirements to build wheel ... \u001b[?25ldone\n",
      "\u001b[?25h  Preparing metadata (pyproject.toml) ... \u001b[?25ldone\n",
      "\u001b[?25hRequirement already satisfied: networkx in /Users/adam/opt/anaconda3/envs/ptb/lib/python3.10/site-packages (from ylearn) (2.8.5)\n",
      "Requirement already satisfied: scikit-learn>=0.22.1 in /Users/adam/opt/anaconda3/envs/ptb/lib/python3.10/site-packages (from ylearn) (1.0.2)\n",
      "Requirement already satisfied: ipython in /Users/adam/opt/anaconda3/envs/ptb/lib/python3.10/site-packages (from ylearn) (8.3.0)\n",
      "Requirement already satisfied: pandas>=0.25.3 in /Users/adam/opt/anaconda3/envs/ptb/lib/python3.10/site-packages (from ylearn) (1.4.2)\n",
      "Requirement already satisfied: torch in /Users/adam/opt/anaconda3/envs/ptb/lib/python3.10/site-packages (from ylearn) (1.13.0)\n",
      "Collecting pydot\n",
      "  Downloading pydot-1.4.2-py2.py3-none-any.whl (21 kB)\n",
      "Requirement already satisfied: numpy>=1.16.5 in /Users/adam/opt/anaconda3/envs/ptb/lib/python3.10/site-packages (from ylearn) (1.22.3)\n",
      "Requirement already satisfied: joblib in /Users/adam/opt/anaconda3/envs/ptb/lib/python3.10/site-packages (from ylearn) (1.1.0)\n",
      "Requirement already satisfied: scipy in /Users/adam/opt/anaconda3/envs/ptb/lib/python3.10/site-packages (from ylearn) (1.7.3)\n",
      "Requirement already satisfied: python-dateutil>=2.8.1 in /Users/adam/opt/anaconda3/envs/ptb/lib/python3.10/site-packages (from pandas>=0.25.3->ylearn) (2.8.2)\n",
      "Requirement already satisfied: pytz>=2020.1 in /Users/adam/opt/anaconda3/envs/ptb/lib/python3.10/site-packages (from pandas>=0.25.3->ylearn) (2022.1)\n",
      "Requirement already satisfied: threadpoolctl>=2.0.0 in /Users/adam/opt/anaconda3/envs/ptb/lib/python3.10/site-packages (from scikit-learn>=0.22.1->ylearn) (3.1.0)\n",
      "Requirement already satisfied: stack-data in /Users/adam/opt/anaconda3/envs/ptb/lib/python3.10/site-packages (from ipython->ylearn) (0.2.0)\n",
      "Requirement already satisfied: pickleshare in /Users/adam/opt/anaconda3/envs/ptb/lib/python3.10/site-packages (from ipython->ylearn) (0.7.5)\n",
      "Requirement already satisfied: backcall in /Users/adam/opt/anaconda3/envs/ptb/lib/python3.10/site-packages (from ipython->ylearn) (0.2.0)\n",
      "Requirement already satisfied: matplotlib-inline in /Users/adam/opt/anaconda3/envs/ptb/lib/python3.10/site-packages (from ipython->ylearn) (0.1.3)\n",
      "Requirement already satisfied: decorator in /Users/adam/opt/anaconda3/envs/ptb/lib/python3.10/site-packages (from ipython->ylearn) (5.1.1)\n",
      "Requirement already satisfied: appnope in /Users/adam/opt/anaconda3/envs/ptb/lib/python3.10/site-packages (from ipython->ylearn) (0.1.3)\n",
      "Requirement already satisfied: pygments>=2.4.0 in /Users/adam/opt/anaconda3/envs/ptb/lib/python3.10/site-packages (from ipython->ylearn) (2.12.0)\n",
      "Requirement already satisfied: setuptools>=18.5 in /Users/adam/opt/anaconda3/envs/ptb/lib/python3.10/site-packages (from ipython->ylearn) (62.1.0)\n",
      "Requirement already satisfied: traitlets>=5 in /Users/adam/opt/anaconda3/envs/ptb/lib/python3.10/site-packages (from ipython->ylearn) (5.6.0)\n",
      "Requirement already satisfied: prompt-toolkit!=3.0.0,!=3.0.1,<3.1.0,>=2.0.0 in /Users/adam/opt/anaconda3/envs/ptb/lib/python3.10/site-packages (from ipython->ylearn) (3.0.29)\n",
      "Requirement already satisfied: pexpect>4.3 in /Users/adam/opt/anaconda3/envs/ptb/lib/python3.10/site-packages (from ipython->ylearn) (4.8.0)\n",
      "Requirement already satisfied: jedi>=0.16 in /Users/adam/opt/anaconda3/envs/ptb/lib/python3.10/site-packages (from ipython->ylearn) (0.18.1)\n",
      "Requirement already satisfied: pyparsing>=2.1.4 in /Users/adam/opt/anaconda3/envs/ptb/lib/python3.10/site-packages (from pydot->ylearn) (3.0.8)\n",
      "Requirement already satisfied: typing-extensions in /Users/adam/opt/anaconda3/envs/ptb/lib/python3.10/site-packages (from torch->ylearn) (4.3.0)\n",
      "Requirement already satisfied: parso<0.9.0,>=0.8.0 in /Users/adam/opt/anaconda3/envs/ptb/lib/python3.10/site-packages (from jedi>=0.16->ipython->ylearn) (0.8.3)\n",
      "Requirement already satisfied: ptyprocess>=0.5 in /Users/adam/opt/anaconda3/envs/ptb/lib/python3.10/site-packages (from pexpect>4.3->ipython->ylearn) (0.7.0)\n",
      "Requirement already satisfied: wcwidth in /Users/adam/opt/anaconda3/envs/ptb/lib/python3.10/site-packages (from prompt-toolkit!=3.0.0,!=3.0.1,<3.1.0,>=2.0.0->ipython->ylearn) (0.2.5)\n",
      "Requirement already satisfied: six>=1.5 in /Users/adam/opt/anaconda3/envs/ptb/lib/python3.10/site-packages (from python-dateutil>=2.8.1->pandas>=0.25.3->ylearn) (1.16.0)\n",
      "Requirement already satisfied: pure-eval in /Users/adam/opt/anaconda3/envs/ptb/lib/python3.10/site-packages (from stack-data->ipython->ylearn) (0.2.2)\n",
      "Requirement already satisfied: asttokens in /Users/adam/opt/anaconda3/envs/ptb/lib/python3.10/site-packages (from stack-data->ipython->ylearn) (2.0.5)\n",
      "Requirement already satisfied: executing in /Users/adam/opt/anaconda3/envs/ptb/lib/python3.10/site-packages (from stack-data->ipython->ylearn) (0.8.3)\n",
      "Building wheels for collected packages: ylearn\n",
      "  Building wheel for ylearn (pyproject.toml) ... \u001b[?25ldone\n",
      "\u001b[?25h  Created wheel for ylearn: filename=ylearn-0.1.3-cp310-cp310-macosx_10_9_x86_64.whl size=1729904 sha256=c3c2e763ef3a84a3339161027e4774ccd1022d6d1cd84b9fdd60f5b997665968\n",
      "  Stored in directory: /Users/adam/Library/Caches/pip/wheels/80/cd/99/0d0334f97e19aa21ca3e72a563d7ce1324d27e2621261e0e5a\n",
      "Successfully built ylearn\n",
      "Installing collected packages: pydot, ylearn\n",
      "Successfully installed pydot-1.4.2 ylearn-0.1.3\n"
     ]
    }
   ],
   "source": [
    "!pip install ylearn"
   ]
  },
  {
   "cell_type": "code",
   "execution_count": 3,
   "metadata": {},
   "outputs": [],
   "source": [
    "import pandas as pd\n",
    "d = pd.read_csv(\"../data/processed/admissions.csv\")"
   ]
  },
  {
   "cell_type": "code",
   "execution_count": 5,
   "metadata": {},
   "outputs": [],
   "source": [
    "d.loc[:, \"Year\"] = 1973"
   ]
  },
  {
   "cell_type": "code",
   "execution_count": 6,
   "metadata": {},
   "outputs": [],
   "source": [
    "d.to_csv(\"../data/processed/admissions_v2.csv\", index=False)"
   ]
  },
  {
   "cell_type": "code",
   "execution_count": null,
   "metadata": {},
   "outputs": [],
   "source": []
  }
 ],
 "metadata": {
  "kernelspec": {
   "display_name": "Python 3",
   "language": "python",
   "name": "python3"
  },
  "language_info": {
   "codemirror_mode": {
    "name": "ipython",
    "version": 3
   },
   "file_extension": ".py",
   "mimetype": "text/x-python",
   "name": "python",
   "nbconvert_exporter": "python",
   "pygments_lexer": "ipython3",
   "version": "3.10.4"
  },
  "orig_nbformat": 4,
  "vscode": {
   "interpreter": {
    "hash": "d394f457454fce149f43da253c3a2e4c981de3fa38564892d5b6ba57be115c06"
   }
  }
 },
 "nbformat": 4,
 "nbformat_minor": 2
}
