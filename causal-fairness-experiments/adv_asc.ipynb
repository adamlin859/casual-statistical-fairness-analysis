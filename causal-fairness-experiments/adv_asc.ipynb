{
  "cells": [
    {
      "cell_type": "code",
      "execution_count": null,
      "metadata": {
        "colab": {
          "base_uri": "https://localhost:8080/",
          "height": 1000
        },
        "id": "h5kGVUDlzWkj",
        "outputId": "a9f93b44-5edd-4c79-8600-0cffeac18dad"
      },
      "outputs": [
        {
          "output_type": "stream",
          "name": "stdout",
          "text": [
            "Looking in indexes: https://pypi.org/simple, https://us-python.pkg.dev/colab-wheels/public/simple/\n",
            "Collecting aif360[all]\n",
            "  Downloading aif360-0.5.0-py3-none-any.whl (214 kB)\n",
            "\u001b[K     |████████████████████████████████| 214 kB 5.4 MB/s \n",
            "\u001b[?25hRequirement already satisfied: pandas>=0.24.0 in /usr/local/lib/python3.8/dist-packages (from aif360[all]) (1.3.5)\n",
            "Requirement already satisfied: matplotlib in /usr/local/lib/python3.8/dist-packages (from aif360[all]) (3.2.2)\n",
            "Requirement already satisfied: scikit-learn>=1.0 in /usr/local/lib/python3.8/dist-packages (from aif360[all]) (1.0.2)\n",
            "Requirement already satisfied: scipy>=1.2.0 in /usr/local/lib/python3.8/dist-packages (from aif360[all]) (1.7.3)\n",
            "Requirement already satisfied: numpy>=1.16 in /usr/local/lib/python3.8/dist-packages (from aif360[all]) (1.21.6)\n",
            "Requirement already satisfied: rpy2 in /usr/local/lib/python3.8/dist-packages (from aif360[all]) (3.5.5)\n",
            "Requirement already satisfied: torch in /usr/local/lib/python3.8/dist-packages (from aif360[all]) (1.13.0+cu116)\n",
            "Requirement already satisfied: tqdm in /usr/local/lib/python3.8/dist-packages (from aif360[all]) (4.64.1)\n",
            "Collecting tempeh\n",
            "  Downloading tempeh-0.1.12-py3-none-any.whl (39 kB)\n",
            "Collecting jupyter\n",
            "  Downloading jupyter-1.0.0-py2.py3-none-any.whl (2.7 kB)\n",
            "Collecting adversarial-robustness-toolbox>=1.0.0\n",
            "  Downloading adversarial_robustness_toolbox-1.13.0-py3-none-any.whl (1.4 MB)\n",
            "\u001b[K     |████████████████████████████████| 1.4 MB 65.2 MB/s \n",
            "\u001b[?25hRequirement already satisfied: jinja2<3.1.0 in /usr/local/lib/python3.8/dist-packages (from aif360[all]) (2.11.3)\n",
            "Requirement already satisfied: cvxpy>=1.0 in /usr/local/lib/python3.8/dist-packages (from aif360[all]) (1.2.2)\n",
            "Collecting fairlearn~=0.7\n",
            "  Downloading fairlearn-0.8.0-py3-none-any.whl (235 kB)\n",
            "\u001b[K     |████████████████████████████████| 235 kB 76.1 MB/s \n",
            "\u001b[?25hCollecting igraph[plotting]\n",
            "  Downloading igraph-0.10.2-cp38-cp38-manylinux_2_17_x86_64.manylinux2014_x86_64.whl (3.3 MB)\n",
            "\u001b[K     |████████████████████████████████| 3.3 MB 51.4 MB/s \n",
            "\u001b[?25hRequirement already satisfied: sphinx<2 in /usr/local/lib/python3.8/dist-packages (from aif360[all]) (1.8.6)\n",
            "Requirement already satisfied: seaborn in /usr/local/lib/python3.8/dist-packages (from aif360[all]) (0.11.2)\n",
            "Collecting lime\n",
            "  Downloading lime-0.2.0.1.tar.gz (275 kB)\n",
            "\u001b[K     |████████████████████████████████| 275 kB 76.6 MB/s \n",
            "\u001b[?25hCollecting BlackBoxAuditing\n",
            "  Downloading BlackBoxAuditing-0.1.54.tar.gz (2.6 MB)\n",
            "\u001b[K     |████████████████████████████████| 2.6 MB 64.7 MB/s \n",
            "\u001b[?25hRequirement already satisfied: pytest>=3.5 in /usr/local/lib/python3.8/dist-packages (from aif360[all]) (3.6.4)\n",
            "Requirement already satisfied: lightgbm in /usr/local/lib/python3.8/dist-packages (from aif360[all]) (2.2.3)\n",
            "Requirement already satisfied: tensorflow>=1.13.1 in /usr/local/lib/python3.8/dist-packages (from aif360[all]) (2.9.2)\n",
            "Collecting sphinx-rtd-theme\n",
            "  Downloading sphinx_rtd_theme-1.1.1-py2.py3-none-any.whl (2.8 MB)\n",
            "\u001b[K     |████████████████████████████████| 2.8 MB 72.5 MB/s \n",
            "\u001b[?25hCollecting ipympl\n",
            "  Downloading ipympl-0.9.2-py2.py3-none-any.whl (510 kB)\n",
            "\u001b[K     |████████████████████████████████| 510 kB 33.2 MB/s \n",
            "\u001b[?25hRequirement already satisfied: setuptools in /usr/local/lib/python3.8/dist-packages (from adversarial-robustness-toolbox>=1.0.0->aif360[all]) (57.4.0)\n",
            "Requirement already satisfied: six in /usr/local/lib/python3.8/dist-packages (from adversarial-robustness-toolbox>=1.0.0->aif360[all]) (1.15.0)\n",
            "Requirement already satisfied: ecos>=2 in /usr/local/lib/python3.8/dist-packages (from cvxpy>=1.0->aif360[all]) (2.0.10)\n",
            "Requirement already satisfied: scs>=1.1.6 in /usr/local/lib/python3.8/dist-packages (from cvxpy>=1.0->aif360[all]) (3.2.2)\n",
            "Requirement already satisfied: osqp>=0.4.1 in /usr/local/lib/python3.8/dist-packages (from cvxpy>=1.0->aif360[all]) (0.6.2.post0)\n",
            "Requirement already satisfied: MarkupSafe>=0.23 in /usr/local/lib/python3.8/dist-packages (from jinja2<3.1.0->aif360[all]) (2.0.1)\n",
            "Requirement already satisfied: qdldl in /usr/local/lib/python3.8/dist-packages (from osqp>=0.4.1->cvxpy>=1.0->aif360[all]) (0.1.5.post2)\n",
            "Requirement already satisfied: pytz>=2017.3 in /usr/local/lib/python3.8/dist-packages (from pandas>=0.24.0->aif360[all]) (2022.6)\n",
            "Requirement already satisfied: python-dateutil>=2.7.3 in /usr/local/lib/python3.8/dist-packages (from pandas>=0.24.0->aif360[all]) (2.8.2)\n",
            "Requirement already satisfied: more-itertools>=4.0.0 in /usr/local/lib/python3.8/dist-packages (from pytest>=3.5->aif360[all]) (9.0.0)\n",
            "Requirement already satisfied: attrs>=17.4.0 in /usr/local/lib/python3.8/dist-packages (from pytest>=3.5->aif360[all]) (22.1.0)\n",
            "Requirement already satisfied: pluggy<0.8,>=0.5 in /usr/local/lib/python3.8/dist-packages (from pytest>=3.5->aif360[all]) (0.7.1)\n",
            "Requirement already satisfied: atomicwrites>=1.0 in /usr/local/lib/python3.8/dist-packages (from pytest>=3.5->aif360[all]) (1.4.1)\n",
            "Requirement already satisfied: py>=1.5.0 in /usr/local/lib/python3.8/dist-packages (from pytest>=3.5->aif360[all]) (1.11.0)\n",
            "Requirement already satisfied: joblib>=0.11 in /usr/local/lib/python3.8/dist-packages (from scikit-learn>=1.0->aif360[all]) (1.2.0)\n",
            "Requirement already satisfied: threadpoolctl>=2.0.0 in /usr/local/lib/python3.8/dist-packages (from scikit-learn>=1.0->aif360[all]) (3.1.0)\n",
            "Requirement already satisfied: babel!=2.0,>=1.3 in /usr/local/lib/python3.8/dist-packages (from sphinx<2->aif360[all]) (2.11.0)\n",
            "Requirement already satisfied: Pygments>=2.0 in /usr/local/lib/python3.8/dist-packages (from sphinx<2->aif360[all]) (2.6.1)\n",
            "Requirement already satisfied: imagesize in /usr/local/lib/python3.8/dist-packages (from sphinx<2->aif360[all]) (1.4.1)\n",
            "Requirement already satisfied: snowballstemmer>=1.1 in /usr/local/lib/python3.8/dist-packages (from sphinx<2->aif360[all]) (2.2.0)\n",
            "Requirement already satisfied: packaging in /usr/local/lib/python3.8/dist-packages (from sphinx<2->aif360[all]) (21.3)\n",
            "Requirement already satisfied: requests>=2.0.0 in /usr/local/lib/python3.8/dist-packages (from sphinx<2->aif360[all]) (2.23.0)\n",
            "Requirement already satisfied: alabaster<0.8,>=0.7 in /usr/local/lib/python3.8/dist-packages (from sphinx<2->aif360[all]) (0.7.12)\n",
            "Requirement already satisfied: docutils<0.18,>=0.11 in /usr/local/lib/python3.8/dist-packages (from sphinx<2->aif360[all]) (0.17.1)\n",
            "Requirement already satisfied: sphinxcontrib-websupport in /usr/local/lib/python3.8/dist-packages (from sphinx<2->aif360[all]) (1.2.4)\n",
            "Requirement already satisfied: idna<3,>=2.5 in /usr/local/lib/python3.8/dist-packages (from requests>=2.0.0->sphinx<2->aif360[all]) (2.10)\n",
            "Requirement already satisfied: certifi>=2017.4.17 in /usr/local/lib/python3.8/dist-packages (from requests>=2.0.0->sphinx<2->aif360[all]) (2022.12.7)\n",
            "Requirement already satisfied: chardet<4,>=3.0.2 in /usr/local/lib/python3.8/dist-packages (from requests>=2.0.0->sphinx<2->aif360[all]) (3.0.4)\n",
            "Requirement already satisfied: urllib3!=1.25.0,!=1.25.1,<1.26,>=1.21.1 in /usr/local/lib/python3.8/dist-packages (from requests>=2.0.0->sphinx<2->aif360[all]) (1.24.3)\n",
            "Requirement already satisfied: keras-preprocessing>=1.1.1 in /usr/local/lib/python3.8/dist-packages (from tensorflow>=1.13.1->aif360[all]) (1.1.2)\n",
            "Requirement already satisfied: keras<2.10.0,>=2.9.0rc0 in /usr/local/lib/python3.8/dist-packages (from tensorflow>=1.13.1->aif360[all]) (2.9.0)\n",
            "Requirement already satisfied: flatbuffers<2,>=1.12 in /usr/local/lib/python3.8/dist-packages (from tensorflow>=1.13.1->aif360[all]) (1.12)\n",
            "Requirement already satisfied: termcolor>=1.1.0 in /usr/local/lib/python3.8/dist-packages (from tensorflow>=1.13.1->aif360[all]) (2.1.1)\n",
            "Requirement already satisfied: wrapt>=1.11.0 in /usr/local/lib/python3.8/dist-packages (from tensorflow>=1.13.1->aif360[all]) (1.14.1)\n",
            "Requirement already satisfied: typing-extensions>=3.6.6 in /usr/local/lib/python3.8/dist-packages (from tensorflow>=1.13.1->aif360[all]) (4.4.0)\n",
            "Requirement already satisfied: h5py>=2.9.0 in /usr/local/lib/python3.8/dist-packages (from tensorflow>=1.13.1->aif360[all]) (3.1.0)\n",
            "Requirement already satisfied: grpcio<2.0,>=1.24.3 in /usr/local/lib/python3.8/dist-packages (from tensorflow>=1.13.1->aif360[all]) (1.51.1)\n",
            "Requirement already satisfied: protobuf<3.20,>=3.9.2 in /usr/local/lib/python3.8/dist-packages (from tensorflow>=1.13.1->aif360[all]) (3.19.6)\n",
            "Requirement already satisfied: astunparse>=1.6.0 in /usr/local/lib/python3.8/dist-packages (from tensorflow>=1.13.1->aif360[all]) (1.6.3)\n",
            "Requirement already satisfied: absl-py>=1.0.0 in /usr/local/lib/python3.8/dist-packages (from tensorflow>=1.13.1->aif360[all]) (1.3.0)\n",
            "Requirement already satisfied: tensorflow-io-gcs-filesystem>=0.23.1 in /usr/local/lib/python3.8/dist-packages (from tensorflow>=1.13.1->aif360[all]) (0.28.0)\n",
            "Requirement already satisfied: tensorboard<2.10,>=2.9 in /usr/local/lib/python3.8/dist-packages (from tensorflow>=1.13.1->aif360[all]) (2.9.1)\n",
            "Requirement already satisfied: libclang>=13.0.0 in /usr/local/lib/python3.8/dist-packages (from tensorflow>=1.13.1->aif360[all]) (14.0.6)\n",
            "Requirement already satisfied: gast<=0.4.0,>=0.2.1 in /usr/local/lib/python3.8/dist-packages (from tensorflow>=1.13.1->aif360[all]) (0.4.0)\n",
            "Requirement already satisfied: google-pasta>=0.1.1 in /usr/local/lib/python3.8/dist-packages (from tensorflow>=1.13.1->aif360[all]) (0.2.0)\n",
            "Requirement already satisfied: tensorflow-estimator<2.10.0,>=2.9.0rc0 in /usr/local/lib/python3.8/dist-packages (from tensorflow>=1.13.1->aif360[all]) (2.9.0)\n",
            "Requirement already satisfied: opt-einsum>=2.3.2 in /usr/local/lib/python3.8/dist-packages (from tensorflow>=1.13.1->aif360[all]) (3.3.0)\n",
            "Requirement already satisfied: wheel<1.0,>=0.23.0 in /usr/local/lib/python3.8/dist-packages (from astunparse>=1.6.0->tensorflow>=1.13.1->aif360[all]) (0.38.4)\n",
            "Requirement already satisfied: tensorboard-plugin-wit>=1.6.0 in /usr/local/lib/python3.8/dist-packages (from tensorboard<2.10,>=2.9->tensorflow>=1.13.1->aif360[all]) (1.8.1)\n",
            "Requirement already satisfied: werkzeug>=1.0.1 in /usr/local/lib/python3.8/dist-packages (from tensorboard<2.10,>=2.9->tensorflow>=1.13.1->aif360[all]) (1.0.1)\n",
            "Requirement already satisfied: google-auth<3,>=1.6.3 in /usr/local/lib/python3.8/dist-packages (from tensorboard<2.10,>=2.9->tensorflow>=1.13.1->aif360[all]) (2.15.0)\n",
            "Requirement already satisfied: google-auth-oauthlib<0.5,>=0.4.1 in /usr/local/lib/python3.8/dist-packages (from tensorboard<2.10,>=2.9->tensorflow>=1.13.1->aif360[all]) (0.4.6)\n",
            "Requirement already satisfied: markdown>=2.6.8 in /usr/local/lib/python3.8/dist-packages (from tensorboard<2.10,>=2.9->tensorflow>=1.13.1->aif360[all]) (3.4.1)\n",
            "Requirement already satisfied: tensorboard-data-server<0.7.0,>=0.6.0 in /usr/local/lib/python3.8/dist-packages (from tensorboard<2.10,>=2.9->tensorflow>=1.13.1->aif360[all]) (0.6.1)\n",
            "Requirement already satisfied: rsa<5,>=3.1.4 in /usr/local/lib/python3.8/dist-packages (from google-auth<3,>=1.6.3->tensorboard<2.10,>=2.9->tensorflow>=1.13.1->aif360[all]) (4.9)\n",
            "Requirement already satisfied: cachetools<6.0,>=2.0.0 in /usr/local/lib/python3.8/dist-packages (from google-auth<3,>=1.6.3->tensorboard<2.10,>=2.9->tensorflow>=1.13.1->aif360[all]) (5.2.0)\n",
            "Requirement already satisfied: pyasn1-modules>=0.2.1 in /usr/local/lib/python3.8/dist-packages (from google-auth<3,>=1.6.3->tensorboard<2.10,>=2.9->tensorflow>=1.13.1->aif360[all]) (0.2.8)\n",
            "Requirement already satisfied: requests-oauthlib>=0.7.0 in /usr/local/lib/python3.8/dist-packages (from google-auth-oauthlib<0.5,>=0.4.1->tensorboard<2.10,>=2.9->tensorflow>=1.13.1->aif360[all]) (1.3.1)\n",
            "Requirement already satisfied: importlib-metadata>=4.4 in /usr/local/lib/python3.8/dist-packages (from markdown>=2.6.8->tensorboard<2.10,>=2.9->tensorflow>=1.13.1->aif360[all]) (5.1.0)\n",
            "Requirement already satisfied: zipp>=0.5 in /usr/local/lib/python3.8/dist-packages (from importlib-metadata>=4.4->markdown>=2.6.8->tensorboard<2.10,>=2.9->tensorflow>=1.13.1->aif360[all]) (3.11.0)\n",
            "Requirement already satisfied: pyasn1<0.5.0,>=0.4.6 in /usr/local/lib/python3.8/dist-packages (from pyasn1-modules>=0.2.1->google-auth<3,>=1.6.3->tensorboard<2.10,>=2.9->tensorflow>=1.13.1->aif360[all]) (0.4.8)\n",
            "Requirement already satisfied: oauthlib>=3.0.0 in /usr/local/lib/python3.8/dist-packages (from requests-oauthlib>=0.7.0->google-auth-oauthlib<0.5,>=0.4.1->tensorboard<2.10,>=2.9->tensorflow>=1.13.1->aif360[all]) (3.2.2)\n",
            "Requirement already satisfied: networkx in /usr/local/lib/python3.8/dist-packages (from BlackBoxAuditing->aif360[all]) (2.8.8)\n",
            "Collecting texttable>=1.6.2\n",
            "  Downloading texttable-1.6.7-py2.py3-none-any.whl (10 kB)\n",
            "Collecting cairocffi>=1.2.0\n",
            "  Downloading cairocffi-1.4.0.tar.gz (69 kB)\n",
            "\u001b[K     |████████████████████████████████| 69 kB 9.4 MB/s \n",
            "\u001b[?25hRequirement already satisfied: cffi>=1.1.0 in /usr/local/lib/python3.8/dist-packages (from cairocffi>=1.2.0->igraph[plotting]->aif360[all]) (1.15.1)\n",
            "Requirement already satisfied: pycparser in /usr/local/lib/python3.8/dist-packages (from cffi>=1.1.0->cairocffi>=1.2.0->igraph[plotting]->aif360[all]) (2.21)\n",
            "Requirement already satisfied: traitlets<6 in /usr/local/lib/python3.8/dist-packages (from ipympl->aif360[all]) (5.7.1)\n",
            "Requirement already satisfied: ipython-genutils in /usr/local/lib/python3.8/dist-packages (from ipympl->aif360[all]) (0.2.0)\n",
            "Requirement already satisfied: ipywidgets<9,>=7.6.0 in /usr/local/lib/python3.8/dist-packages (from ipympl->aif360[all]) (7.7.1)\n",
            "Requirement already satisfied: pillow in /usr/local/lib/python3.8/dist-packages (from ipympl->aif360[all]) (7.1.2)\n",
            "Requirement already satisfied: ipython<9 in /usr/local/lib/python3.8/dist-packages (from ipympl->aif360[all]) (7.9.0)\n",
            "Collecting matplotlib\n",
            "  Downloading matplotlib-3.6.2-cp38-cp38-manylinux_2_12_x86_64.manylinux2010_x86_64.whl (9.4 MB)\n",
            "\u001b[K     |████████████████████████████████| 9.4 MB 59.5 MB/s \n",
            "\u001b[?25hRequirement already satisfied: prompt-toolkit<2.1.0,>=2.0.0 in /usr/local/lib/python3.8/dist-packages (from ipython<9->ipympl->aif360[all]) (2.0.10)\n",
            "Requirement already satisfied: pickleshare in /usr/local/lib/python3.8/dist-packages (from ipython<9->ipympl->aif360[all]) (0.7.5)\n",
            "Requirement already satisfied: backcall in /usr/local/lib/python3.8/dist-packages (from ipython<9->ipympl->aif360[all]) (0.2.0)\n",
            "Requirement already satisfied: decorator in /usr/local/lib/python3.8/dist-packages (from ipython<9->ipympl->aif360[all]) (4.4.2)\n",
            "Collecting jedi>=0.10\n",
            "  Downloading jedi-0.18.2-py2.py3-none-any.whl (1.6 MB)\n",
            "\u001b[K     |████████████████████████████████| 1.6 MB 58.0 MB/s \n",
            "\u001b[?25hRequirement already satisfied: pexpect in /usr/local/lib/python3.8/dist-packages (from ipython<9->ipympl->aif360[all]) (4.8.0)\n",
            "Requirement already satisfied: ipykernel>=4.5.1 in /usr/local/lib/python3.8/dist-packages (from ipywidgets<9,>=7.6.0->ipympl->aif360[all]) (5.3.4)\n",
            "Requirement already satisfied: widgetsnbextension~=3.6.0 in /usr/local/lib/python3.8/dist-packages (from ipywidgets<9,>=7.6.0->ipympl->aif360[all]) (3.6.1)\n",
            "Requirement already satisfied: jupyterlab-widgets>=1.0.0 in /usr/local/lib/python3.8/dist-packages (from ipywidgets<9,>=7.6.0->ipympl->aif360[all]) (3.0.4)\n",
            "Requirement already satisfied: jupyter-client in /usr/local/lib/python3.8/dist-packages (from ipykernel>=4.5.1->ipywidgets<9,>=7.6.0->ipympl->aif360[all]) (6.1.12)\n",
            "Requirement already satisfied: tornado>=4.2 in /usr/local/lib/python3.8/dist-packages (from ipykernel>=4.5.1->ipywidgets<9,>=7.6.0->ipympl->aif360[all]) (6.0.4)\n",
            "Requirement already satisfied: parso<0.9.0,>=0.8.0 in /usr/local/lib/python3.8/dist-packages (from jedi>=0.10->ipython<9->ipympl->aif360[all]) (0.8.3)\n",
            "Collecting fonttools>=4.22.0\n",
            "  Downloading fonttools-4.38.0-py3-none-any.whl (965 kB)\n",
            "\u001b[K     |████████████████████████████████| 965 kB 66.3 MB/s \n",
            "\u001b[?25hRequirement already satisfied: cycler>=0.10 in /usr/local/lib/python3.8/dist-packages (from matplotlib->aif360[all]) (0.11.0)\n",
            "Requirement already satisfied: pyparsing>=2.2.1 in /usr/local/lib/python3.8/dist-packages (from matplotlib->aif360[all]) (3.0.9)\n",
            "Collecting contourpy>=1.0.1\n",
            "  Downloading contourpy-1.0.6-cp38-cp38-manylinux_2_17_x86_64.manylinux2014_x86_64.whl (295 kB)\n",
            "\u001b[K     |████████████████████████████████| 295 kB 77.4 MB/s \n",
            "\u001b[?25hRequirement already satisfied: kiwisolver>=1.0.1 in /usr/local/lib/python3.8/dist-packages (from matplotlib->aif360[all]) (1.4.4)\n",
            "Requirement already satisfied: wcwidth in /usr/local/lib/python3.8/dist-packages (from prompt-toolkit<2.1.0,>=2.0.0->ipython<9->ipympl->aif360[all]) (0.2.5)\n",
            "Requirement already satisfied: notebook>=4.4.1 in /usr/local/lib/python3.8/dist-packages (from widgetsnbextension~=3.6.0->ipywidgets<9,>=7.6.0->ipympl->aif360[all]) (5.7.16)\n",
            "Requirement already satisfied: nbformat in /usr/local/lib/python3.8/dist-packages (from notebook>=4.4.1->widgetsnbextension~=3.6.0->ipywidgets<9,>=7.6.0->ipympl->aif360[all]) (5.7.0)\n",
            "Requirement already satisfied: pyzmq>=17 in /usr/local/lib/python3.8/dist-packages (from notebook>=4.4.1->widgetsnbextension~=3.6.0->ipywidgets<9,>=7.6.0->ipympl->aif360[all]) (23.2.1)\n",
            "Requirement already satisfied: terminado>=0.8.1 in /usr/local/lib/python3.8/dist-packages (from notebook>=4.4.1->widgetsnbextension~=3.6.0->ipywidgets<9,>=7.6.0->ipympl->aif360[all]) (0.13.3)\n",
            "Requirement already satisfied: prometheus-client in /usr/local/lib/python3.8/dist-packages (from notebook>=4.4.1->widgetsnbextension~=3.6.0->ipywidgets<9,>=7.6.0->ipympl->aif360[all]) (0.15.0)\n",
            "Requirement already satisfied: jupyter-core>=4.4.0 in /usr/local/lib/python3.8/dist-packages (from notebook>=4.4.1->widgetsnbextension~=3.6.0->ipywidgets<9,>=7.6.0->ipympl->aif360[all]) (5.1.0)\n",
            "Requirement already satisfied: nbconvert<6.0 in /usr/local/lib/python3.8/dist-packages (from notebook>=4.4.1->widgetsnbextension~=3.6.0->ipywidgets<9,>=7.6.0->ipympl->aif360[all]) (5.6.1)\n",
            "Requirement already satisfied: Send2Trash in /usr/local/lib/python3.8/dist-packages (from notebook>=4.4.1->widgetsnbextension~=3.6.0->ipywidgets<9,>=7.6.0->ipympl->aif360[all]) (1.8.0)\n",
            "Requirement already satisfied: platformdirs>=2.5 in /usr/local/lib/python3.8/dist-packages (from jupyter-core>=4.4.0->notebook>=4.4.1->widgetsnbextension~=3.6.0->ipywidgets<9,>=7.6.0->ipympl->aif360[all]) (2.6.0)\n",
            "Requirement already satisfied: mistune<2,>=0.8.1 in /usr/local/lib/python3.8/dist-packages (from nbconvert<6.0->notebook>=4.4.1->widgetsnbextension~=3.6.0->ipywidgets<9,>=7.6.0->ipympl->aif360[all]) (0.8.4)\n",
            "Requirement already satisfied: bleach in /usr/local/lib/python3.8/dist-packages (from nbconvert<6.0->notebook>=4.4.1->widgetsnbextension~=3.6.0->ipywidgets<9,>=7.6.0->ipympl->aif360[all]) (5.0.1)\n",
            "Requirement already satisfied: defusedxml in /usr/local/lib/python3.8/dist-packages (from nbconvert<6.0->notebook>=4.4.1->widgetsnbextension~=3.6.0->ipywidgets<9,>=7.6.0->ipympl->aif360[all]) (0.7.1)\n",
            "Requirement already satisfied: testpath in /usr/local/lib/python3.8/dist-packages (from nbconvert<6.0->notebook>=4.4.1->widgetsnbextension~=3.6.0->ipywidgets<9,>=7.6.0->ipympl->aif360[all]) (0.6.0)\n",
            "Requirement already satisfied: pandocfilters>=1.4.1 in /usr/local/lib/python3.8/dist-packages (from nbconvert<6.0->notebook>=4.4.1->widgetsnbextension~=3.6.0->ipywidgets<9,>=7.6.0->ipympl->aif360[all]) (1.5.0)\n",
            "Requirement already satisfied: entrypoints>=0.2.2 in /usr/local/lib/python3.8/dist-packages (from nbconvert<6.0->notebook>=4.4.1->widgetsnbextension~=3.6.0->ipywidgets<9,>=7.6.0->ipympl->aif360[all]) (0.4)\n",
            "Requirement already satisfied: fastjsonschema in /usr/local/lib/python3.8/dist-packages (from nbformat->notebook>=4.4.1->widgetsnbextension~=3.6.0->ipywidgets<9,>=7.6.0->ipympl->aif360[all]) (2.16.2)\n",
            "Requirement already satisfied: jsonschema>=2.6 in /usr/local/lib/python3.8/dist-packages (from nbformat->notebook>=4.4.1->widgetsnbextension~=3.6.0->ipywidgets<9,>=7.6.0->ipympl->aif360[all]) (4.3.3)\n",
            "Requirement already satisfied: importlib-resources>=1.4.0 in /usr/local/lib/python3.8/dist-packages (from jsonschema>=2.6->nbformat->notebook>=4.4.1->widgetsnbextension~=3.6.0->ipywidgets<9,>=7.6.0->ipympl->aif360[all]) (5.10.1)\n",
            "Requirement already satisfied: pyrsistent!=0.17.0,!=0.17.1,!=0.17.2,>=0.14.0 in /usr/local/lib/python3.8/dist-packages (from jsonschema>=2.6->nbformat->notebook>=4.4.1->widgetsnbextension~=3.6.0->ipywidgets<9,>=7.6.0->ipympl->aif360[all]) (0.19.2)\n",
            "Requirement already satisfied: ptyprocess in /usr/local/lib/python3.8/dist-packages (from terminado>=0.8.1->notebook>=4.4.1->widgetsnbextension~=3.6.0->ipywidgets<9,>=7.6.0->ipympl->aif360[all]) (0.7.0)\n",
            "Requirement already satisfied: webencodings in /usr/local/lib/python3.8/dist-packages (from bleach->nbconvert<6.0->notebook>=4.4.1->widgetsnbextension~=3.6.0->ipywidgets<9,>=7.6.0->ipympl->aif360[all]) (0.5.1)\n",
            "Collecting qtconsole\n",
            "  Downloading qtconsole-5.4.0-py3-none-any.whl (121 kB)\n",
            "\u001b[K     |████████████████████████████████| 121 kB 74.5 MB/s \n",
            "\u001b[?25hRequirement already satisfied: jupyter-console in /usr/local/lib/python3.8/dist-packages (from jupyter->aif360[all]) (6.1.0)\n",
            "Requirement already satisfied: scikit-image>=0.12 in /usr/local/lib/python3.8/dist-packages (from lime->aif360[all]) (0.18.3)\n",
            "Requirement already satisfied: PyWavelets>=1.1.1 in /usr/local/lib/python3.8/dist-packages (from scikit-image>=0.12->lime->aif360[all]) (1.4.1)\n",
            "Requirement already satisfied: tifffile>=2019.7.26 in /usr/local/lib/python3.8/dist-packages (from scikit-image>=0.12->lime->aif360[all]) (2022.10.10)\n",
            "Requirement already satisfied: imageio>=2.3.0 in /usr/local/lib/python3.8/dist-packages (from scikit-image>=0.12->lime->aif360[all]) (2.9.0)\n",
            "Collecting qtpy>=2.0.1\n",
            "  Downloading QtPy-2.3.0-py3-none-any.whl (83 kB)\n",
            "\u001b[K     |████████████████████████████████| 83 kB 2.6 MB/s \n",
            "\u001b[?25hRequirement already satisfied: tzlocal in /usr/local/lib/python3.8/dist-packages (from rpy2->aif360[all]) (1.5.1)\n",
            "Requirement already satisfied: sphinxcontrib-serializinghtml in /usr/local/lib/python3.8/dist-packages (from sphinxcontrib-websupport->sphinx<2->aif360[all]) (1.1.5)\n",
            "Collecting memory-profiler\n",
            "  Downloading memory_profiler-0.61.0-py3-none-any.whl (31 kB)\n",
            "Collecting shap\n",
            "  Downloading shap-0.41.0-cp38-cp38-manylinux_2_12_x86_64.manylinux2010_x86_64.whl (575 kB)\n",
            "\u001b[K     |████████████████████████████████| 575 kB 74.8 MB/s \n",
            "\u001b[?25hRequirement already satisfied: psutil in /usr/local/lib/python3.8/dist-packages (from memory-profiler->tempeh->aif360[all]) (5.4.8)\n",
            "Requirement already satisfied: numba in /usr/local/lib/python3.8/dist-packages (from shap->tempeh->aif360[all]) (0.56.4)\n",
            "Collecting slicer==0.0.7\n",
            "  Downloading slicer-0.0.7-py3-none-any.whl (14 kB)\n",
            "Requirement already satisfied: cloudpickle in /usr/local/lib/python3.8/dist-packages (from shap->tempeh->aif360[all]) (1.5.0)\n",
            "Requirement already satisfied: llvmlite<0.40,>=0.39.0dev0 in /usr/local/lib/python3.8/dist-packages (from numba->shap->tempeh->aif360[all]) (0.39.1)\n",
            "Building wheels for collected packages: BlackBoxAuditing, cairocffi, lime\n",
            "  Building wheel for BlackBoxAuditing (setup.py) ... \u001b[?25l\u001b[?25hdone\n",
            "  Created wheel for BlackBoxAuditing: filename=BlackBoxAuditing-0.1.54-py2.py3-none-any.whl size=1394770 sha256=780aa2cfb668dadf7b5c0e76c122469231417d27e29dd5abf403756701ed9c84\n",
            "  Stored in directory: /root/.cache/pip/wheels/e3/77/36/a32ec1b04c2ebe2c45e88d42f33f22f987e76aad3f297b681e\n",
            "  Building wheel for cairocffi (setup.py) ... \u001b[?25l\u001b[?25hdone\n",
            "  Created wheel for cairocffi: filename=cairocffi-1.4.0-py3-none-any.whl size=88775 sha256=cfa8455410c36a71c80c0f004a99238481ce8a4a1fe3fd3a91d7d929ad4249bb\n",
            "  Stored in directory: /root/.cache/pip/wheels/01/a9/c0/5c05f9dd73c21f9a7716690642823cdba55594d17a9bd69daf\n",
            "  Building wheel for lime (setup.py) ... \u001b[?25l\u001b[?25hdone\n",
            "  Created wheel for lime: filename=lime-0.2.0.1-py3-none-any.whl size=283857 sha256=557a9aba22e2c5b1eb1c682d04b7285cc402dc0aa3ab31c66fb47d0212270a91\n",
            "  Stored in directory: /root/.cache/pip/wheels/e6/a6/20/cc1e293fcdb67ede666fed293cb895395e7ecceb4467779546\n",
            "Successfully built BlackBoxAuditing cairocffi lime\n",
            "Installing collected packages: jedi, fonttools, contourpy, texttable, slicer, qtpy, matplotlib, shap, qtconsole, memory-profiler, igraph, cairocffi, tempeh, sphinx-rtd-theme, lime, jupyter, ipympl, fairlearn, BlackBoxAuditing, aif360, adversarial-robustness-toolbox\n",
            "  Attempting uninstall: matplotlib\n",
            "    Found existing installation: matplotlib 3.2.2\n",
            "    Uninstalling matplotlib-3.2.2:\n",
            "      Successfully uninstalled matplotlib-3.2.2\n",
            "Successfully installed BlackBoxAuditing-0.1.54 adversarial-robustness-toolbox-1.13.0 aif360-0.5.0 cairocffi-1.4.0 contourpy-1.0.6 fairlearn-0.8.0 fonttools-4.38.0 igraph-0.10.2 ipympl-0.9.2 jedi-0.18.2 jupyter-1.0.0 lime-0.2.0.1 matplotlib-3.6.2 memory-profiler-0.61.0 qtconsole-5.4.0 qtpy-2.3.0 shap-0.41.0 slicer-0.0.7 sphinx-rtd-theme-1.1.1 tempeh-0.1.12 texttable-1.6.7\n"
          ]
        },
        {
          "output_type": "display_data",
          "data": {
            "application/vnd.colab-display-data+json": {
              "pip_warning": {
                "packages": [
                  "matplotlib",
                  "mpl_toolkits"
                ]
              }
            }
          },
          "metadata": {}
        }
      ],
      "source": [
        "!pip install 'aif360[all]'  "
      ]
    },
    {
      "cell_type": "code",
      "execution_count": null,
      "metadata": {
        "id": "ViN_6JIYztW7"
      },
      "outputs": [],
      "source": [
        "cp adult* /usr/local/lib/python3.8/dist-packages/aif360/data/raw/adult/."
      ]
    },
    {
      "cell_type": "code",
      "source": [],
      "metadata": {
        "id": "8B5DZS2NPOeK"
      },
      "execution_count": null,
      "outputs": []
    },
    {
      "cell_type": "code",
      "execution_count": null,
      "metadata": {
        "id": "M9Vde_VB3PhC"
      },
      "outputs": [],
      "source": []
    },
    {
      "cell_type": "code",
      "execution_count": null,
      "metadata": {
        "id": "Ih3X_j4n0bez"
      },
      "outputs": [],
      "source": [
        "%matplotlib inline\n",
        "# Load all necessary packages\n",
        "import sys\n",
        "sys.path.append(\"../\")\n",
        "from aif360.datasets import BinaryLabelDataset\n",
        "from aif360.datasets import AdultDataset, GermanDataset, CompasDataset\n",
        "from aif360.metrics import BinaryLabelDatasetMetric\n",
        "from aif360.metrics import ClassificationMetric\n",
        "from aif360.metrics.utils import compute_boolean_conditioning_vector\n",
        "\n",
        "from aif360.algorithms.preprocessing.optim_preproc_helpers.data_preproc_functions import load_preproc_data_adult, load_preproc_data_compas, load_preproc_data_german\n",
        "\n",
        "from aif360.algorithms.inprocessing.adversarial_debiasing import AdversarialDebiasing\n",
        "\n",
        "from sklearn.linear_model import LogisticRegression\n",
        "from sklearn.preprocessing import StandardScaler, MaxAbsScaler\n",
        "from sklearn.metrics import accuracy_score\n",
        "\n",
        "from IPython.display import Markdown, display\n",
        "import matplotlib.pyplot as plt\n",
        "\n",
        "import tensorflow.compat.v1 as tf\n",
        "tf.disable_eager_execution()"
      ]
    },
    {
      "cell_type": "code",
      "execution_count": null,
      "metadata": {
        "id": "B4d48Hs_3QAV"
      },
      "outputs": [],
      "source": [
        "from aif360.datasets import AdultDataset, GermanDataset, CompasDataset\n",
        "import pandas as pd\n",
        "import numpy as np\n",
        "\n",
        "def load_preproc_data_adult(protected_attributes=None, sub_samp=False, balance=False):\n",
        "    def custom_preprocessing(df):\n",
        "        \"\"\"The custom pre-processing function is adapted from\n",
        "            https://github.com/fair-preprocessing/nips2017/blob/master/Adult/code/Generate_Adult_Data.ipynb\n",
        "            If sub_samp != False, then return smaller version of dataset truncated to tiny_test data points.\n",
        "        \"\"\"\n",
        "\n",
        "        # Group age by decade\n",
        "        df['Age (decade)'] = df['age'].apply(lambda x: x//10*10)\n",
        "        # df['Age (decade)'] = df['age'].apply(lambda x: np.floor(x/10.0)*10.0)\n",
        "\n",
        "        def group_edu(x):\n",
        "            if x <= 5:\n",
        "                return '<6'\n",
        "            elif x >= 13:\n",
        "                return '>12'\n",
        "            else:\n",
        "                return x\n",
        "\n",
        "        def age_cut(x):\n",
        "            if x >= 70:\n",
        "                return '>=70'\n",
        "            else:\n",
        "                return x\n",
        "\n",
        "        # Cluster education and age attributes.\n",
        "        # Limit education range\n",
        "        df['Education Years'] = df['education-num'].apply(lambda x: group_edu(x))\n",
        "        df['Education Years'] = df['Education Years'].astype('category')\n",
        "\n",
        "        # Limit age range\n",
        "        df['Age (decade)'] = df['Age (decade)'].apply(lambda x: age_cut(x))\n",
        "\n",
        "        # Rename income variable\n",
        "        df['Income Binary'] = df['income-per-year']\n",
        "        df['Income Binary'] = df['Income Binary'].replace(to_replace='>50K.', value='>50K', regex=True)\n",
        "        df['Income Binary'] = df['Income Binary'].replace(to_replace='<=50K.', value='<=50K', regex=True)\n",
        "\n",
        "        # Recode sex and race\n",
        "        df['sex'] = df['sex'].replace({'Female': 0.0, 'Male': 1.0})\n",
        "\n",
        "        if sub_samp and not balance:\n",
        "            df = df.sample(sub_samp)\n",
        "        if sub_samp and balance:\n",
        "            df_0 = df[df['Income Binary'] == '<=50K']\n",
        "            df_1 = df[df['Income Binary'] == '>50K']\n",
        "            df_0 = df_0.sample(int(sub_samp/2))\n",
        "            df_1 = df_1.sample(int(sub_samp/2))\n",
        "            df = pd.concat([df_0, df_1])\n",
        "        return df\n",
        "\n",
        "    XD_features = ['Age (decade)', 'Education Years', 'hours-per-week', 'sex']\n",
        "    D_features = ['sex'] if protected_attributes is None else protected_attributes\n",
        "    Y_features = ['Income Binary']\n",
        "    X_features = list(set(XD_features)-set(D_features))\n",
        "    categorical_features = ['Age (decade)', 'Education Years', 'marital-status', 'workclass']\n",
        "\n",
        "    # privileged classes\n",
        "    all_privileged_classes = {\"sex\": [1.0]}\n",
        "\n",
        "    # protected attribute maps\n",
        "    all_protected_attribute_maps = {\"sex\": {1.0: 'Male', 0.0: 'Female'}}\n",
        "\n",
        "    return AdultDataset(\n",
        "        label_name=Y_features[0],\n",
        "        favorable_classes=['>50K', '>50K.'],\n",
        "        protected_attribute_names=D_features,\n",
        "        privileged_classes=[all_privileged_classes[x] for x in D_features],\n",
        "        instance_weights_name=None,\n",
        "        categorical_features=categorical_features,\n",
        "        features_to_keep=X_features+Y_features+D_features,\n",
        "        na_values=['?'],\n",
        "        metadata={'label_maps': [{1.0: '>50K', 0.0: '<=50K'}],\n",
        "                  'protected_attribute_maps': [all_protected_attribute_maps[x]\n",
        "                                for x in D_features]},\n",
        "        custom_preprocessing=custom_preprocessing)"
      ]
    },
    {
      "cell_type": "code",
      "execution_count": null,
      "metadata": {
        "id": "JBq4D94XBIZA"
      },
      "outputs": [],
      "source": [
        "import os\n",
        "\n",
        "import pandas as pd\n",
        "\n",
        "from aif360.datasets import StandardDataset\n",
        "\n",
        "\n",
        "default_mappings = {\n",
        "    'label_maps': [{1.0: '>50K', 0.0: '<=50K'}],\n",
        "    'protected_attribute_maps': [{1.0: 'Male', 0.0: 'Female'}]\n",
        "}\n",
        "\n",
        "class AdultDataset(StandardDataset):\n",
        "    \"\"\"Adult Census Income Dataset.\n",
        "    See :file:`aif360/data/raw/adult/README.md`.\n",
        "    \"\"\"\n",
        "\n",
        "    def __init__(self, label_name='income-per-year',\n",
        "                 favorable_classes=['>50K', '>50K.'],\n",
        "                 protected_attribute_names=['sex'],\n",
        "                 privileged_classes=[ ['Male']],\n",
        "                 instance_weights_name=None,\n",
        "                 categorical_features=['workclass',\n",
        "                     'marital-status'],\n",
        "                 features_to_keep=[], features_to_drop=[],\n",
        "                 na_values=['?'], custom_preprocessing=None,\n",
        "                 metadata=default_mappings):\n",
        "        \"\"\"See :obj:`StandardDataset` for a description of the arguments.\n",
        "        Examples:\n",
        "            The following will instantiate a dataset which uses the `fnlwgt`\n",
        "            feature:\n",
        "            >>> from aif360.datasets import AdultDataset\n",
        "            >>> ad = AdultDataset(instance_weights_name='fnlwgt',\n",
        "            ... features_to_drop=[])\n",
        "            WARNING:root:Missing Data: 3620 rows removed from dataset.\n",
        "            >>> not np.all(ad.instance_weights == 1.)\n",
        "            True\n",
        "            To instantiate a dataset which utilizes only numerical features and\n",
        "            a single protected attribute, run:\n",
        "            >>> single_protected = ['sex']\n",
        "            >>> single_privileged = [['Male']]\n",
        "            >>> ad = AdultDataset(protected_attribute_names=single_protected,\n",
        "            ... privileged_classes=single_privileged,\n",
        "            ... categorical_features=[],\n",
        "            ... features_to_keep=['age', 'education-num'])\n",
        "            >>> print(ad.feature_names)\n",
        "            ['education-num', 'age', 'sex']\n",
        "            >>> print(ad.label_names)\n",
        "            ['income-per-year']\n",
        "            Note: the `protected_attribute_names` and `label_name` are kept even\n",
        "            if they are not explicitly given in `features_to_keep`.\n",
        "            In some cases, it may be useful to keep track of a mapping from\n",
        "            `float -> str` for protected attributes and/or labels. If our use\n",
        "            case differs from the default, we can modify the mapping stored in\n",
        "            `metadata`:\n",
        "            >>> label_map = {1.0: '>50K', 0.0: '<=50K'}\n",
        "            >>> protected_attribute_maps = [{1.0: 'Male', 0.0: 'Female'}]\n",
        "            >>> ad = AdultDataset(protected_attribute_names=['sex'],\n",
        "            ... categorical_features=['workclass', 'education', 'marital-status',\n",
        "            ... 'occupation', 'relationship', 'native-country', 'race'],\n",
        "            ... privileged_classes=[['Male']], metadata={'label_map': label_map,\n",
        "            ... 'protected_attribute_maps': protected_attribute_maps})\n",
        "            Note that we are now adding `race` as a `categorical_features`.\n",
        "            Now this information will stay attached to the dataset and can be\n",
        "            used for more descriptive visualizations.\n",
        "        \"\"\"\n",
        "\n",
        "        train_path = '/usr/local/lib/python3.8/dist-packages/aif360/data/raw/adult/adult.data'\n",
        "        test_path = '/usr/local/lib/python3.8/dist-packages/aif360/data/raw/adult/adult.test'\n",
        "        # as given by adult.names\n",
        "        column_names = ['age', 'workclass',\n",
        "            'education-num', 'marital-status',\n",
        "             'sex', 'hours-per-week',\n",
        "             'income-per-year']\n",
        "        try:\n",
        "            train = pd.read_csv(train_path, header=None, names=column_names,\n",
        "                skipinitialspace=True, na_values=na_values)\n",
        "            print(column_names)\n",
        "            print(test_path)\n",
        "            test = pd.read_csv(test_path, header=0, names=column_names,\n",
        "                skipinitialspace=True, na_values=na_values)\n",
        "        except IOError as err:\n",
        "            print(\"IOError: {}\".format(err))\n",
        "            print(\"To use this class, please download the following files:\")\n",
        "            print(\"\\n\\thttps://archive.ics.uci.edu/ml/machine-learning-databases/adult/adult.data\")\n",
        "            print(\"\\thttps://archive.ics.uci.edu/ml/machine-learning-databases/adult/adult.test\")\n",
        "            print(\"\\thttps://archive.ics.uci.edu/ml/machine-learning-databases/adult/adult.names\")\n",
        "            print(\"\\nand place them, as-is, in the folder:\")\n",
        "            print(\"\\n\\t{}\\n\".format(os.path.abspath(os.path.join(\n",
        "               os.path.abspath(__file__), '..', '..', 'data', 'raw', 'adult'))))\n",
        "            import sys\n",
        "            sys.exit(1)\n",
        "\n",
        "        df = pd.concat([test, train], ignore_index=True)\n",
        "\n",
        "        super(AdultDataset, self).__init__(df=df, label_name=label_name,\n",
        "            favorable_classes=favorable_classes,\n",
        "            protected_attribute_names=protected_attribute_names,\n",
        "            privileged_classes=privileged_classes,\n",
        "            instance_weights_name=instance_weights_name,\n",
        "            categorical_features=categorical_features,\n",
        "            features_to_keep=features_to_keep,\n",
        "            features_to_drop=features_to_drop, na_values=na_values,\n",
        "            custom_preprocessing=custom_preprocessing, metadata=metadata)"
      ]
    },
    {
      "cell_type": "code",
      "execution_count": null,
      "metadata": {
        "id": "7zz1vqvABrQE"
      },
      "outputs": [],
      "source": []
    },
    {
      "cell_type": "code",
      "execution_count": null,
      "metadata": {
        "colab": {
          "base_uri": "https://localhost:8080/"
        },
        "id": "sXTGLTOgy3dV",
        "outputId": "2f2b8838-4d38-469a-b889-a19156773ab5"
      },
      "outputs": [
        {
          "output_type": "stream",
          "name": "stdout",
          "text": [
            "['age', 'workclass', 'education-num', 'marital-status', 'sex', 'hours-per-week', 'income-per-year']\n",
            "/usr/local/lib/python3.8/dist-packages/aif360/data/raw/adult/adult.test\n"
          ]
        }
      ],
      "source": [
        "# Get the dataset and split into train and test\n",
        "dataset_orig = load_preproc_data_adult()\n",
        "\n",
        "privileged_groups = [{'sex': 1}]\n",
        "unprivileged_groups = [{'sex': 0}]\n",
        "\n",
        "dataset_orig_train, dataset_orig_test = dataset_orig.split([0.7], shuffle=True)"
      ]
    },
    {
      "cell_type": "code",
      "execution_count": null,
      "metadata": {
        "id": "CMab2ck4CVBq"
      },
      "outputs": [],
      "source": [
        "dataset_orig_train, _ = dataset_orig_train.split([0.1], shuffle=True)\n",
        "\n",
        "\n",
        "dataset_orig_test, _ = dataset_orig_test.split([0.1], shuffle=True)"
      ]
    },
    {
      "cell_type": "code",
      "execution_count": null,
      "metadata": {
        "colab": {
          "base_uri": "https://localhost:8080/",
          "height": 320
        },
        "id": "ZTniBGWsz5sN",
        "outputId": "0cafb2b3-c935-4cd1-e8c8-2d5a2628e1d2"
      },
      "outputs": [
        {
          "output_type": "display_data",
          "data": {
            "text/plain": [
              "<IPython.core.display.Markdown object>"
            ],
            "text/markdown": "#### Training Dataset shape"
          },
          "metadata": {}
        },
        {
          "output_type": "stream",
          "name": "stdout",
          "text": [
            "(11587, 31)\n"
          ]
        },
        {
          "output_type": "display_data",
          "data": {
            "text/plain": [
              "<IPython.core.display.Markdown object>"
            ],
            "text/markdown": "#### Favorable and unfavorable labels"
          },
          "metadata": {}
        },
        {
          "output_type": "stream",
          "name": "stdout",
          "text": [
            "1.0 0.0\n"
          ]
        },
        {
          "output_type": "display_data",
          "data": {
            "text/plain": [
              "<IPython.core.display.Markdown object>"
            ],
            "text/markdown": "#### Protected attribute names"
          },
          "metadata": {}
        },
        {
          "output_type": "stream",
          "name": "stdout",
          "text": [
            "['sex']\n"
          ]
        },
        {
          "output_type": "display_data",
          "data": {
            "text/plain": [
              "<IPython.core.display.Markdown object>"
            ],
            "text/markdown": "#### Privileged and unprivileged protected attribute values"
          },
          "metadata": {}
        },
        {
          "output_type": "stream",
          "name": "stdout",
          "text": [
            "[array([1.])] [array([0.])]\n"
          ]
        },
        {
          "output_type": "display_data",
          "data": {
            "text/plain": [
              "<IPython.core.display.Markdown object>"
            ],
            "text/markdown": "#### Dataset feature names"
          },
          "metadata": {}
        },
        {
          "output_type": "stream",
          "name": "stdout",
          "text": [
            "['sex', 'hours-per-week', 'workclass=1', 'workclass=2', 'workclass=3', 'workclass=4', 'workclass=5', 'workclass=6', 'workclass=7', 'workclass=8', 'marital-status=1', 'marital-status=2', 'marital-status=3', 'marital-status=4', 'marital-status=5', 'Age (decade)=10.0', 'Age (decade)=20.0', 'Age (decade)=30.0', 'Age (decade)=40.0', 'Age (decade)=50.0', 'Age (decade)=60.0', 'Age (decade)=>=70', 'Education Years=6.0', 'Education Years=7.0', 'Education Years=8.0', 'Education Years=9.0', 'Education Years=10.0', 'Education Years=11.0', 'Education Years=12.0', 'Education Years=<6', 'Education Years=>12']\n"
          ]
        }
      ],
      "source": [
        "# print out some labels, names, etc.\n",
        "display(Markdown(\"#### Training Dataset shape\"))\n",
        "print(dataset_orig_train.features.shape)\n",
        "display(Markdown(\"#### Favorable and unfavorable labels\"))\n",
        "print(dataset_orig_train.favorable_label, dataset_orig_train.unfavorable_label)\n",
        "display(Markdown(\"#### Protected attribute names\"))\n",
        "print(dataset_orig_train.protected_attribute_names)\n",
        "display(Markdown(\"#### Privileged and unprivileged protected attribute values\"))\n",
        "print(dataset_orig_train.privileged_protected_attributes, \n",
        "      dataset_orig_train.unprivileged_protected_attributes)\n",
        "display(Markdown(\"#### Dataset feature names\"))\n",
        "print(dataset_orig_train.feature_names)"
      ]
    },
    {
      "cell_type": "code",
      "execution_count": null,
      "metadata": {
        "colab": {
          "base_uri": "https://localhost:8080/",
          "height": 91
        },
        "id": "t1ihRF660BXl",
        "outputId": "b583417f-3ee0-49e3-f74a-ce3733221dc3"
      },
      "outputs": [
        {
          "output_type": "display_data",
          "data": {
            "text/plain": [
              "<IPython.core.display.Markdown object>"
            ],
            "text/markdown": "#### Scaled dataset - Verify that the scaling does not affect the group label statistics"
          },
          "metadata": {}
        },
        {
          "output_type": "stream",
          "name": "stdout",
          "text": [
            "Train set: Difference in mean outcomes between unprivileged and privileged groups = -0.146590\n",
            "Test set: Difference in mean outcomes between unprivileged and privileged groups = -0.147583\n"
          ]
        }
      ],
      "source": [
        "min_max_scaler = MaxAbsScaler()\n",
        "dataset_orig_train.features = min_max_scaler.fit_transform(dataset_orig_train.features)\n",
        "dataset_orig_test.features = min_max_scaler.transform(dataset_orig_test.features)\n",
        "metric_scaled_train = BinaryLabelDatasetMetric(dataset_orig_train, \n",
        "                             unprivileged_groups=unprivileged_groups,\n",
        "                             privileged_groups=privileged_groups)\n",
        "display(Markdown(\"#### Scaled dataset - Verify that the scaling does not affect the group label statistics\"))\n",
        "print(\"Train set: Difference in mean outcomes between unprivileged and privileged groups = %f\" % metric_scaled_train.mean_difference())\n",
        "metric_scaled_test = BinaryLabelDatasetMetric(dataset_orig_test, \n",
        "                             unprivileged_groups=unprivileged_groups,\n",
        "                             privileged_groups=privileged_groups)\n",
        "print(\"Test set: Difference in mean outcomes between unprivileged and privileged groups = %f\" % metric_scaled_test.mean_difference())"
      ]
    },
    {
      "cell_type": "code",
      "execution_count": null,
      "metadata": {
        "id": "tR_ROaTg0dmw"
      },
      "outputs": [],
      "source": [
        "# Load post-processing algorithm that equalizes the odds\n",
        "# Learn parameters with debias set to False\n",
        "sess = tf.Session()\n",
        "plain_model = AdversarialDebiasing(privileged_groups = privileged_groups,\n",
        "                          unprivileged_groups = unprivileged_groups,\n",
        "                          scope_name='plain_classifier',\n",
        "                          debias=False,\n",
        "                          sess=sess)"
      ]
    },
    {
      "cell_type": "code",
      "execution_count": null,
      "metadata": {
        "colab": {
          "base_uri": "https://localhost:8080/"
        },
        "id": "tRnDUn4-1wJD",
        "outputId": "bb514e4b-5da7-4030-abaa-a41540fc877f"
      },
      "outputs": [
        {
          "output_type": "stream",
          "name": "stderr",
          "text": [
            "WARNING:tensorflow:From /usr/local/lib/python3.8/dist-packages/tensorflow/python/util/dispatch.py:1082: calling dropout (from tensorflow.python.ops.nn_ops) with keep_prob is deprecated and will be removed in a future version.\n",
            "Instructions for updating:\n",
            "Please use `rate` instead of `keep_prob`. Rate should be set to `rate = 1 - keep_prob`.\n"
          ]
        },
        {
          "output_type": "stream",
          "name": "stdout",
          "text": [
            "epoch 0; iter: 0; batch classifier loss: 0.692704\n",
            "epoch 1; iter: 0; batch classifier loss: 0.615162\n",
            "epoch 2; iter: 0; batch classifier loss: 0.525696\n",
            "epoch 3; iter: 0; batch classifier loss: 0.544165\n",
            "epoch 4; iter: 0; batch classifier loss: 0.511569\n",
            "epoch 5; iter: 0; batch classifier loss: 0.541053\n",
            "epoch 6; iter: 0; batch classifier loss: 0.521616\n",
            "epoch 7; iter: 0; batch classifier loss: 0.484768\n",
            "epoch 8; iter: 0; batch classifier loss: 0.546925\n",
            "epoch 9; iter: 0; batch classifier loss: 0.541958\n",
            "epoch 10; iter: 0; batch classifier loss: 0.524301\n",
            "epoch 11; iter: 0; batch classifier loss: 0.550457\n",
            "epoch 12; iter: 0; batch classifier loss: 0.493889\n",
            "epoch 13; iter: 0; batch classifier loss: 0.504341\n",
            "epoch 14; iter: 0; batch classifier loss: 0.554702\n",
            "epoch 15; iter: 0; batch classifier loss: 0.477274\n",
            "epoch 16; iter: 0; batch classifier loss: 0.509806\n",
            "epoch 17; iter: 0; batch classifier loss: 0.493482\n",
            "epoch 18; iter: 0; batch classifier loss: 0.527600\n",
            "epoch 19; iter: 0; batch classifier loss: 0.487538\n",
            "epoch 20; iter: 0; batch classifier loss: 0.530051\n",
            "epoch 21; iter: 0; batch classifier loss: 0.510466\n",
            "epoch 22; iter: 0; batch classifier loss: 0.477809\n",
            "epoch 23; iter: 0; batch classifier loss: 0.532225\n",
            "epoch 24; iter: 0; batch classifier loss: 0.491327\n",
            "epoch 25; iter: 0; batch classifier loss: 0.511869\n",
            "epoch 26; iter: 0; batch classifier loss: 0.563064\n",
            "epoch 27; iter: 0; batch classifier loss: 0.474230\n",
            "epoch 28; iter: 0; batch classifier loss: 0.489942\n",
            "epoch 29; iter: 0; batch classifier loss: 0.429467\n",
            "epoch 30; iter: 0; batch classifier loss: 0.519625\n",
            "epoch 31; iter: 0; batch classifier loss: 0.535391\n",
            "epoch 32; iter: 0; batch classifier loss: 0.541030\n",
            "epoch 33; iter: 0; batch classifier loss: 0.490236\n",
            "epoch 34; iter: 0; batch classifier loss: 0.529304\n",
            "epoch 35; iter: 0; batch classifier loss: 0.538767\n",
            "epoch 36; iter: 0; batch classifier loss: 0.501431\n",
            "epoch 37; iter: 0; batch classifier loss: 0.576280\n",
            "epoch 38; iter: 0; batch classifier loss: 0.549558\n",
            "epoch 39; iter: 0; batch classifier loss: 0.487280\n",
            "epoch 40; iter: 0; batch classifier loss: 0.482617\n",
            "epoch 41; iter: 0; batch classifier loss: 0.556992\n",
            "epoch 42; iter: 0; batch classifier loss: 0.500064\n",
            "epoch 43; iter: 0; batch classifier loss: 0.568032\n",
            "epoch 44; iter: 0; batch classifier loss: 0.484517\n",
            "epoch 45; iter: 0; batch classifier loss: 0.543025\n",
            "epoch 46; iter: 0; batch classifier loss: 0.525010\n",
            "epoch 47; iter: 0; batch classifier loss: 0.580352\n",
            "epoch 48; iter: 0; batch classifier loss: 0.547960\n",
            "epoch 49; iter: 0; batch classifier loss: 0.498082\n"
          ]
        },
        {
          "output_type": "execute_result",
          "data": {
            "text/plain": [
              "<aif360.algorithms.inprocessing.adversarial_debiasing.AdversarialDebiasing at 0x7fcc80bf0eb0>"
            ]
          },
          "metadata": {},
          "execution_count": 14
        }
      ],
      "source": [
        "plain_model.fit(dataset_orig_train)"
      ]
    },
    {
      "cell_type": "code",
      "execution_count": null,
      "metadata": {
        "id": "tXHsO-U-10jC"
      },
      "outputs": [],
      "source": [
        "# Apply the plain model to test data\n",
        "dataset_nodebiasing_train = plain_model.predict(dataset_orig_train)\n",
        "dataset_nodebiasing_test = plain_model.predict(dataset_orig_test)"
      ]
    },
    {
      "cell_type": "code",
      "execution_count": null,
      "metadata": {
        "colab": {
          "base_uri": "https://localhost:8080/",
          "height": 232
        },
        "id": "WkzzZDqJ2ACZ",
        "outputId": "37dc3a08-d885-479e-c395-6f9974c0253d"
      },
      "outputs": [
        {
          "output_type": "display_data",
          "data": {
            "text/plain": [
              "<IPython.core.display.Markdown object>"
            ],
            "text/markdown": "#### Plain model - without debiasing - dataset metrics"
          },
          "metadata": {}
        },
        {
          "output_type": "stream",
          "name": "stdout",
          "text": [
            "Train set: Difference in mean outcomes between unprivileged and privileged groups = -0.314102\n",
            "Test set: Difference in mean outcomes between unprivileged and privileged groups = -0.295687\n"
          ]
        },
        {
          "output_type": "display_data",
          "data": {
            "text/plain": [
              "<IPython.core.display.Markdown object>"
            ],
            "text/markdown": "#### Plain model - without debiasing - classification metrics"
          },
          "metadata": {}
        },
        {
          "output_type": "stream",
          "name": "stdout",
          "text": [
            "Test set: Classification accuracy = 0.726943\n",
            "Test set: Balanced classification accuracy = 0.702780\n",
            "Test set: Disparate impact = 0.401240\n",
            "Test set: Equal opportunity difference = -0.358905\n",
            "Test set: Average odds difference = -0.266772\n",
            "Test set: Theil_index = 0.200454\n"
          ]
        }
      ],
      "source": [
        "# Metrics for the dataset from plain model (without debiasing)\n",
        "display(Markdown(\"#### Plain model - without debiasing - dataset metrics\"))\n",
        "metric_dataset_nodebiasing_train = BinaryLabelDatasetMetric(dataset_nodebiasing_train, \n",
        "                                             unprivileged_groups=unprivileged_groups,\n",
        "                                             privileged_groups=privileged_groups)\n",
        "\n",
        "print(\"Train set: Difference in mean outcomes between unprivileged and privileged groups = %f\" % metric_dataset_nodebiasing_train.mean_difference())\n",
        "\n",
        "metric_dataset_nodebiasing_test = BinaryLabelDatasetMetric(dataset_nodebiasing_test, \n",
        "                                             unprivileged_groups=unprivileged_groups,\n",
        "                                             privileged_groups=privileged_groups)\n",
        "\n",
        "print(\"Test set: Difference in mean outcomes between unprivileged and privileged groups = %f\" % metric_dataset_nodebiasing_test.mean_difference())\n",
        "\n",
        "display(Markdown(\"#### Plain model - without debiasing - classification metrics\"))\n",
        "classified_metric_nodebiasing_test = ClassificationMetric(dataset_orig_test, \n",
        "                                                 dataset_nodebiasing_test,\n",
        "                                                 unprivileged_groups=unprivileged_groups,\n",
        "                                                 privileged_groups=privileged_groups)\n",
        "print(\"Test set: Classification accuracy = %f\" % classified_metric_nodebiasing_test.accuracy())\n",
        "TPR = classified_metric_nodebiasing_test.true_positive_rate()\n",
        "TNR = classified_metric_nodebiasing_test.true_negative_rate()\n",
        "bal_acc_nodebiasing_test = 0.5*(TPR+TNR)\n",
        "print(\"Test set: Balanced classification accuracy = %f\" % bal_acc_nodebiasing_test)\n",
        "print(\"Test set: Disparate impact = %f\" % classified_metric_nodebiasing_test.disparate_impact())\n",
        "print(\"Test set: Equal opportunity difference = %f\" % classified_metric_nodebiasing_test.equal_opportunity_difference())\n",
        "print(\"Test set: Average odds difference = %f\" % classified_metric_nodebiasing_test.average_odds_difference())\n",
        "print(\"Test set: Theil_index = %f\" % classified_metric_nodebiasing_test.theil_index())"
      ]
    },
    {
      "cell_type": "code",
      "execution_count": null,
      "metadata": {
        "id": "tQZeHMD32FY1"
      },
      "outputs": [],
      "source": [
        "sess.close()\n",
        "tf.reset_default_graph()\n",
        "sess = tf.Session()"
      ]
    },
    {
      "cell_type": "code",
      "execution_count": null,
      "metadata": {
        "id": "bqAuS90b2Qdi"
      },
      "outputs": [],
      "source": [
        "# Learn parameters with debias set to True\n",
        "debiased_model = AdversarialDebiasing(privileged_groups = privileged_groups,\n",
        "                          unprivileged_groups = unprivileged_groups,\n",
        "                          scope_name='debiased_classifier',\n",
        "                          debias=True,\n",
        "                          sess=sess)"
      ]
    },
    {
      "cell_type": "code",
      "execution_count": null,
      "metadata": {
        "colab": {
          "base_uri": "https://localhost:8080/"
        },
        "id": "VSFPkmRw2Tan",
        "outputId": "0479c4a6-5a51-4fe2-d26a-3cd7be25734a"
      },
      "outputs": [
        {
          "output_type": "stream",
          "name": "stdout",
          "text": [
            "epoch 0; iter: 0; batch classifier loss: 0.703276; batch adversarial loss: 0.706240\n",
            "epoch 1; iter: 0; batch classifier loss: 0.642951; batch adversarial loss: 0.690546\n",
            "epoch 2; iter: 0; batch classifier loss: 0.576663; batch adversarial loss: 0.686421\n",
            "epoch 3; iter: 0; batch classifier loss: 0.573468; batch adversarial loss: 0.683117\n",
            "epoch 4; iter: 0; batch classifier loss: 0.573726; batch adversarial loss: 0.681579\n",
            "epoch 5; iter: 0; batch classifier loss: 0.537503; batch adversarial loss: 0.655962\n",
            "epoch 6; iter: 0; batch classifier loss: 0.588944; batch adversarial loss: 0.675696\n",
            "epoch 7; iter: 0; batch classifier loss: 0.476611; batch adversarial loss: 0.686252\n",
            "epoch 8; iter: 0; batch classifier loss: 0.586070; batch adversarial loss: 0.672720\n",
            "epoch 9; iter: 0; batch classifier loss: 0.556531; batch adversarial loss: 0.681553\n",
            "epoch 10; iter: 0; batch classifier loss: 0.504035; batch adversarial loss: 0.689391\n",
            "epoch 11; iter: 0; batch classifier loss: 0.489872; batch adversarial loss: 0.678430\n",
            "epoch 12; iter: 0; batch classifier loss: 0.482333; batch adversarial loss: 0.669437\n",
            "epoch 13; iter: 0; batch classifier loss: 0.492320; batch adversarial loss: 0.671767\n",
            "epoch 14; iter: 0; batch classifier loss: 0.426302; batch adversarial loss: 0.669527\n",
            "epoch 15; iter: 0; batch classifier loss: 0.536212; batch adversarial loss: 0.684171\n",
            "epoch 16; iter: 0; batch classifier loss: 0.491792; batch adversarial loss: 0.685899\n",
            "epoch 17; iter: 0; batch classifier loss: 0.546382; batch adversarial loss: 0.688073\n",
            "epoch 18; iter: 0; batch classifier loss: 0.576338; batch adversarial loss: 0.668747\n",
            "epoch 19; iter: 0; batch classifier loss: 0.557008; batch adversarial loss: 0.659750\n",
            "epoch 20; iter: 0; batch classifier loss: 0.518361; batch adversarial loss: 0.687847\n",
            "epoch 21; iter: 0; batch classifier loss: 0.481882; batch adversarial loss: 0.668457\n",
            "epoch 22; iter: 0; batch classifier loss: 0.431702; batch adversarial loss: 0.661032\n",
            "epoch 23; iter: 0; batch classifier loss: 0.527612; batch adversarial loss: 0.687584\n",
            "epoch 24; iter: 0; batch classifier loss: 0.469813; batch adversarial loss: 0.652095\n",
            "epoch 25; iter: 0; batch classifier loss: 0.504732; batch adversarial loss: 0.663165\n",
            "epoch 26; iter: 0; batch classifier loss: 0.515979; batch adversarial loss: 0.659782\n",
            "epoch 27; iter: 0; batch classifier loss: 0.555322; batch adversarial loss: 0.685417\n",
            "epoch 28; iter: 0; batch classifier loss: 0.496872; batch adversarial loss: 0.682925\n",
            "epoch 29; iter: 0; batch classifier loss: 0.532316; batch adversarial loss: 0.658109\n",
            "epoch 30; iter: 0; batch classifier loss: 0.488723; batch adversarial loss: 0.677700\n",
            "epoch 31; iter: 0; batch classifier loss: 0.517078; batch adversarial loss: 0.669475\n",
            "epoch 32; iter: 0; batch classifier loss: 0.568562; batch adversarial loss: 0.672565\n",
            "epoch 33; iter: 0; batch classifier loss: 0.441957; batch adversarial loss: 0.658336\n",
            "epoch 34; iter: 0; batch classifier loss: 0.540036; batch adversarial loss: 0.696253\n",
            "epoch 35; iter: 0; batch classifier loss: 0.542062; batch adversarial loss: 0.653308\n",
            "epoch 36; iter: 0; batch classifier loss: 0.481820; batch adversarial loss: 0.671603\n",
            "epoch 37; iter: 0; batch classifier loss: 0.493173; batch adversarial loss: 0.679950\n",
            "epoch 38; iter: 0; batch classifier loss: 0.527370; batch adversarial loss: 0.670643\n",
            "epoch 39; iter: 0; batch classifier loss: 0.485182; batch adversarial loss: 0.685642\n",
            "epoch 40; iter: 0; batch classifier loss: 0.561954; batch adversarial loss: 0.668704\n",
            "epoch 41; iter: 0; batch classifier loss: 0.472720; batch adversarial loss: 0.666088\n",
            "epoch 42; iter: 0; batch classifier loss: 0.491464; batch adversarial loss: 0.670025\n",
            "epoch 43; iter: 0; batch classifier loss: 0.463911; batch adversarial loss: 0.678989\n",
            "epoch 44; iter: 0; batch classifier loss: 0.497699; batch adversarial loss: 0.700237\n",
            "epoch 45; iter: 0; batch classifier loss: 0.515544; batch adversarial loss: 0.678212\n",
            "epoch 46; iter: 0; batch classifier loss: 0.496608; batch adversarial loss: 0.701302\n",
            "epoch 47; iter: 0; batch classifier loss: 0.482662; batch adversarial loss: 0.653508\n",
            "epoch 48; iter: 0; batch classifier loss: 0.537956; batch adversarial loss: 0.684179\n",
            "epoch 49; iter: 0; batch classifier loss: 0.614483; batch adversarial loss: 0.695004\n"
          ]
        },
        {
          "output_type": "execute_result",
          "data": {
            "text/plain": [
              "<aif360.algorithms.inprocessing.adversarial_debiasing.AdversarialDebiasing at 0x7fcc7ef8fb80>"
            ]
          },
          "metadata": {},
          "execution_count": 19
        }
      ],
      "source": [
        "debiased_model.fit(dataset_orig_train)"
      ]
    },
    {
      "cell_type": "code",
      "execution_count": null,
      "metadata": {
        "id": "4M3CQrxA2VuL"
      },
      "outputs": [],
      "source": [
        "# Apply the plain model to test data\n",
        "dataset_debiasing_train = debiased_model.predict(dataset_orig_train)\n",
        "dataset_debiasing_test = debiased_model.predict(dataset_orig_test)"
      ]
    },
    {
      "cell_type": "code",
      "execution_count": null,
      "metadata": {
        "colab": {
          "base_uri": "https://localhost:8080/",
          "height": 447
        },
        "id": "noMpXh6r2s2b",
        "outputId": "f4389945-2f64-47a6-a3f7-3860b55a1822"
      },
      "outputs": [
        {
          "output_type": "display_data",
          "data": {
            "text/plain": [
              "<IPython.core.display.Markdown object>"
            ],
            "text/markdown": "#### Plain model - without debiasing - dataset metrics"
          },
          "metadata": {}
        },
        {
          "output_type": "stream",
          "name": "stdout",
          "text": [
            "Train set: Difference in mean outcomes between unprivileged and privileged groups = -0.314102\n",
            "Test set: Difference in mean outcomes between unprivileged and privileged groups = -0.295687\n"
          ]
        },
        {
          "output_type": "display_data",
          "data": {
            "text/plain": [
              "<IPython.core.display.Markdown object>"
            ],
            "text/markdown": "#### Model - with debiasing - dataset metrics"
          },
          "metadata": {}
        },
        {
          "output_type": "stream",
          "name": "stdout",
          "text": [
            "Train set: Difference in mean outcomes between unprivileged and privileged groups = -0.178944\n",
            "Test set: Difference in mean outcomes between unprivileged and privileged groups = -0.164469\n"
          ]
        },
        {
          "output_type": "display_data",
          "data": {
            "text/plain": [
              "<IPython.core.display.Markdown object>"
            ],
            "text/markdown": "#### Plain model - without debiasing - classification metrics"
          },
          "metadata": {}
        },
        {
          "output_type": "stream",
          "name": "stdout",
          "text": [
            "Test set: Classification accuracy = 0.726943\n",
            "Test set: Balanced classification accuracy = 0.702780\n",
            "Test set: Disparate impact = 0.401240\n",
            "Test set: Equal opportunity difference = -0.358905\n",
            "Test set: Average odds difference = -0.266772\n",
            "Test set: Theil_index = 0.200454\n"
          ]
        },
        {
          "output_type": "display_data",
          "data": {
            "text/plain": [
              "<IPython.core.display.Markdown object>"
            ],
            "text/markdown": "#### Model - with debiasing - classification metrics"
          },
          "metadata": {}
        },
        {
          "output_type": "stream",
          "name": "stdout",
          "text": [
            "Test set: Classification accuracy = 0.712646\n",
            "Test set: Balanced classification accuracy = 0.666136\n",
            "Test set: Disparate impact = 0.531173\n",
            "Test set: Equal opportunity difference = -0.203487\n",
            "Test set: Average odds difference = -0.136575\n",
            "Test set: Theil_index = 0.251107\n"
          ]
        }
      ],
      "source": [
        "# Metrics for the dataset from plain model (without debiasing)\n",
        "display(Markdown(\"#### Plain model - without debiasing - dataset metrics\"))\n",
        "print(\"Train set: Difference in mean outcomes between unprivileged and privileged groups = %f\" % metric_dataset_nodebiasing_train.mean_difference())\n",
        "print(\"Test set: Difference in mean outcomes between unprivileged and privileged groups = %f\" % metric_dataset_nodebiasing_test.mean_difference())\n",
        "\n",
        "# Metrics for the dataset from model with debiasing\n",
        "display(Markdown(\"#### Model - with debiasing - dataset metrics\"))\n",
        "metric_dataset_debiasing_train = BinaryLabelDatasetMetric(dataset_debiasing_train, \n",
        "                                             unprivileged_groups=unprivileged_groups,\n",
        "                                             privileged_groups=privileged_groups)\n",
        "\n",
        "print(\"Train set: Difference in mean outcomes between unprivileged and privileged groups = %f\" % metric_dataset_debiasing_train.mean_difference())\n",
        "\n",
        "metric_dataset_debiasing_test = BinaryLabelDatasetMetric(dataset_debiasing_test, \n",
        "                                             unprivileged_groups=unprivileged_groups,\n",
        "                                             privileged_groups=privileged_groups)\n",
        "\n",
        "print(\"Test set: Difference in mean outcomes between unprivileged and privileged groups = %f\" % metric_dataset_debiasing_test.mean_difference())\n",
        "\n",
        "\n",
        "\n",
        "display(Markdown(\"#### Plain model - without debiasing - classification metrics\"))\n",
        "print(\"Test set: Classification accuracy = %f\" % classified_metric_nodebiasing_test.accuracy())\n",
        "TPR = classified_metric_nodebiasing_test.true_positive_rate()\n",
        "TNR = classified_metric_nodebiasing_test.true_negative_rate()\n",
        "bal_acc_nodebiasing_test = 0.5*(TPR+TNR)\n",
        "print(\"Test set: Balanced classification accuracy = %f\" % bal_acc_nodebiasing_test)\n",
        "print(\"Test set: Disparate impact = %f\" % classified_metric_nodebiasing_test.disparate_impact())\n",
        "print(\"Test set: Equal opportunity difference = %f\" % classified_metric_nodebiasing_test.equal_opportunity_difference())\n",
        "print(\"Test set: Average odds difference = %f\" % classified_metric_nodebiasing_test.average_odds_difference())\n",
        "print(\"Test set: Theil_index = %f\" % classified_metric_nodebiasing_test.theil_index())\n",
        "\n",
        "\n",
        "\n",
        "display(Markdown(\"#### Model - with debiasing - classification metrics\"))\n",
        "classified_metric_debiasing_test = ClassificationMetric(dataset_orig_test, \n",
        "                                                 dataset_debiasing_test,\n",
        "                                                 unprivileged_groups=unprivileged_groups,\n",
        "                                                 privileged_groups=privileged_groups)\n",
        "print(\"Test set: Classification accuracy = %f\" % classified_metric_debiasing_test.accuracy())\n",
        "TPR = classified_metric_debiasing_test.true_positive_rate()\n",
        "TNR = classified_metric_debiasing_test.true_negative_rate()\n",
        "bal_acc_debiasing_test = 0.5*(TPR+TNR)\n",
        "print(\"Test set: Balanced classification accuracy = %f\" % bal_acc_debiasing_test)\n",
        "print(\"Test set: Disparate impact = %f\" % classified_metric_debiasing_test.disparate_impact())\n",
        "print(\"Test set: Equal opportunity difference = %f\" % classified_metric_debiasing_test.equal_opportunity_difference())\n",
        "print(\"Test set: Average odds difference = %f\" % classified_metric_debiasing_test.average_odds_difference())\n",
        "print(\"Test set: Theil_index = %f\" % classified_metric_debiasing_test.theil_index())"
      ]
    },
    {
      "cell_type": "code",
      "execution_count": null,
      "metadata": {
        "id": "MfkGTOiu23ov"
      },
      "outputs": [],
      "source": [
        "export_data = dataset_orig_test.convert_to_dataframe()"
      ]
    },
    {
      "cell_type": "code",
      "execution_count": null,
      "metadata": {
        "id": "vD2bfelR52t4"
      },
      "outputs": [],
      "source": [
        "df = export_data[0].copy()"
      ]
    },
    {
      "cell_type": "code",
      "execution_count": null,
      "metadata": {
        "id": "Rf2QN6w_8-h5"
      },
      "outputs": [],
      "source": [
        "def onehot_to_label_encode(feature, df):\n",
        "  cols = [x  for x in df.columns if feature in x]\n",
        "  df.loc[:, feature] = df.loc[:, cols].values.argmax(axis=1)\n",
        "  df = df.drop(cols, axis=1)\n",
        "\n",
        "  return df"
      ]
    },
    {
      "cell_type": "code",
      "execution_count": null,
      "metadata": {
        "id": "zCQWvflR6N9s"
      },
      "outputs": [],
      "source": [
        "df = onehot_to_label_encode(\"workclass\", df)"
      ]
    },
    {
      "cell_type": "code",
      "execution_count": null,
      "metadata": {
        "id": "-b4UvUvC9nBV"
      },
      "outputs": [],
      "source": [
        "df = onehot_to_label_encode(\"marital-status\", df)\n",
        "df = onehot_to_label_encode(\"Education\", df)"
      ]
    },
    {
      "cell_type": "code",
      "execution_count": null,
      "metadata": {
        "id": "I1tCc4jC94MW"
      },
      "outputs": [],
      "source": [
        "df = onehot_to_label_encode(\"Age\", df)"
      ]
    },
    {
      "cell_type": "code",
      "execution_count": null,
      "metadata": {
        "id": "Ay-GPO289-RJ"
      },
      "outputs": [],
      "source": [
        "df = df.drop([\"race\"], axis=1)"
      ]
    },
    {
      "cell_type": "code",
      "execution_count": null,
      "metadata": {
        "id": "JwM5NGNg9_Q4"
      },
      "outputs": [],
      "source": [
        "df.to_csv(\"adult.csv\",index=False)"
      ]
    },
    {
      "cell_type": "code",
      "execution_count": null,
      "metadata": {
        "id": "ZPK8hT80-KvQ"
      },
      "outputs": [],
      "source": [
        "dir(dataset_debiasing_test)"
      ]
    },
    {
      "cell_type": "code",
      "execution_count": null,
      "metadata": {
        "id": "2jbPQBqKBGKn"
      },
      "outputs": [],
      "source": [
        "(dataset_orig_test.labels == dataset_debiasing_test.labels).sum()/len(dataset_debiasing_test.labels)"
      ]
    },
    {
      "cell_type": "code",
      "execution_count": null,
      "metadata": {
        "id": "NHpByJILCQMU"
      },
      "outputs": [],
      "source": [
        "df.columns"
      ]
    },
    {
      "cell_type": "code",
      "execution_count": null,
      "metadata": {
        "colab": {
          "base_uri": "https://localhost:8080/"
        },
        "id": "nKGBDGbACARz",
        "outputId": "8cf0f77d-5b77-47a6-bc71-5e5147ad94fc"
      },
      "outputs": [
        {
          "output_type": "execute_result",
          "data": {
            "text/plain": [
              "1.0"
            ]
          },
          "metadata": {},
          "execution_count": 34
        }
      ],
      "source": [
        "(df.loc[:, \"Income Binary\"].values  == dataset_debiasing_test.labels.reshape((-1))).sum()/len(dataset_debiasing_test.labels)"
      ]
    },
    {
      "cell_type": "code",
      "execution_count": null,
      "metadata": {
        "id": "yttGvdcNCWK5"
      },
      "outputs": [],
      "source": [
        "df.loc[:, \"Income Binary\"] = dataset_debiasing_test.labels.reshape((-1)).astype(int)"
      ]
    },
    {
      "cell_type": "code",
      "execution_count": null,
      "metadata": {
        "id": "gnDDauF3CYTR"
      },
      "outputs": [],
      "source": [
        "df.to_csv(\"acs_adv_debias.csv\",index=False)"
      ]
    },
    {
      "cell_type": "markdown",
      "source": [],
      "metadata": {
        "id": "BTdG1AswoqSe"
      }
    },
    {
      "cell_type": "code",
      "execution_count": null,
      "metadata": {
        "id": "E6yOb88TCuAQ",
        "colab": {
          "base_uri": "https://localhost:8080/",
          "height": 419
        },
        "outputId": "aafc604b-9d52-46f8-8ce0-b0520a51f377"
      },
      "outputs": [
        {
          "output_type": "execute_result",
          "data": {
            "text/plain": [
              "         sex  hours-per-week  Income Binary  workclass  marital-status  \\\n",
              "1464217  0.0        0.272727              0          0               0   \n",
              "412428   1.0        0.404040              1          4               0   \n",
              "1412891  0.0        0.202020              0          0               0   \n",
              "327833   1.0        0.404040              0          0               0   \n",
              "501086   0.0        0.404040              0          0               3   \n",
              "...      ...             ...            ...        ...             ...   \n",
              "252636   1.0        0.404040              0          0               0   \n",
              "1588743  0.0        0.202020              0          3               4   \n",
              "1537878  0.0        0.404040              1          3               0   \n",
              "1350800  1.0        0.404040              0          0               4   \n",
              "569792   0.0        0.404040              0          0               2   \n",
              "\n",
              "         Education  Age  \n",
              "1464217          8    3  \n",
              "412428           8    4  \n",
              "1412891          8    3  \n",
              "327833           8    6  \n",
              "501086           8    1  \n",
              "...            ...  ...  \n",
              "252636           8    3  \n",
              "1588743          8    1  \n",
              "1537878          8    4  \n",
              "1350800          8    2  \n",
              "569792           8    3  \n",
              "\n",
              "[4966 rows x 7 columns]"
            ],
            "text/html": [
              "\n",
              "  <div id=\"df-f8359fbf-eb95-49ff-ad4d-35e8cd719928\">\n",
              "    <div class=\"colab-df-container\">\n",
              "      <div>\n",
              "<style scoped>\n",
              "    .dataframe tbody tr th:only-of-type {\n",
              "        vertical-align: middle;\n",
              "    }\n",
              "\n",
              "    .dataframe tbody tr th {\n",
              "        vertical-align: top;\n",
              "    }\n",
              "\n",
              "    .dataframe thead th {\n",
              "        text-align: right;\n",
              "    }\n",
              "</style>\n",
              "<table border=\"1\" class=\"dataframe\">\n",
              "  <thead>\n",
              "    <tr style=\"text-align: right;\">\n",
              "      <th></th>\n",
              "      <th>sex</th>\n",
              "      <th>hours-per-week</th>\n",
              "      <th>Income Binary</th>\n",
              "      <th>workclass</th>\n",
              "      <th>marital-status</th>\n",
              "      <th>Education</th>\n",
              "      <th>Age</th>\n",
              "    </tr>\n",
              "  </thead>\n",
              "  <tbody>\n",
              "    <tr>\n",
              "      <th>1464217</th>\n",
              "      <td>0.0</td>\n",
              "      <td>0.272727</td>\n",
              "      <td>0</td>\n",
              "      <td>0</td>\n",
              "      <td>0</td>\n",
              "      <td>8</td>\n",
              "      <td>3</td>\n",
              "    </tr>\n",
              "    <tr>\n",
              "      <th>412428</th>\n",
              "      <td>1.0</td>\n",
              "      <td>0.404040</td>\n",
              "      <td>1</td>\n",
              "      <td>4</td>\n",
              "      <td>0</td>\n",
              "      <td>8</td>\n",
              "      <td>4</td>\n",
              "    </tr>\n",
              "    <tr>\n",
              "      <th>1412891</th>\n",
              "      <td>0.0</td>\n",
              "      <td>0.202020</td>\n",
              "      <td>0</td>\n",
              "      <td>0</td>\n",
              "      <td>0</td>\n",
              "      <td>8</td>\n",
              "      <td>3</td>\n",
              "    </tr>\n",
              "    <tr>\n",
              "      <th>327833</th>\n",
              "      <td>1.0</td>\n",
              "      <td>0.404040</td>\n",
              "      <td>0</td>\n",
              "      <td>0</td>\n",
              "      <td>0</td>\n",
              "      <td>8</td>\n",
              "      <td>6</td>\n",
              "    </tr>\n",
              "    <tr>\n",
              "      <th>501086</th>\n",
              "      <td>0.0</td>\n",
              "      <td>0.404040</td>\n",
              "      <td>0</td>\n",
              "      <td>0</td>\n",
              "      <td>3</td>\n",
              "      <td>8</td>\n",
              "      <td>1</td>\n",
              "    </tr>\n",
              "    <tr>\n",
              "      <th>...</th>\n",
              "      <td>...</td>\n",
              "      <td>...</td>\n",
              "      <td>...</td>\n",
              "      <td>...</td>\n",
              "      <td>...</td>\n",
              "      <td>...</td>\n",
              "      <td>...</td>\n",
              "    </tr>\n",
              "    <tr>\n",
              "      <th>252636</th>\n",
              "      <td>1.0</td>\n",
              "      <td>0.404040</td>\n",
              "      <td>0</td>\n",
              "      <td>0</td>\n",
              "      <td>0</td>\n",
              "      <td>8</td>\n",
              "      <td>3</td>\n",
              "    </tr>\n",
              "    <tr>\n",
              "      <th>1588743</th>\n",
              "      <td>0.0</td>\n",
              "      <td>0.202020</td>\n",
              "      <td>0</td>\n",
              "      <td>3</td>\n",
              "      <td>4</td>\n",
              "      <td>8</td>\n",
              "      <td>1</td>\n",
              "    </tr>\n",
              "    <tr>\n",
              "      <th>1537878</th>\n",
              "      <td>0.0</td>\n",
              "      <td>0.404040</td>\n",
              "      <td>1</td>\n",
              "      <td>3</td>\n",
              "      <td>0</td>\n",
              "      <td>8</td>\n",
              "      <td>4</td>\n",
              "    </tr>\n",
              "    <tr>\n",
              "      <th>1350800</th>\n",
              "      <td>1.0</td>\n",
              "      <td>0.404040</td>\n",
              "      <td>0</td>\n",
              "      <td>0</td>\n",
              "      <td>4</td>\n",
              "      <td>8</td>\n",
              "      <td>2</td>\n",
              "    </tr>\n",
              "    <tr>\n",
              "      <th>569792</th>\n",
              "      <td>0.0</td>\n",
              "      <td>0.404040</td>\n",
              "      <td>0</td>\n",
              "      <td>0</td>\n",
              "      <td>2</td>\n",
              "      <td>8</td>\n",
              "      <td>3</td>\n",
              "    </tr>\n",
              "  </tbody>\n",
              "</table>\n",
              "<p>4966 rows × 7 columns</p>\n",
              "</div>\n",
              "      <button class=\"colab-df-convert\" onclick=\"convertToInteractive('df-f8359fbf-eb95-49ff-ad4d-35e8cd719928')\"\n",
              "              title=\"Convert this dataframe to an interactive table.\"\n",
              "              style=\"display:none;\">\n",
              "        \n",
              "  <svg xmlns=\"http://www.w3.org/2000/svg\" height=\"24px\"viewBox=\"0 0 24 24\"\n",
              "       width=\"24px\">\n",
              "    <path d=\"M0 0h24v24H0V0z\" fill=\"none\"/>\n",
              "    <path d=\"M18.56 5.44l.94 2.06.94-2.06 2.06-.94-2.06-.94-.94-2.06-.94 2.06-2.06.94zm-11 1L8.5 8.5l.94-2.06 2.06-.94-2.06-.94L8.5 2.5l-.94 2.06-2.06.94zm10 10l.94 2.06.94-2.06 2.06-.94-2.06-.94-.94-2.06-.94 2.06-2.06.94z\"/><path d=\"M17.41 7.96l-1.37-1.37c-.4-.4-.92-.59-1.43-.59-.52 0-1.04.2-1.43.59L10.3 9.45l-7.72 7.72c-.78.78-.78 2.05 0 2.83L4 21.41c.39.39.9.59 1.41.59.51 0 1.02-.2 1.41-.59l7.78-7.78 2.81-2.81c.8-.78.8-2.07 0-2.86zM5.41 20L4 18.59l7.72-7.72 1.47 1.35L5.41 20z\"/>\n",
              "  </svg>\n",
              "      </button>\n",
              "      \n",
              "  <style>\n",
              "    .colab-df-container {\n",
              "      display:flex;\n",
              "      flex-wrap:wrap;\n",
              "      gap: 12px;\n",
              "    }\n",
              "\n",
              "    .colab-df-convert {\n",
              "      background-color: #E8F0FE;\n",
              "      border: none;\n",
              "      border-radius: 50%;\n",
              "      cursor: pointer;\n",
              "      display: none;\n",
              "      fill: #1967D2;\n",
              "      height: 32px;\n",
              "      padding: 0 0 0 0;\n",
              "      width: 32px;\n",
              "    }\n",
              "\n",
              "    .colab-df-convert:hover {\n",
              "      background-color: #E2EBFA;\n",
              "      box-shadow: 0px 1px 2px rgba(60, 64, 67, 0.3), 0px 1px 3px 1px rgba(60, 64, 67, 0.15);\n",
              "      fill: #174EA6;\n",
              "    }\n",
              "\n",
              "    [theme=dark] .colab-df-convert {\n",
              "      background-color: #3B4455;\n",
              "      fill: #D2E3FC;\n",
              "    }\n",
              "\n",
              "    [theme=dark] .colab-df-convert:hover {\n",
              "      background-color: #434B5C;\n",
              "      box-shadow: 0px 1px 3px 1px rgba(0, 0, 0, 0.15);\n",
              "      filter: drop-shadow(0px 1px 2px rgba(0, 0, 0, 0.3));\n",
              "      fill: #FFFFFF;\n",
              "    }\n",
              "  </style>\n",
              "\n",
              "      <script>\n",
              "        const buttonEl =\n",
              "          document.querySelector('#df-f8359fbf-eb95-49ff-ad4d-35e8cd719928 button.colab-df-convert');\n",
              "        buttonEl.style.display =\n",
              "          google.colab.kernel.accessAllowed ? 'block' : 'none';\n",
              "\n",
              "        async function convertToInteractive(key) {\n",
              "          const element = document.querySelector('#df-f8359fbf-eb95-49ff-ad4d-35e8cd719928');\n",
              "          const dataTable =\n",
              "            await google.colab.kernel.invokeFunction('convertToInteractive',\n",
              "                                                     [key], {});\n",
              "          if (!dataTable) return;\n",
              "\n",
              "          const docLinkHtml = 'Like what you see? Visit the ' +\n",
              "            '<a target=\"_blank\" href=https://colab.research.google.com/notebooks/data_table.ipynb>data table notebook</a>'\n",
              "            + ' to learn more about interactive tables.';\n",
              "          element.innerHTML = '';\n",
              "          dataTable['output_type'] = 'display_data';\n",
              "          await google.colab.output.renderOutput(dataTable, element);\n",
              "          const docLink = document.createElement('div');\n",
              "          docLink.innerHTML = docLinkHtml;\n",
              "          element.appendChild(docLink);\n",
              "        }\n",
              "      </script>\n",
              "    </div>\n",
              "  </div>\n",
              "  "
            ]
          },
          "metadata": {},
          "execution_count": 32
        }
      ],
      "source": [
        "df"
      ]
    },
    {
      "cell_type": "code",
      "source": [],
      "metadata": {
        "id": "ts-aC3qIojkF"
      },
      "execution_count": null,
      "outputs": []
    }
  ],
  "metadata": {
    "colab": {
      "provenance": []
    },
    "kernelspec": {
      "display_name": "Python 3",
      "name": "python3"
    },
    "language_info": {
      "name": "python"
    },
    "accelerator": "GPU",
    "gpuClass": "standard"
  },
  "nbformat": 4,
  "nbformat_minor": 0
}