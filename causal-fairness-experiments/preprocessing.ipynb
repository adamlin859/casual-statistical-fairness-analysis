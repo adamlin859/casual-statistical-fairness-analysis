{
  "nbformat": 4,
  "nbformat_minor": 0,
  "metadata": {
    "colab": {
      "provenance": []
    },
    "kernelspec": {
      "name": "python3",
      "display_name": "Python 3"
    },
    "language_info": {
      "name": "python"
    }
  },
  "cells": [
    {
      "cell_type": "code",
      "execution_count": null,
      "metadata": {
        "id": "_L_6lAaDmhgU"
      },
      "outputs": [],
      "source": [
        "!pip install 'aif360[all]'  "
      ]
    },
    {
      "cell_type": "code",
      "source": [
        "from logging import warning\n",
        "\n",
        "import numpy as np\n",
        "import pandas as pd\n",
        "\n",
        "from aif360.datasets import BinaryLabelDataset\n",
        "\n",
        "\n",
        "class StandardDataset(BinaryLabelDataset):\n",
        "    \"\"\"Base class for every :obj:`BinaryLabelDataset` provided out of the box by\n",
        "    aif360.\n",
        "\n",
        "    It is not strictly necessary to inherit this class when adding custom\n",
        "    datasets but it may be useful.\n",
        "\n",
        "    This class is very loosely based on code from\n",
        "    https://github.com/algofairness/fairness-comparison.\n",
        "    \"\"\"\n",
        "\n",
        "    def __init__(self, df, label_name, favorable_classes,\n",
        "                 protected_attribute_names, privileged_classes,\n",
        "                 instance_weights_name='', scores_name='',\n",
        "                 categorical_features=[], features_to_keep=[],\n",
        "                 features_to_drop=[], na_values=[], custom_preprocessing=None,\n",
        "                 metadata=None):\n",
        "        \"\"\"\n",
        "        Subclasses of StandardDataset should perform the following before\n",
        "        calling `super().__init__`:\n",
        "\n",
        "            1. Load the dataframe from a raw file.\n",
        "\n",
        "        Then, this class will go through a standard preprocessing routine which:\n",
        "\n",
        "            2. (optional) Performs some dataset-specific preprocessing (e.g.\n",
        "               renaming columns/values, handling missing data).\n",
        "\n",
        "            3. Drops unrequested columns (see `features_to_keep` and\n",
        "               `features_to_drop` for details).\n",
        "\n",
        "            4. Drops rows with NA values.\n",
        "\n",
        "            5. Creates a one-hot encoding of the categorical variables.\n",
        "\n",
        "            6. Maps protected attributes to binary privileged/unprivileged\n",
        "               values (1/0).\n",
        "\n",
        "            7. Maps labels to binary favorable/unfavorable labels (1/0).\n",
        "\n",
        "        Args:\n",
        "            df (pandas.DataFrame): DataFrame on which to perform standard\n",
        "                processing.\n",
        "            label_name: Name of the label column in `df`.\n",
        "            favorable_classes (list or function): Label values which are\n",
        "                considered favorable or a boolean function which returns `True`\n",
        "                if favorable. All others are unfavorable. Label values are\n",
        "                mapped to 1 (favorable) and 0 (unfavorable) if they are not\n",
        "                already binary and numerical.\n",
        "            protected_attribute_names (list): List of names corresponding to\n",
        "                protected attribute columns in `df`.\n",
        "            privileged_classes (list(list or function)): Each element is\n",
        "                a list of values which are considered privileged or a boolean\n",
        "                function which return `True` if privileged for the corresponding\n",
        "                column in `protected_attribute_names`. All others are\n",
        "                unprivileged. Values are mapped to 1 (privileged) and 0\n",
        "                (unprivileged) if they are not already numerical.\n",
        "            instance_weights_name (optional): Name of the instance weights\n",
        "                column in `df`.\n",
        "            categorical_features (optional, list): List of column names in the\n",
        "                DataFrame which are to be expanded into one-hot vectors.\n",
        "            features_to_keep (optional, list): Column names to keep. All others\n",
        "                are dropped except those present in `protected_attribute_names`,\n",
        "                `categorical_features`, `label_name` or `instance_weights_name`.\n",
        "                Defaults to all columns if not provided.\n",
        "            features_to_drop (optional, list): Column names to drop. *Note: this\n",
        "                overrides* `features_to_keep`.\n",
        "            na_values (optional): Additional strings to recognize as NA. See\n",
        "                :func:`pandas.read_csv` for details.\n",
        "            custom_preprocessing (function): A function object which\n",
        "                acts on and returns a DataFrame (f: DataFrame -> DataFrame). If\n",
        "                `None`, no extra preprocessing is applied.\n",
        "            metadata (optional): Additional metadata to append.\n",
        "        \"\"\"\n",
        "        # 2. Perform dataset-specific preprocessing\n",
        "        if custom_preprocessing:\n",
        "            df = custom_preprocessing(df)\n",
        "\n",
        "        # 3. Drop unrequested columns\n",
        "        features_to_keep = features_to_keep or df.columns.tolist()\n",
        "        keep = (set(features_to_keep) | set(protected_attribute_names)\n",
        "              | set(categorical_features) | set([label_name]))\n",
        "        if instance_weights_name:\n",
        "            keep |= set([instance_weights_name])\n",
        "        df = df[sorted(keep - set(features_to_drop), key=df.columns.get_loc)]\n",
        "        categorical_features = sorted(set(categorical_features) - set(features_to_drop), key=df.columns.get_loc)\n",
        "\n",
        "        # 4. Remove any rows that have missing data.\n",
        "        dropped = df.dropna()\n",
        "        count = df.shape[0] - dropped.shape[0]\n",
        "        if count > 0:\n",
        "            warning(\"Missing Data: {} rows removed from {}.\".format(count,\n",
        "                    type(self).__name__))\n",
        "        df = dropped\n",
        "\n",
        "        # 5. Create a one-hot encoding of the categorical variables.\n",
        "        df = pd.get_dummies(df, columns=categorical_features, prefix_sep='=')\n",
        "\n",
        "        # 6. Map protected attributes to privileged/unprivileged\n",
        "        privileged_protected_attributes = []\n",
        "        unprivileged_protected_attributes = []\n",
        "        for attr, vals in zip(protected_attribute_names, privileged_classes):\n",
        "            privileged_values = [1.]\n",
        "            unprivileged_values = [0.]\n",
        "            if callable(vals):\n",
        "                df[attr] = df[attr].apply(vals)\n",
        "            elif np.issubdtype(df[attr].dtype, np.number):\n",
        "                # this attribute is numeric; no remapping needed\n",
        "                privileged_values = vals\n",
        "                unprivileged_values = list(set(df[attr]).difference(vals))\n",
        "            else:\n",
        "                # find all instances which match any of the attribute values\n",
        "                priv = np.logical_or.reduce(np.equal.outer(vals, df[attr].to_numpy()))\n",
        "                df.loc[priv, attr] = privileged_values[0]\n",
        "                df.loc[~priv, attr] = unprivileged_values[0]\n",
        "\n",
        "            privileged_protected_attributes.append(\n",
        "                np.array(privileged_values, dtype=np.float64))\n",
        "            unprivileged_protected_attributes.append(\n",
        "                np.array(unprivileged_values, dtype=np.float64))\n",
        "\n",
        "        # 7. Make labels binary\n",
        "        favorable_label = 1.\n",
        "        unfavorable_label = 0.\n",
        "        if callable(favorable_classes):\n",
        "            df[label_name] = df[label_name].apply(favorable_classes)\n",
        "        elif np.issubdtype(df[label_name], np.number) and len(set(df[label_name])) == 2:\n",
        "            # labels are already binary; don't change them\n",
        "            favorable_label = favorable_classes[0]\n",
        "            unfavorable_label = set(df[label_name]).difference(favorable_classes).pop()\n",
        "        else:\n",
        "            # find all instances which match any of the favorable classes\n",
        "            pos = np.logical_or.reduce(np.equal.outer(favorable_classes, \n",
        "                                                      df[label_name].to_numpy()))\n",
        "            df.loc[pos, label_name] = favorable_label\n",
        "            df.loc[~pos, label_name] = unfavorable_label\n",
        "        print(\"this happended\",df.columns)\n",
        "        super(StandardDataset, self).__init__(df=df, label_names=[label_name],\n",
        "            protected_attribute_names=protected_attribute_names,\n",
        "            privileged_protected_attributes=privileged_protected_attributes,\n",
        "            unprivileged_protected_attributes=unprivileged_protected_attributes,\n",
        "            instance_weights_name=instance_weights_name,\n",
        "            scores_names=[scores_name] if scores_name else [],\n",
        "            favorable_label=favorable_label,\n",
        "            unfavorable_label=unfavorable_label, metadata=metadata)"
      ],
      "metadata": {
        "id": "0V9HuyAXuSjM"
      },
      "execution_count": null,
      "outputs": []
    },
    {
      "cell_type": "code",
      "source": [
        "cp adult* /usr/local/lib/python3.8/dist-packages/aif360/data/raw/adult/."
      ],
      "metadata": {
        "id": "5wXw12ZYmmdF"
      },
      "execution_count": null,
      "outputs": []
    },
    {
      "cell_type": "code",
      "source": [
        "import sys\n",
        "sys.path.append(\"../\")\n",
        "\n",
        "import numpy as np\n",
        "\n",
        "from aif360.metrics import BinaryLabelDatasetMetric\n",
        "\n",
        "from aif360.algorithms.preprocessing.optim_preproc import OptimPreproc\n",
        "from aif360.algorithms.preprocessing.optim_preproc_helpers.data_preproc_functions\\\n",
        "            import load_preproc_data_adult\n",
        "from aif360.algorithms.preprocessing.optim_preproc_helpers.distortion_functions\\\n",
        "            import get_distortion_adult\n",
        "from aif360.algorithms.preprocessing.optim_preproc_helpers.opt_tools import OptTools\n",
        "\n",
        "from IPython.display import Markdown, display"
      ],
      "metadata": {
        "id": "-99FekgUmyv2"
      },
      "execution_count": null,
      "outputs": []
    },
    {
      "cell_type": "code",
      "source": [
        "da"
      ],
      "metadata": {
        "id": "rupnipJUm1Pp"
      },
      "execution_count": null,
      "outputs": []
    },
    {
      "cell_type": "code",
      "source": [
        "# Metrics function\n",
        "from collections import OrderedDict\n",
        "from aif360.metrics import ClassificationMetric\n",
        "\n",
        "def compute_metrics(dataset_true, dataset_pred, \n",
        "                    unprivileged_groups, privileged_groups,\n",
        "                    disp = True):\n",
        "    \"\"\" Compute the key metrics \"\"\"\n",
        "    classified_metric_pred = ClassificationMetric(dataset_true,\n",
        "                                                 dataset_pred, \n",
        "                                                 unprivileged_groups=unprivileged_groups,\n",
        "                                                 privileged_groups=privileged_groups)\n",
        "    metrics = OrderedDict()\n",
        "    metrics[\"Balanced accuracy\"] = 0.5*(classified_metric_pred.true_positive_rate()+\n",
        "                                             classified_metric_pred.true_negative_rate())\n",
        "    metrics[\"Statistical parity difference\"] = classified_metric_pred.statistical_parity_difference()\n",
        "    metrics[\"Disparate impact\"] = classified_metric_pred.disparate_impact()\n",
        "    metrics[\"Average odds difference\"] = classified_metric_pred.average_odds_difference()\n",
        "    metrics[\"Equal opportunity difference\"] = classified_metric_pred.equal_opportunity_difference()\n",
        "    metrics[\"Theil index\"] = classified_metric_pred.theil_index()\n",
        "    \n",
        "    if disp:\n",
        "        for k in metrics:\n",
        "            print(\"%s = %.4f\" % (k, metrics[k]))\n",
        "    \n",
        "    return metrics"
      ],
      "metadata": {
        "id": "ck-vMvfCqMfT"
      },
      "execution_count": null,
      "outputs": []
    },
    {
      "cell_type": "code",
      "source": [
        "%matplotlib inline\n",
        "# Load all necessary packages\n",
        "import sys\n",
        "sys.path.append(\"../\")\n",
        "import numpy as np\n",
        "from tqdm import tqdm\n",
        "\n",
        "from aif360.datasets import BinaryLabelDataset\n",
        "from aif360.datasets import AdultDataset, GermanDataset, CompasDataset\n",
        "from aif360.metrics import BinaryLabelDatasetMetric\n",
        "from aif360.metrics import ClassificationMetric\n",
        "from aif360.metrics.utils import compute_boolean_conditioning_vector\n",
        "from aif360.algorithms.preprocessing.optim_preproc import OptimPreproc\n",
        "from aif360.algorithms.preprocessing.optim_preproc_helpers.data_preproc_functions\\\n",
        "            import load_preproc_data_adult, load_preproc_data_german, load_preproc_data_compas\n",
        "from aif360.algorithms.preprocessing.optim_preproc_helpers.distortion_functions\\\n",
        "            import get_distortion_adult, get_distortion_german, get_distortion_compas\n",
        "from aif360.algorithms.preprocessing.optim_preproc_helpers.opt_tools import OptTools\n",
        "\n",
        "\n",
        "from sklearn.linear_model import LogisticRegression\n",
        "from sklearn.preprocessing import StandardScaler\n",
        "from sklearn.metrics import accuracy_score\n",
        "\n",
        "from IPython.display import Markdown, display\n",
        "import matplotlib.pyplot as plt"
      ],
      "metadata": {
        "id": "D-G-3Z4sqDdQ"
      },
      "execution_count": null,
      "outputs": []
    },
    {
      "cell_type": "code",
      "source": [
        "import pandas as pd\n",
        "import numpy as np\n",
        "\n",
        "def load_preproc_data_adult(protected_attributes=None, sub_samp=False, balance=False):\n",
        "    def custom_preprocessing(df):\n",
        "        \"\"\"The custom pre-processing function is adapted from\n",
        "            https://github.com/fair-preprocessing/nips2017/blob/master/Adult/code/Generate_Adult_Data.ipynb\n",
        "            If sub_samp != False, then return smaller version of dataset truncated to tiny_test data points.\n",
        "        \"\"\"\n",
        "\n",
        "        # Group age by decade\n",
        "        df['Age (decade)'] = df['age'].apply(lambda x: x//10*10)\n",
        "        # df['Age (decade)'] = df['age'].apply(lambda x: np.floor(x/10.0)*10.0)\n",
        "\n",
        "        def group_edu(x):\n",
        "            if x <= 5:\n",
        "                return '<6'\n",
        "            elif x >= 13:\n",
        "                return '>12'\n",
        "            else:\n",
        "                return x\n",
        "\n",
        "        def age_cut(x):\n",
        "            if x >= 70:\n",
        "                return '>=70'\n",
        "            else:\n",
        "                return x\n",
        "\n",
        "        def group_race(x):\n",
        "            if x == \"White\":\n",
        "                return 1.0\n",
        "            else:\n",
        "                return 0.0\n",
        "\n",
        "        # Cluster education and age attributes.\n",
        "        # Limit education range\n",
        "        df['Education Years'] = df['education-num'].apply(lambda x: group_edu(x))\n",
        "        df['Education Years'] = df['Education Years'].astype('category')\n",
        "\n",
        "        # Limit age range\n",
        "        df['Age (decade)'] = df['Age (decade)'].apply(lambda x: age_cut(x))\n",
        "\n",
        "        # Rename income variable\n",
        "        df['Income Binary'] = df['income-per-year']\n",
        "        df['Income Binary'] = df['Income Binary'].replace(to_replace='>50K.', value='>50K', regex=True)\n",
        "        df['Income Binary'] = df['Income Binary'].replace(to_replace='<=50K.', value='<=50K', regex=True)\n",
        "\n",
        "        # Recode sex and race\n",
        "        df['sex'] = df['sex'].replace({'Female': 0.0, 'Male': 1.0})\n",
        "        df['race'] = df['race'].apply(lambda x: group_race(x))\n",
        "\n",
        "        if sub_samp and not balance:\n",
        "            df = df.sample(sub_samp)\n",
        "        if sub_samp and balance:\n",
        "            df_0 = df[df['Income Binary'] == '<=50K']\n",
        "            df_1 = df[df['Income Binary'] == '>50K']\n",
        "            df_0 = df_0.sample(int(sub_samp/2))\n",
        "            df_1 = df_1.sample(int(sub_samp/2))\n",
        "            df = pd.concat([df_0, df_1])\n",
        "        return df\n",
        "\n",
        "    XD_features = ['Age (decade)', 'Education Years', 'hours-per-week', 'sex', 'race']\n",
        "    D_features = ['sex', 'race'] if protected_attributes is None else protected_attributes\n",
        "    Y_features = ['Income Binary']\n",
        "    X_features = list(set(XD_features)-set(D_features))\n",
        "    categorical_features = ['Age (decade)', 'Education Years', 'marital-status', 'workclass']\n",
        "\n",
        "    # privileged classes\n",
        "    all_privileged_classes = {\"sex\": [1.0],\n",
        "                              \"race\": [1.0]}\n",
        "\n",
        "    # protected attribute maps\n",
        "    all_protected_attribute_maps = {\"sex\": {1.0: 'Male', 0.0: 'Female'},\n",
        "                                    \"race\": {1.0: 'White', 0.0: 'Non-white'}}\n",
        "\n",
        "    return AdultDataset(\n",
        "        label_name=Y_features[0],\n",
        "        favorable_classes=['>50K', '>50K.'],\n",
        "        protected_attribute_names=D_features,\n",
        "        privileged_classes=[all_privileged_classes[x] for x in D_features],\n",
        "        instance_weights_name=None,\n",
        "        categorical_features=categorical_features,\n",
        "        features_to_keep=X_features+Y_features+D_features,\n",
        "        na_values=['?'],\n",
        "        metadata={'label_maps': [{1.0: '>50K', 0.0: '<=50K'}],\n",
        "                  'protected_attribute_maps': [all_protected_attribute_maps[x]\n",
        "                                for x in D_features]},\n",
        "        custom_preprocessing=custom_preprocessing)"
      ],
      "metadata": {
        "id": "FFg6zJdDndb0"
      },
      "execution_count": null,
      "outputs": []
    },
    {
      "cell_type": "code",
      "source": [
        "np.random.seed(1)"
      ],
      "metadata": {
        "id": "TVSGr7fwnP5K"
      },
      "execution_count": null,
      "outputs": []
    },
    {
      "cell_type": "code",
      "source": [],
      "metadata": {
        "id": "_GRO55zjnl-n"
      },
      "execution_count": null,
      "outputs": []
    },
    {
      "cell_type": "code",
      "source": [
        "# Get the dataset and split into train and test\n",
        "dataset_orig = load_preproc_data_adult()\n",
        "\n",
        "privileged_groups = [{'sex': 1}]\n",
        "unprivileged_groups = [{'sex': 0}]"
      ],
      "metadata": {
        "id": "FC5LISBtnTgg",
        "colab": {
          "base_uri": "https://localhost:8080/"
        },
        "outputId": "193e1f19-2202-4ac5-f4cc-1acdd2828037"
      },
      "execution_count": null,
      "outputs": [
        {
          "output_type": "stream",
          "name": "stderr",
          "text": [
            "WARNING:root:Missing Data: 2799 rows removed from AdultDataset.\n"
          ]
        }
      ]
    },
    {
      "cell_type": "code",
      "source": [
        "dataset_orig_train, dataset_orig_test = dataset_orig.split([0.7], shuffle=True)"
      ],
      "metadata": {
        "id": "HYyynDcEnkzP"
      },
      "execution_count": null,
      "outputs": []
    },
    {
      "cell_type": "code",
      "source": [
        "dataset_orig_valid, dataset_orig_test = dataset_orig_test.split([0.5], shuffle=True)"
      ],
      "metadata": {
        "id": "qbumO9MUov1N"
      },
      "execution_count": null,
      "outputs": []
    },
    {
      "cell_type": "code",
      "source": [
        "dataset_orig_train.convert_to_dataframe()[0]"
      ],
      "metadata": {
        "colab": {
          "base_uri": "https://localhost:8080/",
          "height": 517
        },
        "id": "DzCYX2rynSS0",
        "outputId": "324a69bc-b1f8-45f2-bc90-cc1038df85c8"
      },
      "execution_count": null,
      "outputs": [
        {
          "output_type": "execute_result",
          "data": {
            "text/plain": [
              "       race  sex  hours-per-week  workclass=Federal-gov  workclass=Local-gov  \\\n",
              "40846   1.0  1.0            45.0                    0.0                  0.0   \n",
              "48445   1.0  1.0            45.0                    0.0                  0.0   \n",
              "41181   1.0  1.0            72.0                    0.0                  0.0   \n",
              "46902   1.0  0.0            35.0                    0.0                  1.0   \n",
              "19837   1.0  0.0            16.0                    0.0                  0.0   \n",
              "...     ...  ...             ...                    ...                  ...   \n",
              "48759   1.0  1.0            40.0                    0.0                  0.0   \n",
              "8649    1.0  1.0            35.0                    0.0                  0.0   \n",
              "44177   1.0  1.0            52.0                    0.0                  0.0   \n",
              "39766   1.0  1.0            50.0                    0.0                  0.0   \n",
              "17778   1.0  0.0            65.0                    0.0                  0.0   \n",
              "\n",
              "       workclass=Never-worked  workclass=Private  workclass=Self-emp-inc  \\\n",
              "40846                     0.0                0.0                     0.0   \n",
              "48445                     0.0                1.0                     0.0   \n",
              "41181                     0.0                1.0                     0.0   \n",
              "46902                     0.0                0.0                     0.0   \n",
              "19837                     0.0                0.0                     0.0   \n",
              "...                       ...                ...                     ...   \n",
              "48759                     0.0                1.0                     0.0   \n",
              "8649                      0.0                1.0                     0.0   \n",
              "44177                     0.0                1.0                     0.0   \n",
              "39766                     0.0                1.0                     0.0   \n",
              "17778                     0.0                1.0                     0.0   \n",
              "\n",
              "       workclass=Self-emp-not-inc  workclass=State-gov  ...  \\\n",
              "40846                         0.0                  1.0  ...   \n",
              "48445                         0.0                  0.0  ...   \n",
              "41181                         0.0                  0.0  ...   \n",
              "46902                         0.0                  0.0  ...   \n",
              "19837                         1.0                  0.0  ...   \n",
              "...                           ...                  ...  ...   \n",
              "48759                         0.0                  0.0  ...   \n",
              "8649                          0.0                  0.0  ...   \n",
              "44177                         0.0                  0.0  ...   \n",
              "39766                         0.0                  0.0  ...   \n",
              "17778                         0.0                  0.0  ...   \n",
              "\n",
              "       Education Years=6  Education Years=7  Education Years=8  \\\n",
              "40846                0.0                0.0                0.0   \n",
              "48445                0.0                0.0                0.0   \n",
              "41181                0.0                0.0                0.0   \n",
              "46902                0.0                0.0                0.0   \n",
              "19837                0.0                0.0                0.0   \n",
              "...                  ...                ...                ...   \n",
              "48759                0.0                0.0                0.0   \n",
              "8649                 0.0                0.0                0.0   \n",
              "44177                0.0                0.0                0.0   \n",
              "39766                0.0                0.0                0.0   \n",
              "17778                0.0                0.0                0.0   \n",
              "\n",
              "       Education Years=9  Education Years=10  Education Years=11  \\\n",
              "40846                0.0                 0.0                 0.0   \n",
              "48445                0.0                 0.0                 0.0   \n",
              "41181                0.0                 0.0                 0.0   \n",
              "46902                0.0                 0.0                 0.0   \n",
              "19837                1.0                 0.0                 0.0   \n",
              "...                  ...                 ...                 ...   \n",
              "48759                0.0                 0.0                 0.0   \n",
              "8649                 0.0                 0.0                 0.0   \n",
              "44177                1.0                 0.0                 0.0   \n",
              "39766                1.0                 0.0                 0.0   \n",
              "17778                0.0                 0.0                 0.0   \n",
              "\n",
              "       Education Years=12  Education Years=<6  Education Years=>12  \\\n",
              "40846                 0.0                 0.0                  1.0   \n",
              "48445                 0.0                 0.0                  1.0   \n",
              "41181                 0.0                 0.0                  1.0   \n",
              "46902                 0.0                 0.0                  1.0   \n",
              "19837                 0.0                 0.0                  0.0   \n",
              "...                   ...                 ...                  ...   \n",
              "48759                 1.0                 0.0                  0.0   \n",
              "8649                  0.0                 0.0                  1.0   \n",
              "44177                 0.0                 0.0                  0.0   \n",
              "39766                 0.0                 0.0                  0.0   \n",
              "17778                 0.0                 0.0                  1.0   \n",
              "\n",
              "       Income Binary  \n",
              "40846            1.0  \n",
              "48445            1.0  \n",
              "41181            1.0  \n",
              "46902            1.0  \n",
              "19837            0.0  \n",
              "...              ...  \n",
              "48759            0.0  \n",
              "8649             0.0  \n",
              "44177            0.0  \n",
              "39766            0.0  \n",
              "17778            0.0  \n",
              "\n",
              "[32230 rows x 35 columns]"
            ],
            "text/html": [
              "\n",
              "  <div id=\"df-e9122cb7-5d98-4b41-92b9-58fa95cc24c3\">\n",
              "    <div class=\"colab-df-container\">\n",
              "      <div>\n",
              "<style scoped>\n",
              "    .dataframe tbody tr th:only-of-type {\n",
              "        vertical-align: middle;\n",
              "    }\n",
              "\n",
              "    .dataframe tbody tr th {\n",
              "        vertical-align: top;\n",
              "    }\n",
              "\n",
              "    .dataframe thead th {\n",
              "        text-align: right;\n",
              "    }\n",
              "</style>\n",
              "<table border=\"1\" class=\"dataframe\">\n",
              "  <thead>\n",
              "    <tr style=\"text-align: right;\">\n",
              "      <th></th>\n",
              "      <th>race</th>\n",
              "      <th>sex</th>\n",
              "      <th>hours-per-week</th>\n",
              "      <th>workclass=Federal-gov</th>\n",
              "      <th>workclass=Local-gov</th>\n",
              "      <th>workclass=Never-worked</th>\n",
              "      <th>workclass=Private</th>\n",
              "      <th>workclass=Self-emp-inc</th>\n",
              "      <th>workclass=Self-emp-not-inc</th>\n",
              "      <th>workclass=State-gov</th>\n",
              "      <th>...</th>\n",
              "      <th>Education Years=6</th>\n",
              "      <th>Education Years=7</th>\n",
              "      <th>Education Years=8</th>\n",
              "      <th>Education Years=9</th>\n",
              "      <th>Education Years=10</th>\n",
              "      <th>Education Years=11</th>\n",
              "      <th>Education Years=12</th>\n",
              "      <th>Education Years=&lt;6</th>\n",
              "      <th>Education Years=&gt;12</th>\n",
              "      <th>Income Binary</th>\n",
              "    </tr>\n",
              "  </thead>\n",
              "  <tbody>\n",
              "    <tr>\n",
              "      <th>40846</th>\n",
              "      <td>1.0</td>\n",
              "      <td>1.0</td>\n",
              "      <td>45.0</td>\n",
              "      <td>0.0</td>\n",
              "      <td>0.0</td>\n",
              "      <td>0.0</td>\n",
              "      <td>0.0</td>\n",
              "      <td>0.0</td>\n",
              "      <td>0.0</td>\n",
              "      <td>1.0</td>\n",
              "      <td>...</td>\n",
              "      <td>0.0</td>\n",
              "      <td>0.0</td>\n",
              "      <td>0.0</td>\n",
              "      <td>0.0</td>\n",
              "      <td>0.0</td>\n",
              "      <td>0.0</td>\n",
              "      <td>0.0</td>\n",
              "      <td>0.0</td>\n",
              "      <td>1.0</td>\n",
              "      <td>1.0</td>\n",
              "    </tr>\n",
              "    <tr>\n",
              "      <th>48445</th>\n",
              "      <td>1.0</td>\n",
              "      <td>1.0</td>\n",
              "      <td>45.0</td>\n",
              "      <td>0.0</td>\n",
              "      <td>0.0</td>\n",
              "      <td>0.0</td>\n",
              "      <td>1.0</td>\n",
              "      <td>0.0</td>\n",
              "      <td>0.0</td>\n",
              "      <td>0.0</td>\n",
              "      <td>...</td>\n",
              "      <td>0.0</td>\n",
              "      <td>0.0</td>\n",
              "      <td>0.0</td>\n",
              "      <td>0.0</td>\n",
              "      <td>0.0</td>\n",
              "      <td>0.0</td>\n",
              "      <td>0.0</td>\n",
              "      <td>0.0</td>\n",
              "      <td>1.0</td>\n",
              "      <td>1.0</td>\n",
              "    </tr>\n",
              "    <tr>\n",
              "      <th>41181</th>\n",
              "      <td>1.0</td>\n",
              "      <td>1.0</td>\n",
              "      <td>72.0</td>\n",
              "      <td>0.0</td>\n",
              "      <td>0.0</td>\n",
              "      <td>0.0</td>\n",
              "      <td>1.0</td>\n",
              "      <td>0.0</td>\n",
              "      <td>0.0</td>\n",
              "      <td>0.0</td>\n",
              "      <td>...</td>\n",
              "      <td>0.0</td>\n",
              "      <td>0.0</td>\n",
              "      <td>0.0</td>\n",
              "      <td>0.0</td>\n",
              "      <td>0.0</td>\n",
              "      <td>0.0</td>\n",
              "      <td>0.0</td>\n",
              "      <td>0.0</td>\n",
              "      <td>1.0</td>\n",
              "      <td>1.0</td>\n",
              "    </tr>\n",
              "    <tr>\n",
              "      <th>46902</th>\n",
              "      <td>1.0</td>\n",
              "      <td>0.0</td>\n",
              "      <td>35.0</td>\n",
              "      <td>0.0</td>\n",
              "      <td>1.0</td>\n",
              "      <td>0.0</td>\n",
              "      <td>0.0</td>\n",
              "      <td>0.0</td>\n",
              "      <td>0.0</td>\n",
              "      <td>0.0</td>\n",
              "      <td>...</td>\n",
              "      <td>0.0</td>\n",
              "      <td>0.0</td>\n",
              "      <td>0.0</td>\n",
              "      <td>0.0</td>\n",
              "      <td>0.0</td>\n",
              "      <td>0.0</td>\n",
              "      <td>0.0</td>\n",
              "      <td>0.0</td>\n",
              "      <td>1.0</td>\n",
              "      <td>1.0</td>\n",
              "    </tr>\n",
              "    <tr>\n",
              "      <th>19837</th>\n",
              "      <td>1.0</td>\n",
              "      <td>0.0</td>\n",
              "      <td>16.0</td>\n",
              "      <td>0.0</td>\n",
              "      <td>0.0</td>\n",
              "      <td>0.0</td>\n",
              "      <td>0.0</td>\n",
              "      <td>0.0</td>\n",
              "      <td>1.0</td>\n",
              "      <td>0.0</td>\n",
              "      <td>...</td>\n",
              "      <td>0.0</td>\n",
              "      <td>0.0</td>\n",
              "      <td>0.0</td>\n",
              "      <td>1.0</td>\n",
              "      <td>0.0</td>\n",
              "      <td>0.0</td>\n",
              "      <td>0.0</td>\n",
              "      <td>0.0</td>\n",
              "      <td>0.0</td>\n",
              "      <td>0.0</td>\n",
              "    </tr>\n",
              "    <tr>\n",
              "      <th>...</th>\n",
              "      <td>...</td>\n",
              "      <td>...</td>\n",
              "      <td>...</td>\n",
              "      <td>...</td>\n",
              "      <td>...</td>\n",
              "      <td>...</td>\n",
              "      <td>...</td>\n",
              "      <td>...</td>\n",
              "      <td>...</td>\n",
              "      <td>...</td>\n",
              "      <td>...</td>\n",
              "      <td>...</td>\n",
              "      <td>...</td>\n",
              "      <td>...</td>\n",
              "      <td>...</td>\n",
              "      <td>...</td>\n",
              "      <td>...</td>\n",
              "      <td>...</td>\n",
              "      <td>...</td>\n",
              "      <td>...</td>\n",
              "      <td>...</td>\n",
              "    </tr>\n",
              "    <tr>\n",
              "      <th>48759</th>\n",
              "      <td>1.0</td>\n",
              "      <td>1.0</td>\n",
              "      <td>40.0</td>\n",
              "      <td>0.0</td>\n",
              "      <td>0.0</td>\n",
              "      <td>0.0</td>\n",
              "      <td>1.0</td>\n",
              "      <td>0.0</td>\n",
              "      <td>0.0</td>\n",
              "      <td>0.0</td>\n",
              "      <td>...</td>\n",
              "      <td>0.0</td>\n",
              "      <td>0.0</td>\n",
              "      <td>0.0</td>\n",
              "      <td>0.0</td>\n",
              "      <td>0.0</td>\n",
              "      <td>0.0</td>\n",
              "      <td>1.0</td>\n",
              "      <td>0.0</td>\n",
              "      <td>0.0</td>\n",
              "      <td>0.0</td>\n",
              "    </tr>\n",
              "    <tr>\n",
              "      <th>8649</th>\n",
              "      <td>1.0</td>\n",
              "      <td>1.0</td>\n",
              "      <td>35.0</td>\n",
              "      <td>0.0</td>\n",
              "      <td>0.0</td>\n",
              "      <td>0.0</td>\n",
              "      <td>1.0</td>\n",
              "      <td>0.0</td>\n",
              "      <td>0.0</td>\n",
              "      <td>0.0</td>\n",
              "      <td>...</td>\n",
              "      <td>0.0</td>\n",
              "      <td>0.0</td>\n",
              "      <td>0.0</td>\n",
              "      <td>0.0</td>\n",
              "      <td>0.0</td>\n",
              "      <td>0.0</td>\n",
              "      <td>0.0</td>\n",
              "      <td>0.0</td>\n",
              "      <td>1.0</td>\n",
              "      <td>0.0</td>\n",
              "    </tr>\n",
              "    <tr>\n",
              "      <th>44177</th>\n",
              "      <td>1.0</td>\n",
              "      <td>1.0</td>\n",
              "      <td>52.0</td>\n",
              "      <td>0.0</td>\n",
              "      <td>0.0</td>\n",
              "      <td>0.0</td>\n",
              "      <td>1.0</td>\n",
              "      <td>0.0</td>\n",
              "      <td>0.0</td>\n",
              "      <td>0.0</td>\n",
              "      <td>...</td>\n",
              "      <td>0.0</td>\n",
              "      <td>0.0</td>\n",
              "      <td>0.0</td>\n",
              "      <td>1.0</td>\n",
              "      <td>0.0</td>\n",
              "      <td>0.0</td>\n",
              "      <td>0.0</td>\n",
              "      <td>0.0</td>\n",
              "      <td>0.0</td>\n",
              "      <td>0.0</td>\n",
              "    </tr>\n",
              "    <tr>\n",
              "      <th>39766</th>\n",
              "      <td>1.0</td>\n",
              "      <td>1.0</td>\n",
              "      <td>50.0</td>\n",
              "      <td>0.0</td>\n",
              "      <td>0.0</td>\n",
              "      <td>0.0</td>\n",
              "      <td>1.0</td>\n",
              "      <td>0.0</td>\n",
              "      <td>0.0</td>\n",
              "      <td>0.0</td>\n",
              "      <td>...</td>\n",
              "      <td>0.0</td>\n",
              "      <td>0.0</td>\n",
              "      <td>0.0</td>\n",
              "      <td>1.0</td>\n",
              "      <td>0.0</td>\n",
              "      <td>0.0</td>\n",
              "      <td>0.0</td>\n",
              "      <td>0.0</td>\n",
              "      <td>0.0</td>\n",
              "      <td>0.0</td>\n",
              "    </tr>\n",
              "    <tr>\n",
              "      <th>17778</th>\n",
              "      <td>1.0</td>\n",
              "      <td>0.0</td>\n",
              "      <td>65.0</td>\n",
              "      <td>0.0</td>\n",
              "      <td>0.0</td>\n",
              "      <td>0.0</td>\n",
              "      <td>1.0</td>\n",
              "      <td>0.0</td>\n",
              "      <td>0.0</td>\n",
              "      <td>0.0</td>\n",
              "      <td>...</td>\n",
              "      <td>0.0</td>\n",
              "      <td>0.0</td>\n",
              "      <td>0.0</td>\n",
              "      <td>0.0</td>\n",
              "      <td>0.0</td>\n",
              "      <td>0.0</td>\n",
              "      <td>0.0</td>\n",
              "      <td>0.0</td>\n",
              "      <td>1.0</td>\n",
              "      <td>0.0</td>\n",
              "    </tr>\n",
              "  </tbody>\n",
              "</table>\n",
              "<p>32230 rows × 35 columns</p>\n",
              "</div>\n",
              "      <button class=\"colab-df-convert\" onclick=\"convertToInteractive('df-e9122cb7-5d98-4b41-92b9-58fa95cc24c3')\"\n",
              "              title=\"Convert this dataframe to an interactive table.\"\n",
              "              style=\"display:none;\">\n",
              "        \n",
              "  <svg xmlns=\"http://www.w3.org/2000/svg\" height=\"24px\"viewBox=\"0 0 24 24\"\n",
              "       width=\"24px\">\n",
              "    <path d=\"M0 0h24v24H0V0z\" fill=\"none\"/>\n",
              "    <path d=\"M18.56 5.44l.94 2.06.94-2.06 2.06-.94-2.06-.94-.94-2.06-.94 2.06-2.06.94zm-11 1L8.5 8.5l.94-2.06 2.06-.94-2.06-.94L8.5 2.5l-.94 2.06-2.06.94zm10 10l.94 2.06.94-2.06 2.06-.94-2.06-.94-.94-2.06-.94 2.06-2.06.94z\"/><path d=\"M17.41 7.96l-1.37-1.37c-.4-.4-.92-.59-1.43-.59-.52 0-1.04.2-1.43.59L10.3 9.45l-7.72 7.72c-.78.78-.78 2.05 0 2.83L4 21.41c.39.39.9.59 1.41.59.51 0 1.02-.2 1.41-.59l7.78-7.78 2.81-2.81c.8-.78.8-2.07 0-2.86zM5.41 20L4 18.59l7.72-7.72 1.47 1.35L5.41 20z\"/>\n",
              "  </svg>\n",
              "      </button>\n",
              "      \n",
              "  <style>\n",
              "    .colab-df-container {\n",
              "      display:flex;\n",
              "      flex-wrap:wrap;\n",
              "      gap: 12px;\n",
              "    }\n",
              "\n",
              "    .colab-df-convert {\n",
              "      background-color: #E8F0FE;\n",
              "      border: none;\n",
              "      border-radius: 50%;\n",
              "      cursor: pointer;\n",
              "      display: none;\n",
              "      fill: #1967D2;\n",
              "      height: 32px;\n",
              "      padding: 0 0 0 0;\n",
              "      width: 32px;\n",
              "    }\n",
              "\n",
              "    .colab-df-convert:hover {\n",
              "      background-color: #E2EBFA;\n",
              "      box-shadow: 0px 1px 2px rgba(60, 64, 67, 0.3), 0px 1px 3px 1px rgba(60, 64, 67, 0.15);\n",
              "      fill: #174EA6;\n",
              "    }\n",
              "\n",
              "    [theme=dark] .colab-df-convert {\n",
              "      background-color: #3B4455;\n",
              "      fill: #D2E3FC;\n",
              "    }\n",
              "\n",
              "    [theme=dark] .colab-df-convert:hover {\n",
              "      background-color: #434B5C;\n",
              "      box-shadow: 0px 1px 3px 1px rgba(0, 0, 0, 0.15);\n",
              "      filter: drop-shadow(0px 1px 2px rgba(0, 0, 0, 0.3));\n",
              "      fill: #FFFFFF;\n",
              "    }\n",
              "  </style>\n",
              "\n",
              "      <script>\n",
              "        const buttonEl =\n",
              "          document.querySelector('#df-e9122cb7-5d98-4b41-92b9-58fa95cc24c3 button.colab-df-convert');\n",
              "        buttonEl.style.display =\n",
              "          google.colab.kernel.accessAllowed ? 'block' : 'none';\n",
              "\n",
              "        async function convertToInteractive(key) {\n",
              "          const element = document.querySelector('#df-e9122cb7-5d98-4b41-92b9-58fa95cc24c3');\n",
              "          const dataTable =\n",
              "            await google.colab.kernel.invokeFunction('convertToInteractive',\n",
              "                                                     [key], {});\n",
              "          if (!dataTable) return;\n",
              "\n",
              "          const docLinkHtml = 'Like what you see? Visit the ' +\n",
              "            '<a target=\"_blank\" href=https://colab.research.google.com/notebooks/data_table.ipynb>data table notebook</a>'\n",
              "            + ' to learn more about interactive tables.';\n",
              "          element.innerHTML = '';\n",
              "          dataTable['output_type'] = 'display_data';\n",
              "          await google.colab.output.renderOutput(dataTable, element);\n",
              "          const docLink = document.createElement('div');\n",
              "          docLink.innerHTML = docLinkHtml;\n",
              "          element.appendChild(docLink);\n",
              "        }\n",
              "      </script>\n",
              "    </div>\n",
              "  </div>\n",
              "  "
            ]
          },
          "metadata": {},
          "execution_count": 13
        }
      ]
    },
    {
      "cell_type": "code",
      "source": [
        "metric_orig_train = BinaryLabelDatasetMetric(dataset_orig_train, \n",
        "                                             unprivileged_groups=unprivileged_groups,\n",
        "                                             privileged_groups=privileged_groups)\n",
        "display(Markdown(\"#### Original training dataset\"))\n",
        "print(\"Difference in mean outcomes between unprivileged and privileged groups = %f\" % metric_orig_train.mean_difference())"
      ],
      "metadata": {
        "colab": {
          "base_uri": "https://localhost:8080/",
          "height": 74
        },
        "id": "uvKnmoGynW-0",
        "outputId": "44428598-0728-49b9-ae31-35ae43c95d8c"
      },
      "execution_count": null,
      "outputs": [
        {
          "output_type": "display_data",
          "data": {
            "text/plain": [
              "<IPython.core.display.Markdown object>"
            ],
            "text/markdown": "#### Original training dataset"
          },
          "metadata": {}
        },
        {
          "output_type": "stream",
          "name": "stdout",
          "text": [
            "Difference in mean outcomes between unprivileged and privileged groups = -0.202106\n"
          ]
        }
      ]
    },
    {
      "cell_type": "code",
      "source": [
        "metric_orig_train = BinaryLabelDatasetMetric(dataset_orig_train, \n",
        "                                             unprivileged_groups=unprivileged_groups,\n",
        "                                             privileged_groups=privileged_groups)\n",
        "display(Markdown(\"#### Original training dataset\"))\n",
        "print(\"Difference in mean outcomes between unprivileged and privileged groups = %f\" % metric_orig_train.mean_difference())"
      ],
      "metadata": {
        "colab": {
          "base_uri": "https://localhost:8080/",
          "height": 74
        },
        "id": "UOlTpHjonhKO",
        "outputId": "892258db-fed6-4ab6-d9bf-cef160b06cf3"
      },
      "execution_count": null,
      "outputs": [
        {
          "output_type": "display_data",
          "data": {
            "text/plain": [
              "<IPython.core.display.Markdown object>"
            ],
            "text/markdown": "#### Original training dataset"
          },
          "metadata": {}
        },
        {
          "output_type": "stream",
          "name": "stdout",
          "text": [
            "Difference in mean outcomes between unprivileged and privileged groups = -0.202106\n"
          ]
        }
      ]
    },
    {
      "cell_type": "code",
      "source": [
        "optim_options = {\n",
        "    \"distortion_fun\": get_distortion_adult,\n",
        "    \"epsilon\": 0.05,\n",
        "    \"clist\": [0.99, 1.99, 2.99],\n",
        "    \"dlist\": [.1, 0.05, 0]\n",
        "}\n",
        "    \n",
        "OP = OptimPreproc(OptTools, optim_options)\n",
        "\n",
        "OP = OP.fit(dataset_orig_train)\n",
        "dataset_transf_train = OP.transform(dataset_orig_train, transform_Y=True)\n",
        "\n",
        "dataset_transf_train = dataset_orig_train.align_datasets(dataset_transf_train)"
      ],
      "metadata": {
        "id": "gQcM9A-Gnn9O"
      },
      "execution_count": null,
      "outputs": []
    },
    {
      "cell_type": "code",
      "source": [
        "metric_transf_train = BinaryLabelDatasetMetric(dataset_transf_train, \n",
        "                                         unprivileged_groups=unprivileged_groups,\n",
        "                                         privileged_groups=privileged_groups)\n",
        "display(Markdown(\"#### Transformed training dataset\"))\n",
        "print(\"Difference in mean outcomes between unprivileged and privileged groups = %f\" % metric_transf_train.mean_difference())"
      ],
      "metadata": {
        "colab": {
          "base_uri": "https://localhost:8080/",
          "height": 74
        },
        "id": "sdKZwkEOn9Rs",
        "outputId": "6092c774-b01c-47bd-e7fc-c0ee07567c33"
      },
      "execution_count": null,
      "outputs": [
        {
          "output_type": "display_data",
          "data": {
            "text/plain": [
              "<IPython.core.display.Markdown object>"
            ],
            "text/markdown": "#### Transformed training dataset"
          },
          "metadata": {}
        },
        {
          "output_type": "stream",
          "name": "stdout",
          "text": [
            "Difference in mean outcomes between unprivileged and privileged groups = -0.044818\n"
          ]
        }
      ]
    },
    {
      "cell_type": "code",
      "source": [
        "assert np.abs(metric_transf_train.mean_difference()) < np.abs(metric_orig_train.mean_difference())"
      ],
      "metadata": {
        "id": "TgBS7vX0pgyf"
      },
      "execution_count": null,
      "outputs": []
    },
    {
      "cell_type": "code",
      "source": [
        "dataset_orig_test = dataset_transf_train.align_datasets(dataset_orig_test)\n",
        "display(Markdown(\"#### Testing Dataset shape\"))\n",
        "print(dataset_orig_test.features.shape)\n",
        "\n",
        "metric_orig_test = BinaryLabelDatasetMetric(dataset_orig_test, \n",
        "                                         unprivileged_groups=unprivileged_groups,\n",
        "                                         privileged_groups=privileged_groups)\n",
        "display(Markdown(\"#### Original test dataset\"))\n",
        "print(\"Difference in mean outcomes between unprivileged and privileged groups = %f\" % metric_orig_test.mean_difference())"
      ],
      "metadata": {
        "colab": {
          "base_uri": "https://localhost:8080/",
          "height": 130
        },
        "id": "6WYQ7UFvplw7",
        "outputId": "28d37c14-2fa8-4c7c-b120-db36636edff3"
      },
      "execution_count": null,
      "outputs": [
        {
          "output_type": "display_data",
          "data": {
            "text/plain": [
              "<IPython.core.display.Markdown object>"
            ],
            "text/markdown": "#### Testing Dataset shape"
          },
          "metadata": {}
        },
        {
          "output_type": "stream",
          "name": "stdout",
          "text": [
            "(7327, 18)\n"
          ]
        },
        {
          "output_type": "display_data",
          "data": {
            "text/plain": [
              "<IPython.core.display.Markdown object>"
            ],
            "text/markdown": "#### Original test dataset"
          },
          "metadata": {}
        },
        {
          "output_type": "stream",
          "name": "stdout",
          "text": [
            "Difference in mean outcomes between unprivileged and privileged groups = -0.190984\n"
          ]
        }
      ]
    },
    {
      "cell_type": "code",
      "source": [
        "dataset_transf_test = OP.transform(dataset_orig_test, transform_Y = True)\n",
        "dataset_transf_test = dataset_orig_test.align_datasets(dataset_transf_test)\n",
        "\n",
        "metric_transf_test = BinaryLabelDatasetMetric(dataset_transf_test, \n",
        "                                         unprivileged_groups=unprivileged_groups,\n",
        "                                         privileged_groups=privileged_groups)\n",
        "display(Markdown(\"#### Transformed test dataset\"))\n",
        "print(\"Difference in mean outcomes between unprivileged and privileged groups = %f\" % metric_transf_test.mean_difference())"
      ],
      "metadata": {
        "colab": {
          "base_uri": "https://localhost:8080/",
          "height": 74
        },
        "id": "uemRjxt4pqZH",
        "outputId": "662290d3-eb29-4efc-a916-451e5428cd81"
      },
      "execution_count": null,
      "outputs": [
        {
          "output_type": "display_data",
          "data": {
            "text/plain": [
              "<IPython.core.display.Markdown object>"
            ],
            "text/markdown": "#### Transformed test dataset"
          },
          "metadata": {}
        },
        {
          "output_type": "stream",
          "name": "stdout",
          "text": [
            "Difference in mean outcomes between unprivileged and privileged groups = -0.042557\n"
          ]
        }
      ]
    },
    {
      "cell_type": "code",
      "source": [
        "# Logistic regression classifier and predictions\n",
        "scale_orig = StandardScaler()\n",
        "X_train = scale_orig.fit_transform(dataset_orig_train.features)\n",
        "y_train = dataset_orig_train.labels.ravel()\n",
        "\n",
        "lmod = LogisticRegression()\n",
        "lmod.fit(X_train, y_train)\n",
        "y_train_pred = lmod.predict(X_train)\n",
        "\n",
        "# positive class index\n",
        "pos_ind = np.where(lmod.classes_ == dataset_orig_train.favorable_label)[0][0]\n",
        "\n",
        "dataset_orig_train_pred = dataset_orig_train.copy()\n",
        "dataset_orig_train_pred.labels = y_train_pred"
      ],
      "metadata": {
        "id": "IivC9PQ_p1SK"
      },
      "execution_count": null,
      "outputs": []
    },
    {
      "cell_type": "code",
      "source": [
        "X_train.shape"
      ],
      "metadata": {
        "colab": {
          "base_uri": "https://localhost:8080/"
        },
        "id": "PBzbnNmpp8Hz",
        "outputId": "951cd8b8-22bc-445f-ede1-92e827de9ef5"
      },
      "execution_count": null,
      "outputs": [
        {
          "output_type": "execute_result",
          "data": {
            "text/plain": [
              "(34189, 18)"
            ]
          },
          "metadata": {},
          "execution_count": 22
        }
      ]
    },
    {
      "cell_type": "code",
      "source": [
        "dataset_orig_valid_pred = dataset_orig_valid.copy(deepcopy=True)\n",
        "X_valid = scale_orig.transform(dataset_orig_valid_pred.features)\n",
        "y_valid = dataset_orig_valid_pred.labels\n",
        "dataset_orig_valid_pred.scores = lmod.predict_proba(X_valid)[:,pos_ind].reshape(-1,1)\n",
        "\n",
        "dataset_orig_test_pred = dataset_orig_test.copy(deepcopy=True)\n",
        "X_test = scale_orig.transform(dataset_orig_test_pred.features)\n",
        "y_test = dataset_orig_test_pred.labels\n",
        "dataset_orig_test_pred.scores = lmod.predict_proba(X_test)[:,pos_ind].reshape(-1,1)"
      ],
      "metadata": {
        "id": "QdYl8W0YqSVM"
      },
      "execution_count": null,
      "outputs": []
    },
    {
      "cell_type": "code",
      "source": [
        "num_thresh = 100\n",
        "ba_arr = np.zeros(num_thresh)\n",
        "class_thresh_arr = np.linspace(0.01, 0.99, num_thresh)\n",
        "for idx, class_thresh in enumerate(class_thresh_arr):\n",
        "    \n",
        "    fav_inds = dataset_orig_valid_pred.scores > class_thresh\n",
        "    dataset_orig_valid_pred.labels[fav_inds] = dataset_orig_valid_pred.favorable_label\n",
        "    dataset_orig_valid_pred.labels[~fav_inds] = dataset_orig_valid_pred.unfavorable_label\n",
        "    \n",
        "    classified_metric_orig_valid = ClassificationMetric(dataset_orig_valid,\n",
        "                                             dataset_orig_valid_pred, \n",
        "                                             unprivileged_groups=unprivileged_groups,\n",
        "                                             privileged_groups=privileged_groups)\n",
        "    \n",
        "    ba_arr[idx] = 0.5*(classified_metric_orig_valid.true_positive_rate()\\\n",
        "                       +classified_metric_orig_valid.true_negative_rate())\n",
        "\n",
        "best_ind = np.where(ba_arr == np.max(ba_arr))[0][0]\n",
        "best_class_thresh = class_thresh_arr[best_ind]\n",
        "\n",
        "print(\"Best balanced accuracy (no fairness constraints) = %.4f\" % np.max(ba_arr))\n",
        "print(\"Optimal classification threshold (no fairness constraints) = %.4f\" % best_class_thresh)"
      ],
      "metadata": {
        "colab": {
          "base_uri": "https://localhost:8080/"
        },
        "id": "3wBza9hDqlJF",
        "outputId": "78662956-10a0-4077-f644-83d689093933"
      },
      "execution_count": null,
      "outputs": [
        {
          "output_type": "stream",
          "name": "stdout",
          "text": [
            "Best balanced accuracy (no fairness constraints) = 0.7463\n",
            "Optimal classification threshold (no fairness constraints) = 0.2872\n"
          ]
        }
      ]
    },
    {
      "cell_type": "code",
      "source": [
        "display(Markdown(\"#### Predictions from original testing data\"))\n",
        "\n",
        "bal_acc_arr_orig = []\n",
        "disp_imp_arr_orig = []\n",
        "avg_odds_diff_arr_orig = []\n",
        "\n",
        "display(Markdown(\"#### Testing set\"))\n",
        "display(Markdown(\"##### Raw predictions - No fairness constraints\"))\n",
        "\n",
        "for thresh in tqdm(class_thresh_arr):\n",
        "    \n",
        "    fav_inds = dataset_orig_test_pred.scores > thresh\n",
        "    dataset_orig_test_pred.labels[fav_inds] = dataset_orig_test_pred.favorable_label\n",
        "    dataset_orig_test_pred.labels[~fav_inds] = dataset_orig_test_pred.unfavorable_label\n",
        "\n",
        "    if (thresh == best_class_thresh):\n",
        "        disp = True\n",
        "    else:\n",
        "        disp = False\n",
        "        \n",
        "    metric_test_bef = compute_metrics(dataset_orig_test, dataset_orig_test_pred, \n",
        "                                       unprivileged_groups, privileged_groups, disp=disp)\n",
        "    \n",
        "    bal_acc_arr_orig.append(metric_test_bef[\"Balanced accuracy\"])\n",
        "    avg_odds_diff_arr_orig.append(metric_test_bef[\"Average odds difference\"])\n",
        "    disp_imp_arr_orig.append(metric_test_bef[\"Disparate impact\"])"
      ],
      "metadata": {
        "colab": {
          "base_uri": "https://localhost:8080/",
          "height": 262
        },
        "id": "BXOfKurZqn9k",
        "outputId": "3ff1f773-aaf1-4d32-ce3c-b3c165868462"
      },
      "execution_count": null,
      "outputs": [
        {
          "output_type": "display_data",
          "data": {
            "text/plain": [
              "<IPython.core.display.Markdown object>"
            ],
            "text/markdown": "#### Predictions from original testing data"
          },
          "metadata": {}
        },
        {
          "output_type": "display_data",
          "data": {
            "text/plain": [
              "<IPython.core.display.Markdown object>"
            ],
            "text/markdown": "#### Testing set"
          },
          "metadata": {}
        },
        {
          "output_type": "display_data",
          "data": {
            "text/plain": [
              "<IPython.core.display.Markdown object>"
            ],
            "text/markdown": "##### Raw predictions - No fairness constraints"
          },
          "metadata": {}
        },
        {
          "output_type": "stream",
          "name": "stderr",
          "text": [
            " 35%|███▌      | 35/100 [00:00<00:00, 79.81it/s]"
          ]
        },
        {
          "output_type": "stream",
          "name": "stdout",
          "text": [
            "Balanced accuracy = 0.7437\n",
            "Statistical parity difference = -0.3580\n",
            "Disparate impact = 0.2794\n",
            "Average odds difference = -0.3181\n",
            "Equal opportunity difference = -0.3769\n",
            "Theil index = 0.1129\n"
          ]
        },
        {
          "output_type": "stream",
          "name": "stderr",
          "text": [
            " 67%|██████▋   | 67/100 [00:01<00:00, 56.73it/s]invalid value encountered in double_scalars\n",
            "100%|██████████| 100/100 [00:01<00:00, 78.72it/s]\n"
          ]
        }
      ]
    },
    {
      "cell_type": "code",
      "source": [
        "scale_transf = StandardScaler()\n",
        "X_train = scale_transf.fit_transform(dataset_transf_train.features)\n",
        "y_train = dataset_transf_train.labels.ravel()\n",
        "\n",
        "lmod = LogisticRegression()\n",
        "lmod.fit(X_train, y_train)\n",
        "y_train_pred = lmod.predict(X_train)\n",
        "\n",
        "dataset_transf_train_pred = dataset_transf_train.copy()\n",
        "dataset_transf_train_pred.labels = y_train_pred"
      ],
      "metadata": {
        "id": "A8L2_m_pqr-Q"
      },
      "execution_count": null,
      "outputs": []
    },
    {
      "cell_type": "code",
      "source": [
        "dataset_transf_test_pred = dataset_transf_test.copy(deepcopy=True)\n",
        "X_test = scale_transf.transform(dataset_transf_test_pred.features)\n",
        "y_test = dataset_transf_test_pred.labels\n",
        "dataset_transf_test_pred.scores = lmod.predict_proba(X_test)[:,pos_ind].reshape(-1,1)"
      ],
      "metadata": {
        "id": "qIVWERsCqy10"
      },
      "execution_count": null,
      "outputs": []
    },
    {
      "cell_type": "code",
      "source": [
        "display(Markdown(\"#### Predictions from transformed testing data\"))\n",
        "\n",
        "bal_acc_arr_transf = []\n",
        "disp_imp_arr_transf = []\n",
        "avg_odds_diff_arr_transf = []\n",
        "\n",
        "display(Markdown(\"#### Testing set\"))\n",
        "display(Markdown(\"##### Transformed predictions - No fairness constraints\"))\n",
        "\n",
        "for thresh in tqdm(class_thresh_arr):\n",
        "    \n",
        "    fav_inds = dataset_transf_test_pred.scores > thresh\n",
        "    dataset_transf_test_pred.labels[fav_inds] = dataset_transf_test_pred.favorable_label\n",
        "    dataset_transf_test_pred.labels[~fav_inds] = dataset_transf_test_pred.unfavorable_label\n",
        "\n",
        "    if (thresh == best_class_thresh):\n",
        "        disp = True\n",
        "    else:\n",
        "        disp = False\n",
        "        \n",
        "    metric_test_bef = compute_metrics(dataset_transf_test, dataset_transf_test_pred, \n",
        "                                       unprivileged_groups, privileged_groups, disp=disp)\n",
        "    \n",
        "    bal_acc_arr_transf.append(metric_test_bef[\"Balanced accuracy\"])\n",
        "    avg_odds_diff_arr_transf.append(metric_test_bef[\"Average odds difference\"])\n",
        "    disp_imp_arr_transf.append(metric_test_bef[\"Disparate impact\"])"
      ],
      "metadata": {
        "colab": {
          "base_uri": "https://localhost:8080/",
          "height": 262
        },
        "id": "jfehKJ-mq1xp",
        "outputId": "e121323a-c402-4d20-a56a-db1b0efb6da6"
      },
      "execution_count": null,
      "outputs": [
        {
          "output_type": "display_data",
          "data": {
            "text/plain": [
              "<IPython.core.display.Markdown object>"
            ],
            "text/markdown": "#### Predictions from transformed testing data"
          },
          "metadata": {}
        },
        {
          "output_type": "display_data",
          "data": {
            "text/plain": [
              "<IPython.core.display.Markdown object>"
            ],
            "text/markdown": "#### Testing set"
          },
          "metadata": {}
        },
        {
          "output_type": "display_data",
          "data": {
            "text/plain": [
              "<IPython.core.display.Markdown object>"
            ],
            "text/markdown": "##### Transformed predictions - No fairness constraints"
          },
          "metadata": {}
        },
        {
          "output_type": "stream",
          "name": "stderr",
          "text": [
            " 35%|███▌      | 35/100 [00:01<00:01, 33.98it/s]"
          ]
        },
        {
          "output_type": "stream",
          "name": "stdout",
          "text": [
            "Balanced accuracy = 0.7070\n",
            "Statistical parity difference = -0.0843\n",
            "Disparate impact = 0.7625\n",
            "Average odds difference = -0.0540\n",
            "Equal opportunity difference = -0.0295\n",
            "Theil index = 0.1438\n"
          ]
        },
        {
          "output_type": "stream",
          "name": "stderr",
          "text": [
            " 61%|██████    | 61/100 [00:01<00:00, 41.32it/s]invalid value encountered in double_scalars\n",
            "100%|██████████| 100/100 [00:02<00:00, 43.94it/s]\n"
          ]
        }
      ]
    },
    {
      "cell_type": "code",
      "source": [
        "iname = dataset_transf_test_pred.convert_to_dataframe()[1][\"instance_names\"]"
      ],
      "metadata": {
        "id": "S8qNFt2bq5Wm"
      },
      "execution_count": null,
      "outputs": []
    },
    {
      "cell_type": "code",
      "source": [
        "pred = (dataset_transf_test_pred.scores > best_class_thresh).reshape((-1))"
      ],
      "metadata": {
        "id": "PAHdAv0Msla-"
      },
      "execution_count": null,
      "outputs": []
    },
    {
      "cell_type": "code",
      "source": [
        "df3 = dataset_transf_test_pred.convert_to_dataframe()[0]"
      ],
      "metadata": {
        "id": "MzqYMfHBsynl"
      },
      "execution_count": null,
      "outputs": []
    },
    {
      "cell_type": "code",
      "source": [
        "df3.loc[:, \"Income Binary\"] = pred"
      ],
      "metadata": {
        "id": "fDvVzwTrs2xR"
      },
      "execution_count": null,
      "outputs": []
    },
    {
      "cell_type": "code",
      "source": [
        "from aif360.datasets import AdultDataset, GermanDataset, CompasDataset\n",
        "import pandas as pd\n",
        "import numpy as np\n",
        "\n",
        "def load_preproc_data_adult(protected_attributes=None, sub_samp=False, balance=False):\n",
        "    def custom_preprocessing(df):\n",
        "        \"\"\"The custom pre-processing function is adapted from\n",
        "            https://github.com/fair-preprocessing/nips2017/blob/master/Adult/code/Generate_Adult_Data.ipynb\n",
        "            If sub_samp != False, then return smaller version of dataset truncated to tiny_test data points.\n",
        "        \"\"\"\n",
        "\n",
        "        # Group age by decade\n",
        "        df['Age (decade)'] = df['age'].apply(lambda x: x//10*10)\n",
        "        # df['Age (decade)'] = df['age'].apply(lambda x: np.floor(x/10.0)*10.0)\n",
        "\n",
        "        def group_edu(x):\n",
        "            if x <= 5:\n",
        "                return '<6'\n",
        "            elif x >= 13:\n",
        "                return '>12'\n",
        "            else:\n",
        "                return x\n",
        "\n",
        "        def age_cut(x):\n",
        "            if x >= 70:\n",
        "                return '>=70'\n",
        "            else:\n",
        "                return x\n",
        "\n",
        "        def group_race(x):\n",
        "            if x == \"White\":\n",
        "                return 1.0\n",
        "            else:\n",
        "                return 0.0\n",
        "\n",
        "        # Cluster education and age attributes.\n",
        "        # Limit education range\n",
        "        df['Education Years'] = df['education-num'].apply(lambda x: group_edu(x))\n",
        "        df['Education Years'] = df['Education Years'].astype('category')\n",
        "\n",
        "        # Limit age range\n",
        "        df['Age (decade)'] = df['Age (decade)'].apply(lambda x: age_cut(x))\n",
        "\n",
        "        # Rename income variable\n",
        "        df['Income Binary'] = df['income-per-year']\n",
        "        df['Income Binary'] = df['Income Binary'].replace(to_replace='>50K.', value='>50K', regex=True)\n",
        "        df['Income Binary'] = df['Income Binary'].replace(to_replace='<=50K.', value='<=50K', regex=True)\n",
        "\n",
        "        # Recode sex and race\n",
        "        df['sex'] = df['sex'].replace({'Female': 0.0, 'Male': 1.0})\n",
        "        df['race'] = df['race'].apply(lambda x: group_race(x))\n",
        "\n",
        "        if sub_samp and not balance:\n",
        "            df = df.sample(sub_samp)\n",
        "        if sub_samp and balance:\n",
        "            df_0 = df[df['Income Binary'] == '<=50K']\n",
        "            df_1 = df[df['Income Binary'] == '>50K']\n",
        "            df_0 = df_0.sample(int(sub_samp/2))\n",
        "            df_1 = df_1.sample(int(sub_samp/2))\n",
        "            df = pd.concat([df_0, df_1])\n",
        "        return df\n",
        "\n",
        "    XD_features = ['Age (decade)', 'Education Years', 'hours-per-week', 'sex', 'race']\n",
        "    D_features = ['sex', 'race'] if protected_attributes is None else protected_attributes\n",
        "    Y_features = ['Income Binary']\n",
        "    X_features = list(set(XD_features)-set(D_features))\n",
        "    categorical_features = ['Age (decade)', 'Education Years', 'marital-status', 'workclass']\n",
        "\n",
        "    # privileged classes\n",
        "    all_privileged_classes = {\"sex\": [1.0],\n",
        "                              \"race\": [1.0]}\n",
        "\n",
        "    # protected attribute maps\n",
        "    all_protected_attribute_maps = {\"sex\": {1.0: 'Male', 0.0: 'Female'},\n",
        "                                    \"race\": {1.0: 'White', 0.0: 'Non-white'}}\n",
        "\n",
        "    return AdultDataset(\n",
        "        label_name=Y_features[0],\n",
        "        favorable_classes=['>50K', '>50K.'],\n",
        "        protected_attribute_names=D_features,\n",
        "        privileged_classes=[all_privileged_classes[x] for x in D_features],\n",
        "        instance_weights_name=None,\n",
        "        categorical_features=categorical_features,\n",
        "        features_to_keep=X_features+Y_features+D_features,\n",
        "        na_values=['?'],\n",
        "        metadata={'label_maps': [{1.0: '>50K', 0.0: '<=50K'}],\n",
        "                  'protected_attribute_maps': [all_protected_attribute_maps[x]\n",
        "                                for x in D_features]},\n",
        "        custom_preprocessing=custom_preprocessing)"
      ],
      "metadata": {
        "id": "kjDGGWFcrDBr"
      },
      "execution_count": null,
      "outputs": []
    },
    {
      "cell_type": "code",
      "source": [
        "dataset_orig = load_preproc_data_adult()"
      ],
      "metadata": {
        "colab": {
          "base_uri": "https://localhost:8080/"
        },
        "id": "Wxn7PWfBrksx",
        "outputId": "c5a098b9-5d61-4d2e-82a6-4797fcb3b2e9"
      },
      "execution_count": null,
      "outputs": [
        {
          "output_type": "stream",
          "name": "stderr",
          "text": [
            "WARNING:root:Missing Data: 2799 rows removed from AdultDataset.\n"
          ]
        }
      ]
    },
    {
      "cell_type": "code",
      "source": [
        "df = dataset_orig.convert_to_dataframe()[0].copy()"
      ],
      "metadata": {
        "id": "FmmiBQL0robo"
      },
      "execution_count": null,
      "outputs": []
    },
    {
      "cell_type": "code",
      "source": [
        "df4 = df.loc[iname2, :].copy()"
      ],
      "metadata": {
        "id": "uRTs_2DNrx6N"
      },
      "execution_count": null,
      "outputs": []
    },
    {
      "cell_type": "code",
      "source": [
        "iname2 = [x for x in iname if x in df.index]"
      ],
      "metadata": {
        "id": "qpxdoTmVr9iO"
      },
      "execution_count": null,
      "outputs": []
    },
    {
      "cell_type": "code",
      "source": [
        "df4.loc[iname2, \"Income Binary\"] = df3.loc[iname2, \"Income Binary\"].astype(int).values"
      ],
      "metadata": {
        "id": "scfjU-r5sOZ-"
      },
      "execution_count": null,
      "outputs": []
    },
    {
      "cell_type": "code",
      "source": [
        "def onehot_to_label_encode(feature, d):\n",
        "  cols = [x  for x in d.columns if feature in x]\n",
        "  d.loc[:, feature] = d.loc[:, cols].values.argmax(axis=1)\n",
        "  d = d.drop(cols, axis=1)\n",
        "\n",
        "  return d"
      ],
      "metadata": {
        "id": "fMfE5_cGtXx8"
      },
      "execution_count": null,
      "outputs": []
    },
    {
      "cell_type": "code",
      "source": [
        "df4 = onehot_to_label_encode(\"workclass\", df4)"
      ],
      "metadata": {
        "id": "fiH2fV8Sta5I"
      },
      "execution_count": null,
      "outputs": []
    },
    {
      "cell_type": "code",
      "source": [
        "df4 = onehot_to_label_encode(\"marital-status\", df4)\n",
        "df4 = onehot_to_label_encode(\"Education\", df4)"
      ],
      "metadata": {
        "id": "NgvhdNdptwMI"
      },
      "execution_count": null,
      "outputs": []
    },
    {
      "cell_type": "code",
      "source": [
        "df4 = onehot_to_label_encode(\"Age\", df4)"
      ],
      "metadata": {
        "id": "3BsdqW9Ltxxt"
      },
      "execution_count": null,
      "outputs": []
    },
    {
      "cell_type": "code",
      "source": [
        "df4"
      ],
      "metadata": {
        "colab": {
          "base_uri": "https://localhost:8080/",
          "height": 419
        },
        "id": "yAT-2Jhswfqc",
        "outputId": "acb72d3d-fc11-4d6f-ebb3-7ca3d343de8f"
      },
      "execution_count": null,
      "outputs": [
        {
          "output_type": "execute_result",
          "data": {
            "text/plain": [
              "       sex  hour  INCOME  workclass  marital  Education  Age\n",
              "21157  1.0  40.0     0.0          1        4          8    1\n",
              "20599  0.0  40.0     0.0          3        4          3    1\n",
              "17447  1.0  20.0     1.0          3        2          8    5\n",
              "1799   0.0  25.0     0.0          3        4          4    1\n",
              "40889  1.0  40.0     0.0          3        4          3    2\n",
              "...    ...   ...     ...        ...      ...        ...  ...\n",
              "33857  1.0  40.0     0.0          1        2          4    2\n",
              "2446   1.0  40.0     0.0          3        4          5    1\n",
              "3233   1.0   8.0     0.0          3        4          1    0\n",
              "44405  1.0  40.0     1.0          5        4          8    2\n",
              "35756  1.0  40.0     1.0          6        2          8    3\n",
              "\n",
              "[6894 rows x 7 columns]"
            ],
            "text/html": [
              "\n",
              "  <div id=\"df-febc3cb1-65a0-48bc-81e9-0407a275b0c8\">\n",
              "    <div class=\"colab-df-container\">\n",
              "      <div>\n",
              "<style scoped>\n",
              "    .dataframe tbody tr th:only-of-type {\n",
              "        vertical-align: middle;\n",
              "    }\n",
              "\n",
              "    .dataframe tbody tr th {\n",
              "        vertical-align: top;\n",
              "    }\n",
              "\n",
              "    .dataframe thead th {\n",
              "        text-align: right;\n",
              "    }\n",
              "</style>\n",
              "<table border=\"1\" class=\"dataframe\">\n",
              "  <thead>\n",
              "    <tr style=\"text-align: right;\">\n",
              "      <th></th>\n",
              "      <th>sex</th>\n",
              "      <th>hour</th>\n",
              "      <th>INCOME</th>\n",
              "      <th>workclass</th>\n",
              "      <th>marital</th>\n",
              "      <th>Education</th>\n",
              "      <th>Age</th>\n",
              "    </tr>\n",
              "  </thead>\n",
              "  <tbody>\n",
              "    <tr>\n",
              "      <th>21157</th>\n",
              "      <td>1.0</td>\n",
              "      <td>40.0</td>\n",
              "      <td>0.0</td>\n",
              "      <td>1</td>\n",
              "      <td>4</td>\n",
              "      <td>8</td>\n",
              "      <td>1</td>\n",
              "    </tr>\n",
              "    <tr>\n",
              "      <th>20599</th>\n",
              "      <td>0.0</td>\n",
              "      <td>40.0</td>\n",
              "      <td>0.0</td>\n",
              "      <td>3</td>\n",
              "      <td>4</td>\n",
              "      <td>3</td>\n",
              "      <td>1</td>\n",
              "    </tr>\n",
              "    <tr>\n",
              "      <th>17447</th>\n",
              "      <td>1.0</td>\n",
              "      <td>20.0</td>\n",
              "      <td>1.0</td>\n",
              "      <td>3</td>\n",
              "      <td>2</td>\n",
              "      <td>8</td>\n",
              "      <td>5</td>\n",
              "    </tr>\n",
              "    <tr>\n",
              "      <th>1799</th>\n",
              "      <td>0.0</td>\n",
              "      <td>25.0</td>\n",
              "      <td>0.0</td>\n",
              "      <td>3</td>\n",
              "      <td>4</td>\n",
              "      <td>4</td>\n",
              "      <td>1</td>\n",
              "    </tr>\n",
              "    <tr>\n",
              "      <th>40889</th>\n",
              "      <td>1.0</td>\n",
              "      <td>40.0</td>\n",
              "      <td>0.0</td>\n",
              "      <td>3</td>\n",
              "      <td>4</td>\n",
              "      <td>3</td>\n",
              "      <td>2</td>\n",
              "    </tr>\n",
              "    <tr>\n",
              "      <th>...</th>\n",
              "      <td>...</td>\n",
              "      <td>...</td>\n",
              "      <td>...</td>\n",
              "      <td>...</td>\n",
              "      <td>...</td>\n",
              "      <td>...</td>\n",
              "      <td>...</td>\n",
              "    </tr>\n",
              "    <tr>\n",
              "      <th>33857</th>\n",
              "      <td>1.0</td>\n",
              "      <td>40.0</td>\n",
              "      <td>0.0</td>\n",
              "      <td>1</td>\n",
              "      <td>2</td>\n",
              "      <td>4</td>\n",
              "      <td>2</td>\n",
              "    </tr>\n",
              "    <tr>\n",
              "      <th>2446</th>\n",
              "      <td>1.0</td>\n",
              "      <td>40.0</td>\n",
              "      <td>0.0</td>\n",
              "      <td>3</td>\n",
              "      <td>4</td>\n",
              "      <td>5</td>\n",
              "      <td>1</td>\n",
              "    </tr>\n",
              "    <tr>\n",
              "      <th>3233</th>\n",
              "      <td>1.0</td>\n",
              "      <td>8.0</td>\n",
              "      <td>0.0</td>\n",
              "      <td>3</td>\n",
              "      <td>4</td>\n",
              "      <td>1</td>\n",
              "      <td>0</td>\n",
              "    </tr>\n",
              "    <tr>\n",
              "      <th>44405</th>\n",
              "      <td>1.0</td>\n",
              "      <td>40.0</td>\n",
              "      <td>1.0</td>\n",
              "      <td>5</td>\n",
              "      <td>4</td>\n",
              "      <td>8</td>\n",
              "      <td>2</td>\n",
              "    </tr>\n",
              "    <tr>\n",
              "      <th>35756</th>\n",
              "      <td>1.0</td>\n",
              "      <td>40.0</td>\n",
              "      <td>1.0</td>\n",
              "      <td>6</td>\n",
              "      <td>2</td>\n",
              "      <td>8</td>\n",
              "      <td>3</td>\n",
              "    </tr>\n",
              "  </tbody>\n",
              "</table>\n",
              "<p>6894 rows × 7 columns</p>\n",
              "</div>\n",
              "      <button class=\"colab-df-convert\" onclick=\"convertToInteractive('df-febc3cb1-65a0-48bc-81e9-0407a275b0c8')\"\n",
              "              title=\"Convert this dataframe to an interactive table.\"\n",
              "              style=\"display:none;\">\n",
              "        \n",
              "  <svg xmlns=\"http://www.w3.org/2000/svg\" height=\"24px\"viewBox=\"0 0 24 24\"\n",
              "       width=\"24px\">\n",
              "    <path d=\"M0 0h24v24H0V0z\" fill=\"none\"/>\n",
              "    <path d=\"M18.56 5.44l.94 2.06.94-2.06 2.06-.94-2.06-.94-.94-2.06-.94 2.06-2.06.94zm-11 1L8.5 8.5l.94-2.06 2.06-.94-2.06-.94L8.5 2.5l-.94 2.06-2.06.94zm10 10l.94 2.06.94-2.06 2.06-.94-2.06-.94-.94-2.06-.94 2.06-2.06.94z\"/><path d=\"M17.41 7.96l-1.37-1.37c-.4-.4-.92-.59-1.43-.59-.52 0-1.04.2-1.43.59L10.3 9.45l-7.72 7.72c-.78.78-.78 2.05 0 2.83L4 21.41c.39.39.9.59 1.41.59.51 0 1.02-.2 1.41-.59l7.78-7.78 2.81-2.81c.8-.78.8-2.07 0-2.86zM5.41 20L4 18.59l7.72-7.72 1.47 1.35L5.41 20z\"/>\n",
              "  </svg>\n",
              "      </button>\n",
              "      \n",
              "  <style>\n",
              "    .colab-df-container {\n",
              "      display:flex;\n",
              "      flex-wrap:wrap;\n",
              "      gap: 12px;\n",
              "    }\n",
              "\n",
              "    .colab-df-convert {\n",
              "      background-color: #E8F0FE;\n",
              "      border: none;\n",
              "      border-radius: 50%;\n",
              "      cursor: pointer;\n",
              "      display: none;\n",
              "      fill: #1967D2;\n",
              "      height: 32px;\n",
              "      padding: 0 0 0 0;\n",
              "      width: 32px;\n",
              "    }\n",
              "\n",
              "    .colab-df-convert:hover {\n",
              "      background-color: #E2EBFA;\n",
              "      box-shadow: 0px 1px 2px rgba(60, 64, 67, 0.3), 0px 1px 3px 1px rgba(60, 64, 67, 0.15);\n",
              "      fill: #174EA6;\n",
              "    }\n",
              "\n",
              "    [theme=dark] .colab-df-convert {\n",
              "      background-color: #3B4455;\n",
              "      fill: #D2E3FC;\n",
              "    }\n",
              "\n",
              "    [theme=dark] .colab-df-convert:hover {\n",
              "      background-color: #434B5C;\n",
              "      box-shadow: 0px 1px 3px 1px rgba(0, 0, 0, 0.15);\n",
              "      filter: drop-shadow(0px 1px 2px rgba(0, 0, 0, 0.3));\n",
              "      fill: #FFFFFF;\n",
              "    }\n",
              "  </style>\n",
              "\n",
              "      <script>\n",
              "        const buttonEl =\n",
              "          document.querySelector('#df-febc3cb1-65a0-48bc-81e9-0407a275b0c8 button.colab-df-convert');\n",
              "        buttonEl.style.display =\n",
              "          google.colab.kernel.accessAllowed ? 'block' : 'none';\n",
              "\n",
              "        async function convertToInteractive(key) {\n",
              "          const element = document.querySelector('#df-febc3cb1-65a0-48bc-81e9-0407a275b0c8');\n",
              "          const dataTable =\n",
              "            await google.colab.kernel.invokeFunction('convertToInteractive',\n",
              "                                                     [key], {});\n",
              "          if (!dataTable) return;\n",
              "\n",
              "          const docLinkHtml = 'Like what you see? Visit the ' +\n",
              "            '<a target=\"_blank\" href=https://colab.research.google.com/notebooks/data_table.ipynb>data table notebook</a>'\n",
              "            + ' to learn more about interactive tables.';\n",
              "          element.innerHTML = '';\n",
              "          dataTable['output_type'] = 'display_data';\n",
              "          await google.colab.output.renderOutput(dataTable, element);\n",
              "          const docLink = document.createElement('div');\n",
              "          docLink.innerHTML = docLinkHtml;\n",
              "          element.appendChild(docLink);\n",
              "        }\n",
              "      </script>\n",
              "    </div>\n",
              "  </div>\n",
              "  "
            ]
          },
          "metadata": {},
          "execution_count": 135
        }
      ]
    },
    {
      "cell_type": "code",
      "source": [
        "df4 = df4.drop([\"race\"], axis=1)"
      ],
      "metadata": {
        "id": "WgPfwGWBtzXy"
      },
      "execution_count": null,
      "outputs": []
    },
    {
      "cell_type": "code",
      "source": [
        "df4 = df4.rename(columns={\"hours-per-week\":\"hour\", \"Income Binary\":\"INCOME\", \"marital-status\":\"marital\"})"
      ],
      "metadata": {
        "id": "9EYddvN4t7j-"
      },
      "execution_count": null,
      "outputs": []
    },
    {
      "cell_type": "code",
      "source": [
        "df4.to_csv(\"adult_pre.csv\",index=False)"
      ],
      "metadata": {
        "id": "ZsQg_MD_t1N5"
      },
      "execution_count": null,
      "outputs": []
    },
    {
      "cell_type": "code",
      "source": [
        "df4.shape"
      ],
      "metadata": {
        "colab": {
          "base_uri": "https://localhost:8080/"
        },
        "id": "A7Req9A9t4q2",
        "outputId": "869a5b7b-94f3-4945-8c4f-7c79130afbde"
      },
      "execution_count": null,
      "outputs": [
        {
          "output_type": "execute_result",
          "data": {
            "text/plain": [
              "(6894, 3)"
            ]
          },
          "metadata": {},
          "execution_count": 99
        }
      ]
    },
    {
      "cell_type": "code",
      "source": [
        "df4"
      ],
      "metadata": {
        "colab": {
          "base_uri": "https://localhost:8080/",
          "height": 419
        },
        "id": "uE-FgNsou6bd",
        "outputId": "f8b00100-8859-4b18-806b-57fb922c5e88"
      },
      "execution_count": null,
      "outputs": [
        {
          "output_type": "execute_result",
          "data": {
            "text/plain": [
              "       sex  hour  INCOME\n",
              "21157  1.0  40.0       0\n",
              "20599  0.0  40.0       0\n",
              "17447  1.0  20.0       1\n",
              "1799   0.0  25.0       0\n",
              "40889  1.0  40.0       0\n",
              "...    ...   ...     ...\n",
              "33857  1.0  40.0       0\n",
              "2446   1.0  40.0       0\n",
              "3233   1.0   8.0       0\n",
              "44405  1.0  40.0       1\n",
              "35756  1.0  40.0       1\n",
              "\n",
              "[6894 rows x 3 columns]"
            ],
            "text/html": [
              "\n",
              "  <div id=\"df-150b6b01-de94-48ba-b4ba-e5cce3b9c96b\">\n",
              "    <div class=\"colab-df-container\">\n",
              "      <div>\n",
              "<style scoped>\n",
              "    .dataframe tbody tr th:only-of-type {\n",
              "        vertical-align: middle;\n",
              "    }\n",
              "\n",
              "    .dataframe tbody tr th {\n",
              "        vertical-align: top;\n",
              "    }\n",
              "\n",
              "    .dataframe thead th {\n",
              "        text-align: right;\n",
              "    }\n",
              "</style>\n",
              "<table border=\"1\" class=\"dataframe\">\n",
              "  <thead>\n",
              "    <tr style=\"text-align: right;\">\n",
              "      <th></th>\n",
              "      <th>sex</th>\n",
              "      <th>hour</th>\n",
              "      <th>INCOME</th>\n",
              "    </tr>\n",
              "  </thead>\n",
              "  <tbody>\n",
              "    <tr>\n",
              "      <th>21157</th>\n",
              "      <td>1.0</td>\n",
              "      <td>40.0</td>\n",
              "      <td>0</td>\n",
              "    </tr>\n",
              "    <tr>\n",
              "      <th>20599</th>\n",
              "      <td>0.0</td>\n",
              "      <td>40.0</td>\n",
              "      <td>0</td>\n",
              "    </tr>\n",
              "    <tr>\n",
              "      <th>17447</th>\n",
              "      <td>1.0</td>\n",
              "      <td>20.0</td>\n",
              "      <td>1</td>\n",
              "    </tr>\n",
              "    <tr>\n",
              "      <th>1799</th>\n",
              "      <td>0.0</td>\n",
              "      <td>25.0</td>\n",
              "      <td>0</td>\n",
              "    </tr>\n",
              "    <tr>\n",
              "      <th>40889</th>\n",
              "      <td>1.0</td>\n",
              "      <td>40.0</td>\n",
              "      <td>0</td>\n",
              "    </tr>\n",
              "    <tr>\n",
              "      <th>...</th>\n",
              "      <td>...</td>\n",
              "      <td>...</td>\n",
              "      <td>...</td>\n",
              "    </tr>\n",
              "    <tr>\n",
              "      <th>33857</th>\n",
              "      <td>1.0</td>\n",
              "      <td>40.0</td>\n",
              "      <td>0</td>\n",
              "    </tr>\n",
              "    <tr>\n",
              "      <th>2446</th>\n",
              "      <td>1.0</td>\n",
              "      <td>40.0</td>\n",
              "      <td>0</td>\n",
              "    </tr>\n",
              "    <tr>\n",
              "      <th>3233</th>\n",
              "      <td>1.0</td>\n",
              "      <td>8.0</td>\n",
              "      <td>0</td>\n",
              "    </tr>\n",
              "    <tr>\n",
              "      <th>44405</th>\n",
              "      <td>1.0</td>\n",
              "      <td>40.0</td>\n",
              "      <td>1</td>\n",
              "    </tr>\n",
              "    <tr>\n",
              "      <th>35756</th>\n",
              "      <td>1.0</td>\n",
              "      <td>40.0</td>\n",
              "      <td>1</td>\n",
              "    </tr>\n",
              "  </tbody>\n",
              "</table>\n",
              "<p>6894 rows × 3 columns</p>\n",
              "</div>\n",
              "      <button class=\"colab-df-convert\" onclick=\"convertToInteractive('df-150b6b01-de94-48ba-b4ba-e5cce3b9c96b')\"\n",
              "              title=\"Convert this dataframe to an interactive table.\"\n",
              "              style=\"display:none;\">\n",
              "        \n",
              "  <svg xmlns=\"http://www.w3.org/2000/svg\" height=\"24px\"viewBox=\"0 0 24 24\"\n",
              "       width=\"24px\">\n",
              "    <path d=\"M0 0h24v24H0V0z\" fill=\"none\"/>\n",
              "    <path d=\"M18.56 5.44l.94 2.06.94-2.06 2.06-.94-2.06-.94-.94-2.06-.94 2.06-2.06.94zm-11 1L8.5 8.5l.94-2.06 2.06-.94-2.06-.94L8.5 2.5l-.94 2.06-2.06.94zm10 10l.94 2.06.94-2.06 2.06-.94-2.06-.94-.94-2.06-.94 2.06-2.06.94z\"/><path d=\"M17.41 7.96l-1.37-1.37c-.4-.4-.92-.59-1.43-.59-.52 0-1.04.2-1.43.59L10.3 9.45l-7.72 7.72c-.78.78-.78 2.05 0 2.83L4 21.41c.39.39.9.59 1.41.59.51 0 1.02-.2 1.41-.59l7.78-7.78 2.81-2.81c.8-.78.8-2.07 0-2.86zM5.41 20L4 18.59l7.72-7.72 1.47 1.35L5.41 20z\"/>\n",
              "  </svg>\n",
              "      </button>\n",
              "      \n",
              "  <style>\n",
              "    .colab-df-container {\n",
              "      display:flex;\n",
              "      flex-wrap:wrap;\n",
              "      gap: 12px;\n",
              "    }\n",
              "\n",
              "    .colab-df-convert {\n",
              "      background-color: #E8F0FE;\n",
              "      border: none;\n",
              "      border-radius: 50%;\n",
              "      cursor: pointer;\n",
              "      display: none;\n",
              "      fill: #1967D2;\n",
              "      height: 32px;\n",
              "      padding: 0 0 0 0;\n",
              "      width: 32px;\n",
              "    }\n",
              "\n",
              "    .colab-df-convert:hover {\n",
              "      background-color: #E2EBFA;\n",
              "      box-shadow: 0px 1px 2px rgba(60, 64, 67, 0.3), 0px 1px 3px 1px rgba(60, 64, 67, 0.15);\n",
              "      fill: #174EA6;\n",
              "    }\n",
              "\n",
              "    [theme=dark] .colab-df-convert {\n",
              "      background-color: #3B4455;\n",
              "      fill: #D2E3FC;\n",
              "    }\n",
              "\n",
              "    [theme=dark] .colab-df-convert:hover {\n",
              "      background-color: #434B5C;\n",
              "      box-shadow: 0px 1px 3px 1px rgba(0, 0, 0, 0.15);\n",
              "      filter: drop-shadow(0px 1px 2px rgba(0, 0, 0, 0.3));\n",
              "      fill: #FFFFFF;\n",
              "    }\n",
              "  </style>\n",
              "\n",
              "      <script>\n",
              "        const buttonEl =\n",
              "          document.querySelector('#df-150b6b01-de94-48ba-b4ba-e5cce3b9c96b button.colab-df-convert');\n",
              "        buttonEl.style.display =\n",
              "          google.colab.kernel.accessAllowed ? 'block' : 'none';\n",
              "\n",
              "        async function convertToInteractive(key) {\n",
              "          const element = document.querySelector('#df-150b6b01-de94-48ba-b4ba-e5cce3b9c96b');\n",
              "          const dataTable =\n",
              "            await google.colab.kernel.invokeFunction('convertToInteractive',\n",
              "                                                     [key], {});\n",
              "          if (!dataTable) return;\n",
              "\n",
              "          const docLinkHtml = 'Like what you see? Visit the ' +\n",
              "            '<a target=\"_blank\" href=https://colab.research.google.com/notebooks/data_table.ipynb>data table notebook</a>'\n",
              "            + ' to learn more about interactive tables.';\n",
              "          element.innerHTML = '';\n",
              "          dataTable['output_type'] = 'display_data';\n",
              "          await google.colab.output.renderOutput(dataTable, element);\n",
              "          const docLink = document.createElement('div');\n",
              "          docLink.innerHTML = docLinkHtml;\n",
              "          element.appendChild(docLink);\n",
              "        }\n",
              "      </script>\n",
              "    </div>\n",
              "  </div>\n",
              "  "
            ]
          },
          "metadata": {},
          "execution_count": 100
        }
      ]
    },
    {
      "cell_type": "code",
      "source": [],
      "metadata": {
        "id": "gXEHm8aNwSgJ"
      },
      "execution_count": null,
      "outputs": []
    }
  ]
}